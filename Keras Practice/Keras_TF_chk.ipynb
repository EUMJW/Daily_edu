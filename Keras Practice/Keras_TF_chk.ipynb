{
 "cells": [
  {
   "cell_type": "markdown",
   "metadata": {},
   "source": [
    "### Keras & Tensor Flow 설치 확인"
   ]
  },
  {
   "cell_type": "code",
   "execution_count": 2,
   "metadata": {},
   "outputs": [
    {
     "name": "stdout",
     "output_type": "stream",
     "text": [
      "텐서플로우 버전 =  1.14.0\n",
      "케라스 버전 =  2.3.1\n"
     ]
    }
   ],
   "source": [
    "import numpy as np\n",
    "import tensorflow as tf\n",
    "import keras as k\n",
    "\n",
    "print(\"텐서플로우 버전 = \", tf.__version__)\n",
    "print(\"케라스 버전 = \", k.__version__)"
   ]
  },
  {
   "cell_type": "markdown",
   "metadata": {},
   "source": [
    "# Ch1 : Keras시작 (p. 50)"
   ]
  },
  {
   "cell_type": "code",
   "execution_count": 11,
   "metadata": {},
   "outputs": [
    {
     "name": "stdout",
     "output_type": "stream",
     "text": [
      "Input [2 3 4]\n",
      "Targets [5 7 9]\n",
      "Predict [4.947427 6.909385 8.871344]\n"
     ]
    }
   ],
   "source": [
    "import numpy as np\n",
    "import tensorflow as tf\n",
    "import keras as k\n",
    "\n",
    "# 데이터\n",
    "x = np.array([0, 1, 2, 3, 4])\n",
    "y = x*2+1\n",
    "\n",
    "# 모델링\n",
    "model = k.models.Sequential()                    # 모델 초기화\n",
    "model.add(k.layers.Dense(1,input_shape=(1,)))    # 계층 추가\n",
    "model.compile('SGD', 'mse')                      # 모델링\n",
    "\n",
    "# 모델 학습\n",
    "model.fit(x[:2], y[:2], epochs=1000, verbose=0)\n",
    "\n",
    "#출력\n",
    "print('Input', x[2:])\n",
    "print('Targets', y[2:])\n",
    "print('Predict', model.predict(x[2:]).flatten())\n",
    "\n"
   ]
  },
  {
   "cell_type": "code",
   "execution_count": null,
   "metadata": {},
   "outputs": [],
   "source": []
  }
 ],
 "metadata": {
  "kernelspec": {
   "display_name": "Python 3",
   "language": "python",
   "name": "python3"
  },
  "language_info": {
   "codemirror_mode": {
    "name": "ipython",
    "version": 3
   },
   "file_extension": ".py",
   "mimetype": "text/x-python",
   "name": "python",
   "nbconvert_exporter": "python",
   "pygments_lexer": "ipython3",
   "version": "3.6.10"
  }
 },
 "nbformat": 4,
 "nbformat_minor": 4
}
