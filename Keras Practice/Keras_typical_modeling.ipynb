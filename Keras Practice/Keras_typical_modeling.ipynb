{
 "cells": [
  {
   "cell_type": "code",
   "execution_count": 3,
   "metadata": {},
   "outputs": [
    {
     "name": "stdout",
     "output_type": "stream",
     "text": [
      "Epoch 1/5\n",
      "60000/60000 [==============================] - 6s 99us/step - loss: 0.6562 - accuracy: 0.8368\n",
      "Epoch 2/5\n",
      "60000/60000 [==============================] - 6s 94us/step - loss: 0.3435 - accuracy: 0.9048\n",
      "Epoch 3/5\n",
      "60000/60000 [==============================] - 6s 97us/step - loss: 0.2969 - accuracy: 0.9166\n",
      "Epoch 4/5\n",
      "60000/60000 [==============================] - 6s 94us/step - loss: 0.2682 - accuracy: 0.9238\n",
      "Epoch 5/5\n",
      "60000/60000 [==============================] - 6s 92us/step - loss: 0.2464 - accuracy: 0.9306\n",
      "## training loss and acc ##\n",
      "[0.6562303798993429, 0.34347898023525875, 0.2969044370492299, 0.26822727167606353, 0.24639100630184016]\n",
      "[0.83676666, 0.9048167, 0.91656667, 0.9238333, 0.93065]\n",
      "10000/10000 [==============================] - 0s 49us/step\n",
      "## evaluation loss and_metrics ##\n",
      "[0.231820846375823, 0.9347000122070312]\n",
      "## yhat ##\n",
      "[[1.2275210e-04 4.4872399e-09 2.7774114e-04 1.7110712e-03 9.7946156e-07\n",
      "  3.6076595e-05 1.1439724e-08 9.9727696e-01 1.2408322e-05 5.6208397e-04]]\n"
     ]
    }
   ],
   "source": [
    "# 0. 사용할 패키지 불러오기\n",
    "from keras.utils import np_utils\n",
    "from keras.datasets import mnist\n",
    "from keras.models import Sequential\n",
    "from keras.layers import Dense, Activation\n",
    "import numpy as np\n",
    "\n",
    "# 1. 데이터셋 생성하기\n",
    "(x_train, y_train), (x_test, y_test) = mnist.load_data()\n",
    "x_train = x_train.reshape(60000, 784).astype('float32') / 255.0\n",
    "x_test = x_test.reshape(10000, 784).astype('float32') / 255.0\n",
    "y_train = np_utils.to_categorical(y_train)\n",
    "y_test = np_utils.to_categorical(y_test)\n",
    "\n",
    "# 2. 모델 구성하기\n",
    "model = Sequential()\n",
    "model.add(Dense(units=64, input_dim=28*28, activation='relu'))\n",
    "model.add(Dense(units=10, activation='softmax'))\n",
    "\n",
    "# 3. 모델 학습과정 설정하기\n",
    "model.compile(loss='categorical_crossentropy', optimizer='sgd', metrics=['accuracy'])\n",
    "\n",
    "# 4. 모델 학습시키기\n",
    "hist = model.fit(x_train, y_train, epochs=5, batch_size=32)\n",
    "\n",
    "# 5. 학습과정 살펴보기\n",
    "print('## training loss and acc ##')\n",
    "print(hist.history['loss'])\n",
    "print(hist.history['accuracy'])\n",
    "\n",
    "# 6. 모델 평가하기\n",
    "loss_and_metrics = model.evaluate(x_test, y_test, batch_size=32)\n",
    "print('## evaluation loss and_metrics ##')\n",
    "print(loss_and_metrics)\n",
    "\n",
    "# 7. 모델 사용하기\n",
    "xhat = x_test[0:1]\n",
    "yhat = model.predict(xhat)\n",
    "print('## yhat ##')\n",
    "print(yhat)"
   ]
  },
  {
   "cell_type": "code",
   "execution_count": null,
   "metadata": {},
   "outputs": [],
   "source": []
  }
 ],
 "metadata": {
  "kernelspec": {
   "display_name": "Python 3",
   "language": "python",
   "name": "python3"
  },
  "language_info": {
   "codemirror_mode": {
    "name": "ipython",
    "version": 3
   },
   "file_extension": ".py",
   "mimetype": "text/x-python",
   "name": "python",
   "nbconvert_exporter": "python",
   "pygments_lexer": "ipython3",
   "version": "3.6.10"
  }
 },
 "nbformat": 4,
 "nbformat_minor": 4
}
