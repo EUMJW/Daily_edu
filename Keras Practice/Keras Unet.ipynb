{
 "cells": [
  {
   "cell_type": "markdown",
   "metadata": {},
   "source": [
    "## Keras UNET"
   ]
  },
  {
   "cell_type": "code",
   "execution_count": 2,
   "metadata": {},
   "outputs": [],
   "source": [
    "import matplotlib.pyplot as plt\n",
    "from keras import backend\n",
    "from keras import datasets\n",
    "from keras import layers, models\n",
    "import numpy as np"
   ]
  },
  {
   "cell_type": "code",
   "execution_count": 3,
   "metadata": {},
   "outputs": [],
   "source": [
    "class UNET(models.Model):\n",
    "\tdef __init__(self, org_shape, n_ch):\n",
    "\t\tchannel_index = 3 if backend.image_data_format() == 'channels_last' else 1\n",
    "\n",
    "\t\tdef conv(x, n_f, mp_flag=True):\n",
    "\t\t\tx = layers.MaxPooling2D((2, 2), padding='same')(x) if mp_flag else x\n",
    "\t\t\tx = layers.Conv2D(n_f, (3, 3), padding='same')(x)\n",
    "\t\t\tx = layers.BatchNormalization()(x)\n",
    "\t\t\tx = layers.Activation('tanh')(x)\n",
    "\t\t\tx = layers.Conv2D(n_f, (3, 3), padding='same')(x)\n",
    "\t\t\tx = layers.BatchNormalization()(x)\n",
    "\t\t\tx = layers.Activation('tanh')(x)\n",
    "\t\t\treturn x\n",
    "\n",
    "\t\tdef deconv_unet(x, e, n_f):\n",
    "\t\t\tx = layers.UpSampling2D((2, 2))(x)\n",
    "\t\t\tx = layers.Concatenate(axis=channel_index)([x, e])\n",
    "\t\t\tx = layers.Conv2D(n_f, (3, 3), padding='same')(x)\n",
    "\t\t\tx = layers.BatchNormalization()(x)\n",
    "\t\t\tx = layers.Activation('tanh')(x)\n",
    "\t\t\tx = layers.Conv2D(n_f, (3, 3), padding='same')(x)\n",
    "\t\t\tx = layers.BatchNormalization()(x)\n",
    "\t\t\tx = layers.Activation('tanh')(x)\n",
    "\t\t\treturn x\n",
    "\n",
    "\t\toriginal = layers.Input(shape=org_shape)\n",
    "\n",
    "\t\tc1 = conv(original, 16, False)\n",
    "\t\tc2 = conv(c1, 32)\n",
    "\t\tencoded = conv(c2, 64)\n",
    "\n",
    "\t\tx = deconv_unet(encoded, c2, 32)\n",
    "\t\tx = deconv_unet(x, c1, 16)\n",
    "\t\tdecoded = layers.Conv2D(n_ch, (3, 3), activation='sigmoid',\n",
    "\t\t                        padding='same')(x)\n",
    "\n",
    "\t\tsuper().__init__(original, decoded)\n",
    "\t\tself.compile(optimizer='adadelta', loss='mse')\n"
   ]
  },
  {
   "cell_type": "code",
   "execution_count": 4,
   "metadata": {},
   "outputs": [],
   "source": [
    "class DATA():\n",
    "\tdef __init__(self):\n",
    "\t\t(x_train, y_train), (x_test, y_test) = datasets.cifar10.load_data()\n",
    "\n",
    "\t\tif backend.image_data_format() == 'channels_first':\n",
    "\t\t\tn_ch, img_rows, img_cols = x_train.shape[1:]\n",
    "\t\t\tinput_shape = (1, img_rows, img_cols)\n",
    "\t\telse:\n",
    "\t\t\timg_rows, img_cols, n_ch = x_train.shape[1:]\n",
    "\t\t\tinput_shape = (img_rows, img_cols, 1)\n",
    "\n",
    "\t\tx_train = x_train.astype('float32') / 255.0\n",
    "\t\tx_test = x_test.astype('float32') / 255.0\n",
    "\n",
    "\t\tdef RGB2Gray(img, fmt):\n",
    "\t\t\tif fmt == 'channels_first':\n",
    "\t\t\t\tR = img[:, 0:1]\n",
    "\t\t\t\tG = img[:, 1:2]\n",
    "\t\t\t\tB = img[:, 2:3]\n",
    "\t\t\telse:\n",
    "\t\t\t\tR = img[..., 0:1]\n",
    "\t\t\t\tG = img[..., 1:2]\n",
    "\t\t\t\tB = img[..., 2:3]\n",
    "\t\t\treturn 0.299 * R + 0.587 * G + 0.114 * B\n",
    "\n",
    "\t\tx_train_in = RGB2Gray(x_train, backend.image_data_format())\n",
    "\t\tx_test_in = RGB2Gray(x_test, backend.image_data_format())\n",
    "\n",
    "\t\tself.input_shape = input_shape\n",
    "\t\tself.x_train_in, self.x_train_out = x_train_in, x_train\n",
    "\t\tself.x_test_in, self.x_test_out = x_test_in, x_test\n",
    "\t\tself.n_ch = n_ch\n"
   ]
  },
  {
   "cell_type": "code",
   "execution_count": 5,
   "metadata": {},
   "outputs": [],
   "source": [
    "def plot_loss(history):\n",
    "\tplt.plot(history.history['loss'])\n",
    "\tplt.plot(history.history['val_loss'])\n",
    "\tplt.title('Model Loss')\n",
    "\tplt.ylabel('Loss')\n",
    "\tplt.xlabel('Epoch')\n",
    "\tplt.legend(['Train', 'Test'], loc=0)"
   ]
  },
  {
   "cell_type": "code",
   "execution_count": 6,
   "metadata": {},
   "outputs": [],
   "source": [
    "def plot_acc(history):\n",
    "\tplt.plot(history.history['acc'])\n",
    "\tplt.plot(history.history['val_acc'])\n",
    "\tplt.title('Model accuracy')\n",
    "\tplt.ylabel('Accuracy')\n",
    "\tplt.xlabel('Epoch')\n",
    "\tplt.legend(['Train', 'Test'], loc=0)"
   ]
  },
  {
   "cell_type": "code",
   "execution_count": 7,
   "metadata": {},
   "outputs": [],
   "source": [
    "def show_images(in_imgs, out_imgs, unet, sample_size=10):\n",
    "\tx_test_in = in_imgs[:sample_size]\n",
    "\tx_test_out = out_imgs[:sample_size]\n",
    "\tdecoded_imgs = unet.predict(x_test_in, batch_size=sample_size)\n",
    "\n",
    "\tprint(\"Before\")\n",
    "\tprint(\"x_test_in:\", x_test_in.shape)\n",
    "\tprint(\"decoded_imgs:\", decoded_imgs.shape)\n",
    "\tprint(\"x_test_out:\", x_test_out.shape)\n",
    "\n",
    "\tif backend.image_data_format() == 'channels_first':\n",
    "\t\tx_test_out = x_test_out.swapaxes(1, 3).swapaxes(1, 2)\n",
    "\t\tdecoded_imgs = decoded_imgs.swapaxes(1, 3).swapaxes(1, 2)\n",
    "\n",
    "\t\tx_test_in = x_test_in[:, 0, ...]\n",
    "\telse:\n",
    "\t\tx_test_in = x_test_in[..., 0]\n",
    "\n",
    "\tprint(\"After\")\n",
    "\tprint(\"x_test_in:\", x_test_in.shape)\n",
    "\tprint(\"decoded_imgs:\", decoded_imgs.shape)\n",
    "\tprint(\"x_test_out:\", x_test_out.shape)\n",
    "\n",
    "\tplt.figure(figsize=(20, 6))\n",
    "\tfor i in range(sample_size):\n",
    "\t\tax = plt.subplot(3, sample_size, i + 1)\n",
    "\t\tplt.imshow(x_test_in[i])\n",
    "\t\tax.get_xaxis().set_visible(False)\n",
    "\t\tax.get_yaxis().set_visible(False)\n",
    "\n",
    "\t\tax = plt.subplot(3, sample_size, i + 1 + sample_size)\n",
    "\t\tplt.imshow(decoded_imgs[i])\n",
    "\t\tax.get_xaxis().set_visible(False)\n",
    "\t\tax.get_yaxis().set_visible(False)\n",
    "\n",
    "\t\tax = plt.subplot(3, sample_size, i + 1 + sample_size * 2)\n",
    "\t\tplt.imshow(x_test_out[i])\n",
    "\t\tax.get_xaxis().set_visible(False)\n",
    "\t\tax.get_yaxis().set_visible(False)\n",
    "\n",
    "\tplt.show()\n"
   ]
  },
  {
   "cell_type": "code",
   "execution_count": 8,
   "metadata": {},
   "outputs": [
    {
     "name": "stdout",
     "output_type": "stream",
     "text": [
      "WARNING:tensorflow:From C:\\Users\\seonc\\anaconda3\\envs\\keras\\lib\\site-packages\\keras\\backend\\tensorflow_backend.py:4070: The name tf.nn.max_pool is deprecated. Please use tf.nn.max_pool2d instead.\n",
      "\n",
      "WARNING:tensorflow:From C:\\Users\\seonc\\anaconda3\\envs\\keras\\lib\\site-packages\\keras\\backend\\tensorflow_backend.py:422: The name tf.global_variables is deprecated. Please use tf.compat.v1.global_variables instead.\n",
      "\n",
      "Train on 40000 samples, validate on 10000 samples\n",
      "Epoch 1/10\n"
     ]
    },
    {
     "ename": "KeyboardInterrupt",
     "evalue": "",
     "output_type": "error",
     "traceback": [
      "\u001b[1;31m---------------------------------------------------------------------------\u001b[0m",
      "\u001b[1;31mKeyboardInterrupt\u001b[0m                         Traceback (most recent call last)",
      "\u001b[1;32m<ipython-input-8-abc336bd688d>\u001b[0m in \u001b[0;36m<module>\u001b[1;34m\u001b[0m\n\u001b[0;32m     15\u001b[0m \u001b[1;33m\u001b[0m\u001b[0m\n\u001b[0;32m     16\u001b[0m \u001b[1;32mif\u001b[0m \u001b[0m__name__\u001b[0m \u001b[1;33m==\u001b[0m \u001b[1;34m'__main__'\u001b[0m\u001b[1;33m:\u001b[0m\u001b[1;33m\u001b[0m\u001b[1;33m\u001b[0m\u001b[0m\n\u001b[1;32m---> 17\u001b[1;33m         \u001b[0mmain\u001b[0m\u001b[1;33m(\u001b[0m\u001b[1;33m)\u001b[0m\u001b[1;33m\u001b[0m\u001b[1;33m\u001b[0m\u001b[0m\n\u001b[0m",
      "\u001b[1;32m<ipython-input-8-abc336bd688d>\u001b[0m in \u001b[0;36mmain\u001b[1;34m(epochs, batch_size)\u001b[0m\n\u001b[0;32m      8\u001b[0m                            \u001b[0mshuffle\u001b[0m\u001b[1;33m=\u001b[0m\u001b[1;32mTrue\u001b[0m\u001b[1;33m,\u001b[0m\u001b[1;33m\u001b[0m\u001b[1;33m\u001b[0m\u001b[0m\n\u001b[0;32m      9\u001b[0m                            \u001b[0mvalidation_split\u001b[0m\u001b[1;33m=\u001b[0m\u001b[1;36m0.2\u001b[0m\u001b[1;33m,\u001b[0m\u001b[1;33m\u001b[0m\u001b[1;33m\u001b[0m\u001b[0m\n\u001b[1;32m---> 10\u001b[1;33m \t                   verbose=2)\n\u001b[0m\u001b[0;32m     11\u001b[0m \u001b[1;33m\u001b[0m\u001b[0m\n\u001b[0;32m     12\u001b[0m         \u001b[0mplot_loss\u001b[0m\u001b[1;33m(\u001b[0m\u001b[0mhistory\u001b[0m\u001b[1;33m)\u001b[0m\u001b[1;33m\u001b[0m\u001b[1;33m\u001b[0m\u001b[0m\n",
      "\u001b[1;32m~\\anaconda3\\envs\\keras\\lib\\site-packages\\keras\\engine\\training.py\u001b[0m in \u001b[0;36mfit\u001b[1;34m(self, x, y, batch_size, epochs, verbose, callbacks, validation_split, validation_data, shuffle, class_weight, sample_weight, initial_epoch, steps_per_epoch, validation_steps, validation_freq, max_queue_size, workers, use_multiprocessing, **kwargs)\u001b[0m\n\u001b[0;32m   1237\u001b[0m                                         \u001b[0msteps_per_epoch\u001b[0m\u001b[1;33m=\u001b[0m\u001b[0msteps_per_epoch\u001b[0m\u001b[1;33m,\u001b[0m\u001b[1;33m\u001b[0m\u001b[1;33m\u001b[0m\u001b[0m\n\u001b[0;32m   1238\u001b[0m                                         \u001b[0mvalidation_steps\u001b[0m\u001b[1;33m=\u001b[0m\u001b[0mvalidation_steps\u001b[0m\u001b[1;33m,\u001b[0m\u001b[1;33m\u001b[0m\u001b[1;33m\u001b[0m\u001b[0m\n\u001b[1;32m-> 1239\u001b[1;33m                                         validation_freq=validation_freq)\n\u001b[0m\u001b[0;32m   1240\u001b[0m \u001b[1;33m\u001b[0m\u001b[0m\n\u001b[0;32m   1241\u001b[0m     def evaluate(self,\n",
      "\u001b[1;32m~\\anaconda3\\envs\\keras\\lib\\site-packages\\keras\\engine\\training_arrays.py\u001b[0m in \u001b[0;36mfit_loop\u001b[1;34m(model, fit_function, fit_inputs, out_labels, batch_size, epochs, verbose, callbacks, val_function, val_inputs, shuffle, initial_epoch, steps_per_epoch, validation_steps, validation_freq)\u001b[0m\n\u001b[0;32m    194\u001b[0m                     \u001b[0mins_batch\u001b[0m\u001b[1;33m[\u001b[0m\u001b[0mi\u001b[0m\u001b[1;33m]\u001b[0m \u001b[1;33m=\u001b[0m \u001b[0mins_batch\u001b[0m\u001b[1;33m[\u001b[0m\u001b[0mi\u001b[0m\u001b[1;33m]\u001b[0m\u001b[1;33m.\u001b[0m\u001b[0mtoarray\u001b[0m\u001b[1;33m(\u001b[0m\u001b[1;33m)\u001b[0m\u001b[1;33m\u001b[0m\u001b[1;33m\u001b[0m\u001b[0m\n\u001b[0;32m    195\u001b[0m \u001b[1;33m\u001b[0m\u001b[0m\n\u001b[1;32m--> 196\u001b[1;33m                 \u001b[0mouts\u001b[0m \u001b[1;33m=\u001b[0m \u001b[0mfit_function\u001b[0m\u001b[1;33m(\u001b[0m\u001b[0mins_batch\u001b[0m\u001b[1;33m)\u001b[0m\u001b[1;33m\u001b[0m\u001b[1;33m\u001b[0m\u001b[0m\n\u001b[0m\u001b[0;32m    197\u001b[0m                 \u001b[0mouts\u001b[0m \u001b[1;33m=\u001b[0m \u001b[0mto_list\u001b[0m\u001b[1;33m(\u001b[0m\u001b[0mouts\u001b[0m\u001b[1;33m)\u001b[0m\u001b[1;33m\u001b[0m\u001b[1;33m\u001b[0m\u001b[0m\n\u001b[0;32m    198\u001b[0m                 \u001b[1;32mfor\u001b[0m \u001b[0ml\u001b[0m\u001b[1;33m,\u001b[0m \u001b[0mo\u001b[0m \u001b[1;32min\u001b[0m \u001b[0mzip\u001b[0m\u001b[1;33m(\u001b[0m\u001b[0mout_labels\u001b[0m\u001b[1;33m,\u001b[0m \u001b[0mouts\u001b[0m\u001b[1;33m)\u001b[0m\u001b[1;33m:\u001b[0m\u001b[1;33m\u001b[0m\u001b[1;33m\u001b[0m\u001b[0m\n",
      "\u001b[1;32m~\\anaconda3\\envs\\keras\\lib\\site-packages\\tensorflow\\python\\keras\\backend.py\u001b[0m in \u001b[0;36m__call__\u001b[1;34m(self, inputs)\u001b[0m\n\u001b[0;32m   3290\u001b[0m \u001b[1;33m\u001b[0m\u001b[0m\n\u001b[0;32m   3291\u001b[0m     fetched = self._callable_fn(*array_vals,\n\u001b[1;32m-> 3292\u001b[1;33m                                 run_metadata=self.run_metadata)\n\u001b[0m\u001b[0;32m   3293\u001b[0m     \u001b[0mself\u001b[0m\u001b[1;33m.\u001b[0m\u001b[0m_call_fetch_callbacks\u001b[0m\u001b[1;33m(\u001b[0m\u001b[0mfetched\u001b[0m\u001b[1;33m[\u001b[0m\u001b[1;33m-\u001b[0m\u001b[0mlen\u001b[0m\u001b[1;33m(\u001b[0m\u001b[0mself\u001b[0m\u001b[1;33m.\u001b[0m\u001b[0m_fetches\u001b[0m\u001b[1;33m)\u001b[0m\u001b[1;33m:\u001b[0m\u001b[1;33m]\u001b[0m\u001b[1;33m)\u001b[0m\u001b[1;33m\u001b[0m\u001b[1;33m\u001b[0m\u001b[0m\n\u001b[0;32m   3294\u001b[0m     output_structure = nest.pack_sequence_as(\n",
      "\u001b[1;32m~\\anaconda3\\envs\\keras\\lib\\site-packages\\tensorflow\\python\\client\\session.py\u001b[0m in \u001b[0;36m__call__\u001b[1;34m(self, *args, **kwargs)\u001b[0m\n\u001b[0;32m   1456\u001b[0m         ret = tf_session.TF_SessionRunCallable(self._session._session,\n\u001b[0;32m   1457\u001b[0m                                                \u001b[0mself\u001b[0m\u001b[1;33m.\u001b[0m\u001b[0m_handle\u001b[0m\u001b[1;33m,\u001b[0m \u001b[0margs\u001b[0m\u001b[1;33m,\u001b[0m\u001b[1;33m\u001b[0m\u001b[1;33m\u001b[0m\u001b[0m\n\u001b[1;32m-> 1458\u001b[1;33m                                                run_metadata_ptr)\n\u001b[0m\u001b[0;32m   1459\u001b[0m         \u001b[1;32mif\u001b[0m \u001b[0mrun_metadata\u001b[0m\u001b[1;33m:\u001b[0m\u001b[1;33m\u001b[0m\u001b[1;33m\u001b[0m\u001b[0m\n\u001b[0;32m   1460\u001b[0m           \u001b[0mproto_data\u001b[0m \u001b[1;33m=\u001b[0m \u001b[0mtf_session\u001b[0m\u001b[1;33m.\u001b[0m\u001b[0mTF_GetBuffer\u001b[0m\u001b[1;33m(\u001b[0m\u001b[0mrun_metadata_ptr\u001b[0m\u001b[1;33m)\u001b[0m\u001b[1;33m\u001b[0m\u001b[1;33m\u001b[0m\u001b[0m\n",
      "\u001b[1;31mKeyboardInterrupt\u001b[0m: "
     ]
    }
   ],
   "source": [
    "def main(epochs=10, batch_size=128):\n",
    "\tdata = DATA()\n",
    "\tunet = UNET(data.input_shape, data.n_ch)\n",
    "\n",
    "\thistory = unet.fit(data.x_train_in, data.x_train_out,\n",
    "\t                   epochs=epochs,\n",
    "\t                   batch_size=batch_size,\n",
    "\t                   shuffle=True,\n",
    "\t                   validation_split=0.2,\n",
    "\t                   verbose=2)\n",
    "\n",
    "\tplot_loss(history)\n",
    "\tshow_images(data.x_test_in, data.x_test_out, unet)\n",
    "\n",
    "\n",
    "if __name__ == '__main__':\n",
    "\tmain()"
   ]
  },
  {
   "cell_type": "code",
   "execution_count": null,
   "metadata": {},
   "outputs": [],
   "source": []
  },
  {
   "cell_type": "code",
   "execution_count": null,
   "metadata": {},
   "outputs": [],
   "source": []
  },
  {
   "cell_type": "code",
   "execution_count": null,
   "metadata": {},
   "outputs": [],
   "source": []
  },
  {
   "cell_type": "code",
   "execution_count": null,
   "metadata": {},
   "outputs": [],
   "source": []
  }
 ],
 "metadata": {
  "kernelspec": {
   "display_name": "Python 3",
   "language": "python",
   "name": "python3"
  },
  "language_info": {
   "codemirror_mode": {
    "name": "ipython",
    "version": 3
   },
   "file_extension": ".py",
   "mimetype": "text/x-python",
   "name": "python",
   "nbconvert_exporter": "python",
   "pygments_lexer": "ipython3",
   "version": "3.6.10"
  }
 },
 "nbformat": 4,
 "nbformat_minor": 4
}
