{
  "nbformat": 4,
  "nbformat_minor": 0,
  "metadata": {
    "colab": {
      "name": "TreeModel.ipynb",
      "provenance": []
    },
    "kernelspec": {
      "name": "python3",
      "display_name": "Python 3"
    },
    "accelerator": "GPU"
  },
  "cells": [
    {
      "cell_type": "code",
      "metadata": {
        "id": "a-XHSPN7gHkc",
        "colab_type": "code",
        "colab": {}
      },
      "source": [
        "import numpy as np\n",
        "import pandas as pd\n",
        "from sklearn import datasets\n",
        "from sklearn import tree\n",
        "from sklearn.preprocessing import MinMaxScaler, StandardScaler, RobustScaler, MaxAbsScaler\n",
        "from sklearn.ensemble import RandomForestRegressor, AdaBoostRegressor,GradientBoostingRegressor, VotingRegressor\n",
        "from sklearn.model_selection import train_test_split,GridSearchCV, KFold, RandomizedSearchCV\n",
        "from sklearn.pipeline import make_pipeline"
      ],
      "execution_count": 45,
      "outputs": []
    },
    {
      "cell_type": "code",
      "metadata": {
        "id": "VcigQI7TgKWL",
        "colab_type": "code",
        "colab": {}
      },
      "source": [
        "dataset = datasets.load_boston()\n",
        "x_data = np.array(dataset.data, dtype='f8')\n",
        "y_data = np.array(dataset.target, dtype='f8')"
      ],
      "execution_count": 2,
      "outputs": []
    },
    {
      "cell_type": "code",
      "metadata": {
        "id": "_FH8hFLYgOX5",
        "colab_type": "code",
        "colab": {}
      },
      "source": [
        ""
      ],
      "execution_count": 43,
      "outputs": []
    },
    {
      "cell_type": "code",
      "metadata": {
        "id": "auYttn4DalAr",
        "colab_type": "code",
        "colab": {}
      },
      "source": [
        "x_train, x_test, y_train, y_test = train_test_split(x_data, y_data, test_size=0.2, random_state=2152)"
      ],
      "execution_count": 3,
      "outputs": []
    },
    {
      "cell_type": "code",
      "metadata": {
        "id": "7du6Aj3rgKj7",
        "colab_type": "code",
        "colab": {
          "base_uri": "https://localhost:8080/",
          "height": 35
        },
        "outputId": "857e7b2b-8bf8-407a-9dc9-a911c636ecf8"
      },
      "source": [
        "y_test.shape"
      ],
      "execution_count": 4,
      "outputs": [
        {
          "output_type": "execute_result",
          "data": {
            "text/plain": [
              "(102,)"
            ]
          },
          "metadata": {
            "tags": []
          },
          "execution_count": 4
        }
      ]
    },
    {
      "cell_type": "code",
      "metadata": {
        "id": "fOXg4MszbSYg",
        "colab_type": "code",
        "colab": {}
      },
      "source": [
        ""
      ],
      "execution_count": 4,
      "outputs": []
    },
    {
      "cell_type": "code",
      "metadata": {
        "id": "80lBxjBzg0KQ",
        "colab_type": "code",
        "colab": {
          "base_uri": "https://localhost:8080/",
          "height": 54
        },
        "outputId": "f869162f-a463-4d58-e34d-efa747935155"
      },
      "source": [
        "kfold = KFold(n_splits=5, shuffle=True, random_state=2152)\n",
        "print(kfold)\n",
        "kfold.get_n_splits(x_train,y_train)\n",
        "print(kfold)"
      ],
      "execution_count": 24,
      "outputs": [
        {
          "output_type": "stream",
          "text": [
            "KFold(n_splits=5, random_state=2152, shuffle=True)\n",
            "KFold(n_splits=5, random_state=2152, shuffle=True)\n"
          ],
          "name": "stdout"
        }
      ]
    },
    {
      "cell_type": "code",
      "metadata": {
        "id": "1GYowlNqhkoG",
        "colab_type": "code",
        "colab": {}
      },
      "source": [
        "DT = tree.DecisionTreeRegressor()"
      ],
      "execution_count": 6,
      "outputs": []
    },
    {
      "cell_type": "code",
      "metadata": {
        "id": "M24kgY5lh0ZH",
        "colab_type": "code",
        "colab": {}
      },
      "source": [
        "DT = DT.fit(x_train, y_train)"
      ],
      "execution_count": 7,
      "outputs": []
    },
    {
      "cell_type": "code",
      "metadata": {
        "id": "44xUu0Zah3Z9",
        "colab_type": "code",
        "colab": {
          "base_uri": "https://localhost:8080/",
          "height": 90
        },
        "outputId": "cd29c749-6d3d-4a1a-d141-eba95218c127"
      },
      "source": [
        "print(DT.feature_importances_)"
      ],
      "execution_count": 8,
      "outputs": [
        {
          "output_type": "stream",
          "text": [
            "[3.98884024e-02 1.57838703e-03 3.09693408e-03 3.97139269e-05\n",
            " 1.94050567e-02 2.82520117e-01 7.27240928e-03 6.96803495e-02\n",
            " 6.92411925e-04 1.03307287e-02 3.51175249e-02 5.70749197e-03\n",
            " 5.24670473e-01]\n"
          ],
          "name": "stdout"
        }
      ]
    },
    {
      "cell_type": "code",
      "metadata": {
        "id": "-zsmWoAtjGOq",
        "colab_type": "code",
        "colab": {}
      },
      "source": [
        "RF = RandomForestRegressor(random_state=2152)"
      ],
      "execution_count": 9,
      "outputs": []
    },
    {
      "cell_type": "code",
      "metadata": {
        "id": "KbSKaxKE3Y9v",
        "colab_type": "code",
        "colab": {}
      },
      "source": [
        "RF = RF.fit(x_train, y_train)"
      ],
      "execution_count": 10,
      "outputs": []
    },
    {
      "cell_type": "code",
      "metadata": {
        "id": "R_0kST2Z34RD",
        "colab_type": "code",
        "colab": {
          "base_uri": "https://localhost:8080/",
          "height": 72
        },
        "outputId": "61b2a830-9098-41b8-a35d-4c105c45ff7a"
      },
      "source": [
        "print(RF.feature_importances_)"
      ],
      "execution_count": 11,
      "outputs": [
        {
          "output_type": "stream",
          "text": [
            "[0.03925089 0.00134612 0.0052216  0.00062473 0.01911799 0.34688514\n",
            " 0.0129015  0.05466519 0.00406036 0.01394559 0.0199461  0.01179777\n",
            " 0.47023702]\n"
          ],
          "name": "stdout"
        }
      ]
    },
    {
      "cell_type": "code",
      "metadata": {
        "id": "c4_8YgnCYRa4",
        "colab_type": "code",
        "colab": {}
      },
      "source": [
        "AB = AdaBoostRegressor(n_estimators=60, random_state=2152)"
      ],
      "execution_count": 12,
      "outputs": []
    },
    {
      "cell_type": "code",
      "metadata": {
        "id": "PDBepZ62YRdn",
        "colab_type": "code",
        "colab": {}
      },
      "source": [
        "AB = AB.fit(x_train, y_train)"
      ],
      "execution_count": 13,
      "outputs": []
    },
    {
      "cell_type": "code",
      "metadata": {
        "id": "jI35CONfaZ_Y",
        "colab_type": "code",
        "colab": {
          "base_uri": "https://localhost:8080/",
          "height": 90
        },
        "outputId": "c9e83dfb-7e84-4863-c797-9f5f81942187"
      },
      "source": [
        "print(AB.feature_importances_)"
      ],
      "execution_count": 14,
      "outputs": [
        {
          "output_type": "stream",
          "text": [
            "[2.89181049e-02 3.33908987e-04 2.58223733e-02 2.50551918e-03\n",
            " 4.83905160e-02 1.91327837e-01 7.45383677e-03 1.43458163e-01\n",
            " 1.69572147e-02 5.03242986e-02 7.73607890e-02 9.64783398e-03\n",
            " 3.97499604e-01]\n"
          ],
          "name": "stdout"
        }
      ]
    },
    {
      "cell_type": "code",
      "metadata": {
        "id": "RrjfAhUwYRgj",
        "colab_type": "code",
        "colab": {}
      },
      "source": [
        "GB = GradientBoostingRegressor(n_estimators=100, random_state=2152)"
      ],
      "execution_count": 15,
      "outputs": []
    },
    {
      "cell_type": "code",
      "metadata": {
        "id": "JJ_dgzliYRjd",
        "colab_type": "code",
        "colab": {}
      },
      "source": [
        "GB = GB.fit(x_train, y_train)"
      ],
      "execution_count": 16,
      "outputs": []
    },
    {
      "cell_type": "code",
      "metadata": {
        "id": "ExHuWp7SYRmP",
        "colab_type": "code",
        "colab": {
          "base_uri": "https://localhost:8080/",
          "height": 72
        },
        "outputId": "12b12fc5-478a-4170-97ae-39f6876eaf71"
      },
      "source": [
        "print(GB.feature_importances_)"
      ],
      "execution_count": 17,
      "outputs": [
        {
          "output_type": "stream",
          "text": [
            "[0.02274596 0.0006442  0.00657924 0.00080208 0.03217446 0.33840867\n",
            " 0.00613826 0.08254749 0.00487854 0.00726185 0.03862516 0.01035625\n",
            " 0.44883784]\n"
          ],
          "name": "stdout"
        }
      ]
    },
    {
      "cell_type": "code",
      "metadata": {
        "id": "o7Gd4OSAYRpG",
        "colab_type": "code",
        "colab": {}
      },
      "source": [
        ""
      ],
      "execution_count": 17,
      "outputs": []
    },
    {
      "cell_type": "code",
      "metadata": {
        "id": "HVIviuduYRsA",
        "colab_type": "code",
        "colab": {}
      },
      "source": [
        ""
      ],
      "execution_count": 17,
      "outputs": []
    },
    {
      "cell_type": "code",
      "metadata": {
        "id": "REYZ2XNX36tp",
        "colab_type": "code",
        "colab": {}
      },
      "source": [
        "ensemble = VotingRegressor(estimators=[('DecisionTree',DT),('RandomForest',RF),('AdaBoost',AB),('GradientBoost',GB)])"
      ],
      "execution_count": 18,
      "outputs": []
    },
    {
      "cell_type": "code",
      "metadata": {
        "id": "OtnXuPKUUnA-",
        "colab_type": "code",
        "colab": {}
      },
      "source": [
        "parameters = [{\n",
        "    'DecisionTree__max_depth':[4,6], \n",
        "    'RandomForest__max_depth':[4,6],\n",
        "    'RandomForest__n_estimators':[50,100],\n",
        "    'AdaBoost__n_estimators':[50,100],\n",
        "    'GradientBoost__max_depth':[4,6],\n",
        "    'GradientBoost__n_estimators':[50,100]\n",
        "\n",
        "}]\n",
        "\n",
        "model = GridSearchCV(\n",
        "    estimator=ensemble, \n",
        "    param_grid=parameters, \n",
        "    cv=kfold,\n",
        "    n_jobs=4\n",
        "    )"
      ],
      "execution_count": 59,
      "outputs": []
    },
    {
      "cell_type": "code",
      "metadata": {
        "id": "VXucCS9OVKwd",
        "colab_type": "code",
        "colab": {
          "base_uri": "https://localhost:8080/",
          "height": 435
        },
        "outputId": "2d18c9e2-3bc3-491f-c268-cde91c71a35c"
      },
      "source": [
        "model.fit(x_train, y_train)"
      ],
      "execution_count": 26,
      "outputs": [
        {
          "output_type": "execute_result",
          "data": {
            "text/plain": [
              "GridSearchCV(cv=KFold(n_splits=5, random_state=2152, shuffle=True),\n",
              "             error_score=nan,\n",
              "             estimator=VotingRegressor(estimators=[('DecisionTree',\n",
              "                                                    DecisionTreeRegressor(ccp_alpha=0.0,\n",
              "                                                                          criterion='mse',\n",
              "                                                                          max_depth=None,\n",
              "                                                                          max_features=None,\n",
              "                                                                          max_leaf_nodes=None,\n",
              "                                                                          min_impurity_decrease=0.0,\n",
              "                                                                          min_impurity_split=None,\n",
              "                                                                          min_samples_leaf=1,\n",
              "                                                                          min_samples_split=2,\n",
              "                                                                          min_weight_fraction_l...\n",
              "                                       n_jobs=None, weights=None),\n",
              "             iid='deprecated', n_jobs=4,\n",
              "             param_grid=[{'AdaBoost__n_estimators': [50, 100],\n",
              "                          'DecisionTree__max_depth': [4, 6],\n",
              "                          'GradientBoost__max_depth': [4, 6],\n",
              "                          'GradientBoost__n_estimators': [50, 100],\n",
              "                          'RandomForest__max_depth': [4, 6],\n",
              "                          'RandomForest__n_estimators': [50, 100]}],\n",
              "             pre_dispatch='2*n_jobs', refit=True, return_train_score=False,\n",
              "             scoring=None, verbose=0)"
            ]
          },
          "metadata": {
            "tags": []
          },
          "execution_count": 26
        }
      ]
    },
    {
      "cell_type": "code",
      "metadata": {
        "id": "UaL1zb69oYMI",
        "colab_type": "code",
        "colab": {
          "base_uri": "https://localhost:8080/",
          "height": 55
        },
        "outputId": "58afee43-545f-442e-aa99-2dab8862cdba"
      },
      "source": [
        "ensemble.get_params().keys()"
      ],
      "execution_count": 67,
      "outputs": [
        {
          "output_type": "execute_result",
          "data": {
            "text/plain": [
              "dict_keys(['estimators', 'n_jobs', 'weights', 'DecisionTree', 'RandomForest', 'AdaBoost', 'GradientBoost', 'DecisionTree__ccp_alpha', 'DecisionTree__criterion', 'DecisionTree__max_depth', 'DecisionTree__max_features', 'DecisionTree__max_leaf_nodes', 'DecisionTree__min_impurity_decrease', 'DecisionTree__min_impurity_split', 'DecisionTree__min_samples_leaf', 'DecisionTree__min_samples_split', 'DecisionTree__min_weight_fraction_leaf', 'DecisionTree__presort', 'DecisionTree__random_state', 'DecisionTree__splitter', 'RandomForest__bootstrap', 'RandomForest__ccp_alpha', 'RandomForest__criterion', 'RandomForest__max_depth', 'RandomForest__max_features', 'RandomForest__max_leaf_nodes', 'RandomForest__max_samples', 'RandomForest__min_impurity_decrease', 'RandomForest__min_impurity_split', 'RandomForest__min_samples_leaf', 'RandomForest__min_samples_split', 'RandomForest__min_weight_fraction_leaf', 'RandomForest__n_estimators', 'RandomForest__n_jobs', 'RandomForest__oob_score', 'RandomForest__random_state', 'RandomForest__verbose', 'RandomForest__warm_start', 'AdaBoost__base_estimator', 'AdaBoost__learning_rate', 'AdaBoost__loss', 'AdaBoost__n_estimators', 'AdaBoost__random_state', 'GradientBoost__alpha', 'GradientBoost__ccp_alpha', 'GradientBoost__criterion', 'GradientBoost__init', 'GradientBoost__learning_rate', 'GradientBoost__loss', 'GradientBoost__max_depth', 'GradientBoost__max_features', 'GradientBoost__max_leaf_nodes', 'GradientBoost__min_impurity_decrease', 'GradientBoost__min_impurity_split', 'GradientBoost__min_samples_leaf', 'GradientBoost__min_samples_split', 'GradientBoost__min_weight_fraction_leaf', 'GradientBoost__n_estimators', 'GradientBoost__n_iter_no_change', 'GradientBoost__presort', 'GradientBoost__random_state', 'GradientBoost__subsample', 'GradientBoost__tol', 'GradientBoost__validation_fraction', 'GradientBoost__verbose', 'GradientBoost__warm_start'])"
            ]
          },
          "metadata": {
            "tags": []
          },
          "execution_count": 67
        }
      ]
    },
    {
      "cell_type": "code",
      "metadata": {
        "id": "_dIDXNC2p0YD",
        "colab_type": "code",
        "colab": {
          "base_uri": "https://localhost:8080/",
          "height": 35
        },
        "outputId": "83ff9f7f-61fe-425e-c790-9481a4e1e2dc"
      },
      "source": [
        "model.score(x_test,y_test)"
      ],
      "execution_count": 27,
      "outputs": [
        {
          "output_type": "execute_result",
          "data": {
            "text/plain": [
              "0.8905115130311674"
            ]
          },
          "metadata": {
            "tags": []
          },
          "execution_count": 27
        }
      ]
    },
    {
      "cell_type": "code",
      "metadata": {
        "id": "6h_1-xK2rirY",
        "colab_type": "code",
        "colab": {
          "base_uri": "https://localhost:8080/",
          "height": 35
        },
        "outputId": "5e437f76-93fa-4baa-9ce6-102f4da07a22"
      },
      "source": [
        "model.best_score_"
      ],
      "execution_count": 30,
      "outputs": [
        {
          "output_type": "execute_result",
          "data": {
            "text/plain": [
              "0.8230225846556081"
            ]
          },
          "metadata": {
            "tags": []
          },
          "execution_count": 30
        }
      ]
    },
    {
      "cell_type": "code",
      "metadata": {
        "id": "MuuIGTKduCUj",
        "colab_type": "code",
        "colab": {
          "base_uri": "https://localhost:8080/",
          "height": 126
        },
        "outputId": "8ff65456-3b1c-4853-b247-bc0b95746947"
      },
      "source": [
        "model.best_params_"
      ],
      "execution_count": 31,
      "outputs": [
        {
          "output_type": "execute_result",
          "data": {
            "text/plain": [
              "{'AdaBoost__n_estimators': 100,\n",
              " 'DecisionTree__max_depth': 6,\n",
              " 'GradientBoost__max_depth': 4,\n",
              " 'GradientBoost__n_estimators': 100,\n",
              " 'RandomForest__max_depth': 6,\n",
              " 'RandomForest__n_estimators': 100}"
            ]
          },
          "metadata": {
            "tags": []
          },
          "execution_count": 31
        }
      ]
    },
    {
      "cell_type": "code",
      "metadata": {
        "id": "NJWkGGky_6J_",
        "colab_type": "code",
        "colab": {}
      },
      "source": [
        "scaler = [MinMaxScaler(),StandardScaler(),RobustScaler(),MaxAbsScaler()]"
      ],
      "execution_count": 60,
      "outputs": []
    },
    {
      "cell_type": "code",
      "metadata": {
        "id": "I2zjN5GiuFpr",
        "colab_type": "code",
        "colab": {
          "base_uri": "https://localhost:8080/",
          "height": 399
        },
        "outputId": "909aafac-94f6-40bf-c61a-a4245de649ba"
      },
      "source": [
        "for sc in scaler:\n",
        "  x_data = np.array(dataset.data, dtype='f8')\n",
        "  y_data = np.array(dataset.target, dtype='f8')\n",
        "  x_data = sc.fit_transform(x_data)\n",
        "  x_train, x_test, y_train, y_test = train_test_split(x_data, y_data, test_size=0.2, random_state=2152)\n",
        "  model.fit(x_train, y_train)\n",
        "  print(f\"Scaler : {sc} \\nBestScore : {model.best_score_} \\nBestParams : {model.best_params_}\")\n",
        "  print(f\"ModelScore : {model.score(x_test,y_test)} \\n ==========\")"
      ],
      "execution_count": 62,
      "outputs": [
        {
          "output_type": "stream",
          "text": [
            "Scaler : MinMaxScaler(copy=True, feature_range=(0, 1)) \n",
            "BestScore : 0.8254755887006932 \n",
            "BestParams : {'AdaBoost__n_estimators': 50, 'DecisionTree__max_depth': 6, 'GradientBoost__max_depth': 4, 'GradientBoost__n_estimators': 100, 'RandomForest__max_depth': 6, 'RandomForest__n_estimators': 50}\n",
            "ModelScore : 0.8925245533916384 \n",
            " ==========\n",
            "Scaler : StandardScaler(copy=True, with_mean=True, with_std=True) \n",
            "BestScore : 0.8257818512234415 \n",
            "BestParams : {'AdaBoost__n_estimators': 50, 'DecisionTree__max_depth': 6, 'GradientBoost__max_depth': 4, 'GradientBoost__n_estimators': 100, 'RandomForest__max_depth': 6, 'RandomForest__n_estimators': 100}\n",
            "ModelScore : 0.8919608904181375 \n",
            " ==========\n",
            "Scaler : RobustScaler(copy=True, quantile_range=(25.0, 75.0), with_centering=True,\n",
            "             with_scaling=True) \n",
            "BestScore : 0.8247918165814984 \n",
            "BestParams : {'AdaBoost__n_estimators': 50, 'DecisionTree__max_depth': 6, 'GradientBoost__max_depth': 4, 'GradientBoost__n_estimators': 100, 'RandomForest__max_depth': 6, 'RandomForest__n_estimators': 100}\n",
            "ModelScore : 0.8859308932974114 \n",
            " ==========\n",
            "Scaler : MaxAbsScaler(copy=True) \n",
            "BestScore : 0.8244735294895763 \n",
            "BestParams : {'AdaBoost__n_estimators': 100, 'DecisionTree__max_depth': 6, 'GradientBoost__max_depth': 4, 'GradientBoost__n_estimators': 50, 'RandomForest__max_depth': 6, 'RandomForest__n_estimators': 100}\n",
            "ModelScore : 0.8905569241946933 \n",
            " ==========\n"
          ],
          "name": "stdout"
        }
      ]
    },
    {
      "cell_type": "code",
      "metadata": {
        "id": "L56cw6zj2BfK",
        "colab_type": "code",
        "colab": {}
      },
      "source": [
        ""
      ],
      "execution_count": 43,
      "outputs": []
    },
    {
      "cell_type": "code",
      "metadata": {
        "id": "naudZphL5-jc",
        "colab_type": "code",
        "colab": {}
      },
      "source": [
        "parameters2 = [{\n",
        "    'DecisionTree__max_depth':[4,6,8], \n",
        "    'RandomForest__max_depth':[4,6,8],\n",
        "    'RandomForest__n_estimators':[50,100,150],\n",
        "    'AdaBoost__n_estimators':[50,100,150],\n",
        "    'GradientBoost__max_depth':[4,6,8],\n",
        "    'GradientBoost__n_estimators':[50,100,150]\n",
        "\n",
        "}]\n",
        "\n",
        "model2 = RandomizedSearchCV(\n",
        "    estimator=ensemble,\n",
        "    param_distributions = parameters2, \n",
        "    cv=kfold,\n",
        "    n_iter=20,\n",
        "    n_jobs=4\n",
        "    )"
      ],
      "execution_count": 56,
      "outputs": []
    },
    {
      "cell_type": "code",
      "metadata": {
        "id": "1GH6ltBqDMwS",
        "colab_type": "code",
        "colab": {
          "base_uri": "https://localhost:8080/",
          "height": 399
        },
        "outputId": "10a90151-072c-4109-b950-7a7c64807414"
      },
      "source": [
        "scaler = [MinMaxScaler(),StandardScaler(),RobustScaler(),MaxAbsScaler()]\n",
        "\n",
        "for sc in scaler:\n",
        "  x_data = np.array(dataset.data, dtype='f8')\n",
        "  y_data = np.array(dataset.target, dtype='f8')\n",
        "  x_data = sc.fit_transform(x_data)\n",
        "  x_train, x_test, y_train, y_test = train_test_split(x_data, y_data, test_size=0.2, random_state=2152)\n",
        "  model2.fit(x_train, y_train)\n",
        "  print(f\"Scaler : {sc} \\nBestScore : {model2.best_score_} \\nBestParams : {model2.best_params_}\")\n",
        "  print(f\"ModelScore : {model2.score(x_test,y_test)} \\n ==========\")"
      ],
      "execution_count": 57,
      "outputs": [
        {
          "output_type": "stream",
          "text": [
            "Scaler : MinMaxScaler(copy=True, feature_range=(0, 1)) \n",
            "BestScore : 0.8267439841654742 \n",
            "BestParams : {'RandomForest__n_estimators': 150, 'RandomForest__max_depth': 6, 'GradientBoost__n_estimators': 100, 'GradientBoost__max_depth': 4, 'DecisionTree__max_depth': 6, 'AdaBoost__n_estimators': 150}\n",
            "ModelScore : 0.8933073091803947 \n",
            " ==========\n",
            "Scaler : StandardScaler(copy=True, with_mean=True, with_std=True) \n",
            "BestScore : 0.8248214085075027 \n",
            "BestParams : {'RandomForest__n_estimators': 150, 'RandomForest__max_depth': 8, 'GradientBoost__n_estimators': 100, 'GradientBoost__max_depth': 4, 'DecisionTree__max_depth': 8, 'AdaBoost__n_estimators': 50}\n",
            "ModelScore : 0.8832947372494151 \n",
            " ==========\n",
            "Scaler : RobustScaler(copy=True, quantile_range=(25.0, 75.0), with_centering=True,\n",
            "             with_scaling=True) \n",
            "BestScore : 0.8172226671216208 \n",
            "BestParams : {'RandomForest__n_estimators': 50, 'RandomForest__max_depth': 8, 'GradientBoost__n_estimators': 50, 'GradientBoost__max_depth': 4, 'DecisionTree__max_depth': 6, 'AdaBoost__n_estimators': 150}\n",
            "ModelScore : 0.8932416540513468 \n",
            " ==========\n",
            "Scaler : MaxAbsScaler(copy=True) \n",
            "BestScore : 0.8193430866329928 \n",
            "BestParams : {'RandomForest__n_estimators': 100, 'RandomForest__max_depth': 4, 'GradientBoost__n_estimators': 150, 'GradientBoost__max_depth': 4, 'DecisionTree__max_depth': 6, 'AdaBoost__n_estimators': 150}\n",
            "ModelScore : 0.8912125966167447 \n",
            " ==========\n"
          ],
          "name": "stdout"
        }
      ]
    },
    {
      "cell_type": "code",
      "metadata": {
        "id": "l0F3dmPHDgog",
        "colab_type": "code",
        "colab": {}
      },
      "source": [
        ""
      ],
      "execution_count": null,
      "outputs": []
    }
  ]
}