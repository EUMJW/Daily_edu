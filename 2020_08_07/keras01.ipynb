{
 "cells": [
  {
   "cell_type": "code",
   "execution_count": 48,
   "metadata": {},
   "outputs": [],
   "source": [
    "from keras.models import Sequential\n",
    "from keras.layers import Dense, LSTM, Activation,Conv2D\n",
    "from keras.utils import np_utils\n",
    "from keras.datasets import mnist\n",
    "from keras.layers.core import Flatten"
   ]
  },
  {
   "cell_type": "code",
   "execution_count": 2,
   "metadata": {},
   "outputs": [],
   "source": [
    "import numpy as np"
   ]
  },
  {
   "cell_type": "code",
   "execution_count": 3,
   "metadata": {},
   "outputs": [],
   "source": [
    "import tensorflow as tf\n",
    "import keras as k"
   ]
  },
  {
   "cell_type": "code",
   "execution_count": 4,
   "metadata": {},
   "outputs": [
    {
     "data": {
      "text/plain": [
       "'1.14.0'"
      ]
     },
     "execution_count": 4,
     "metadata": {},
     "output_type": "execute_result"
    }
   ],
   "source": [
    "tf.__version__"
   ]
  },
  {
   "cell_type": "code",
   "execution_count": 5,
   "metadata": {},
   "outputs": [
    {
     "data": {
      "text/plain": [
       "'2.3.1'"
      ]
     },
     "execution_count": 5,
     "metadata": {},
     "output_type": "execute_result"
    }
   ],
   "source": [
    "k.__version__"
   ]
  },
  {
   "cell_type": "code",
   "execution_count": 27,
   "metadata": {},
   "outputs": [],
   "source": []
  },
  {
   "cell_type": "code",
   "execution_count": 75,
   "metadata": {},
   "outputs": [],
   "source": [
    "(x_train, y_train), (x_test, y_test) = mnist.load_data()\n",
    "x_train = x_train.reshape(60000,784).astype('float32') /255.0\n",
    "x_test = x_test.reshape(10000,784).astype('float32')/255.0\n",
    "y_train = np_utils.to_categorical(y_train)\n",
    "y_test = np_utils.to_categorical(y_test)"
   ]
  },
  {
   "cell_type": "code",
   "execution_count": 71,
   "metadata": {},
   "outputs": [
    {
     "name": "stdout",
     "output_type": "stream",
     "text": [
      "(60000, 784)\n"
     ]
    }
   ],
   "source": [
    "print(x_train.shape)"
   ]
  },
  {
   "cell_type": "code",
   "execution_count": 76,
   "metadata": {},
   "outputs": [],
   "source": [
    "model = Sequential()\n",
    "model.add(Dense(32, input_shape = (784,), activation = 'relu'))\n",
    "model.add(Dense(10, activation = 'softmax'))"
   ]
  },
  {
   "cell_type": "code",
   "execution_count": 77,
   "metadata": {},
   "outputs": [
    {
     "name": "stdout",
     "output_type": "stream",
     "text": [
      "Model: \"sequential_12\"\n",
      "_________________________________________________________________\n",
      "Layer (type)                 Output Shape              Param #   \n",
      "=================================================================\n",
      "dense_18 (Dense)             (None, 32)                25120     \n",
      "_________________________________________________________________\n",
      "dense_19 (Dense)             (None, 10)                330       \n",
      "=================================================================\n",
      "Total params: 25,450\n",
      "Trainable params: 25,450\n",
      "Non-trainable params: 0\n",
      "_________________________________________________________________\n"
     ]
    }
   ],
   "source": [
    "model.summary()"
   ]
  },
  {
   "cell_type": "code",
   "execution_count": 104,
   "metadata": {},
   "outputs": [
    {
     "name": "stdout",
     "output_type": "stream",
     "text": [
      "Train on 48000 samples, validate on 12000 samples\n",
      "Epoch 1/15\n",
      "48000/48000 [==============================] - 4s 74us/step - loss: 0.1101 - acc: 0.9671 - val_loss: 0.1385 - val_acc: 0.9606\n",
      "Epoch 2/15\n",
      "48000/48000 [==============================] - 3s 73us/step - loss: 0.0992 - acc: 0.9708 - val_loss: 0.1513 - val_acc: 0.9567\n",
      "Epoch 3/15\n",
      "48000/48000 [==============================] - 4s 80us/step - loss: 0.0913 - acc: 0.9738 - val_loss: 0.1347 - val_acc: 0.9622\n",
      "Epoch 4/15\n",
      "48000/48000 [==============================] - 3s 71us/step - loss: 0.0841 - acc: 0.9750 - val_loss: 0.1291 - val_acc: 0.9629\n",
      "Epoch 5/15\n",
      "48000/48000 [==============================] - 4s 73us/step - loss: 0.0780 - acc: 0.9765 - val_loss: 0.1358 - val_acc: 0.9626\n",
      "Epoch 6/15\n",
      "48000/48000 [==============================] - 3s 70us/step - loss: 0.0718 - acc: 0.9791 - val_loss: 0.1444 - val_acc: 0.9603\n",
      "Epoch 7/15\n",
      "48000/48000 [==============================] - 4s 75us/step - loss: 0.0677 - acc: 0.9796 - val_loss: 0.1362 - val_acc: 0.9622\n",
      "Epoch 8/15\n",
      "48000/48000 [==============================] - 4s 74us/step - loss: 0.0635 - acc: 0.9810 - val_loss: 0.1353 - val_acc: 0.9638\n",
      "Epoch 9/15\n",
      "48000/48000 [==============================] - 4s 78us/step - loss: 0.0581 - acc: 0.9829 - val_loss: 0.1331 - val_acc: 0.9645\n",
      "Epoch 10/15\n",
      "48000/48000 [==============================] - 3s 72us/step - loss: 0.0555 - acc: 0.9831 - val_loss: 0.1329 - val_acc: 0.9651\n",
      "Epoch 11/15\n",
      "48000/48000 [==============================] - 4s 86us/step - loss: 0.0523 - acc: 0.9836 - val_loss: 0.1545 - val_acc: 0.9597\n",
      "Epoch 12/15\n",
      "48000/48000 [==============================] - 4s 89us/step - loss: 0.0488 - acc: 0.9858 - val_loss: 0.1437 - val_acc: 0.9628\n",
      "Epoch 13/15\n",
      "48000/48000 [==============================] - 4s 80us/step - loss: 0.0463 - acc: 0.9860 - val_loss: 0.1399 - val_acc: 0.9652\n",
      "Epoch 14/15\n",
      "48000/48000 [==============================] - 6s 116us/step - loss: 0.0436 - acc: 0.9872 - val_loss: 0.1433 - val_acc: 0.9640\n",
      "Epoch 15/15\n",
      "48000/48000 [==============================] - 8s 164us/step - loss: 0.0410 - acc: 0.9877 - val_loss: 0.1413 - val_acc: 0.9631\n"
     ]
    },
    {
     "data": {
      "text/plain": [
       "<keras.callbacks.callbacks.History at 0x1d9870a4e10>"
      ]
     },
     "execution_count": 104,
     "metadata": {},
     "output_type": "execute_result"
    }
   ],
   "source": [
    "model.compile(loss = 'categorical_crossentropy', optimizer = 'adam', metrics = ['acc'])\n",
    "model.fit(x_train, y_train, epochs = 15, batch_size=32, validation_split = 0.2)"
   ]
  },
  {
   "cell_type": "code",
   "execution_count": 85,
   "metadata": {},
   "outputs": [
    {
     "name": "stdout",
     "output_type": "stream",
     "text": [
      "10000/10000 [==============================] - 0s 35us/step\n",
      "loss : 0.13539266479872167     acc : 0.9602000117301941\n"
     ]
    }
   ],
   "source": [
    "loss, acc = model.evaluate(x_test, y_test, batch_size=32)\n",
    "print(f'loss : {loss}     acc : {acc}')"
   ]
  },
  {
   "cell_type": "code",
   "execution_count": null,
   "metadata": {},
   "outputs": [],
   "source": []
  },
  {
   "cell_type": "code",
   "execution_count": null,
   "metadata": {},
   "outputs": [],
   "source": []
  },
  {
   "cell_type": "code",
   "execution_count": 103,
   "metadata": {},
   "outputs": [
    {
     "name": "stdout",
     "output_type": "stream",
     "text": [
      " Y : 7        y_predict : 7\n",
      " Y : 2        y_predict : 2\n",
      " Y : 1        y_predict : 1\n",
      " Y : 0        y_predict : 0\n",
      " Y : 4        y_predict : 4\n",
      " Y : 1        y_predict : 1\n",
      " Y : 4        y_predict : 4\n",
      " Y : 9        y_predict : 9\n",
      " Y : 5        y_predict : 6                         Fail\n",
      " Y : 9        y_predict : 9\n",
      " Y : 0        y_predict : 0\n",
      " Y : 6        y_predict : 6\n",
      " Y : 9        y_predict : 9\n",
      " Y : 0        y_predict : 0\n",
      " Y : 1        y_predict : 1\n",
      " Y : 5        y_predict : 5\n",
      " Y : 9        y_predict : 9\n",
      " Y : 7        y_predict : 7\n",
      " Y : 3        y_predict : 3\n",
      " Y : 4        y_predict : 4\n",
      " Y : 9        y_predict : 9\n",
      " Y : 6        y_predict : 6\n",
      " Y : 6        y_predict : 6\n",
      " Y : 5        y_predict : 5\n",
      " Y : 4        y_predict : 4\n",
      " Y : 0        y_predict : 0\n",
      " Y : 7        y_predict : 7\n",
      " Y : 4        y_predict : 4\n",
      " Y : 0        y_predict : 0\n",
      " Y : 1        y_predict : 1\n",
      " Y : 3        y_predict : 3\n",
      " Y : 1        y_predict : 1\n",
      " Y : 3        y_predict : 3\n",
      " Y : 4        y_predict : 0                         Fail\n",
      " Y : 7        y_predict : 7\n",
      " Y : 2        y_predict : 2\n",
      " Y : 7        y_predict : 7\n",
      " Y : 1        y_predict : 1\n",
      " Y : 2        y_predict : 2\n",
      " Y : 1        y_predict : 1\n",
      " Y : 1        y_predict : 1\n",
      " Y : 7        y_predict : 7\n",
      " Y : 4        y_predict : 4\n",
      " Y : 2        y_predict : 2\n",
      " Y : 3        y_predict : 3\n",
      " Y : 5        y_predict : 5\n",
      " Y : 1        y_predict : 1\n",
      " Y : 2        y_predict : 2\n",
      " Y : 4        y_predict : 4\n",
      " Y : 4        y_predict : 4\n"
     ]
    }
   ],
   "source": [
    "for i in range(50):\n",
    "    x_hat = x_test[i:i+1]\n",
    "    y_hat = y_test[i:i+1]\n",
    "    y_predict = model.predict(x_hat)\n",
    "    print(f' Y : {np.argmax(y_hat)}        y_predict : {np.argmax(y_predict)}',end='')\n",
    "    if np.argmax(y_hat) != np.argmax(y_predict):\n",
    "        print('                         Fail')\n",
    "    else:\n",
    "        print('')"
   ]
  },
  {
   "cell_type": "code",
   "execution_count": null,
   "metadata": {},
   "outputs": [],
   "source": []
  },
  {
   "cell_type": "code",
   "execution_count": null,
   "metadata": {},
   "outputs": [],
   "source": []
  },
  {
   "cell_type": "code",
   "execution_count": null,
   "metadata": {},
   "outputs": [],
   "source": []
  },
  {
   "cell_type": "code",
   "execution_count": null,
   "metadata": {},
   "outputs": [],
   "source": []
  },
  {
   "cell_type": "code",
   "execution_count": null,
   "metadata": {},
   "outputs": [],
   "source": []
  },
  {
   "cell_type": "code",
   "execution_count": null,
   "metadata": {},
   "outputs": [],
   "source": []
  },
  {
   "cell_type": "code",
   "execution_count": null,
   "metadata": {},
   "outputs": [],
   "source": []
  },
  {
   "cell_type": "code",
   "execution_count": null,
   "metadata": {},
   "outputs": [],
   "source": []
  },
  {
   "cell_type": "code",
   "execution_count": null,
   "metadata": {},
   "outputs": [],
   "source": []
  },
  {
   "cell_type": "code",
   "execution_count": null,
   "metadata": {},
   "outputs": [],
   "source": []
  },
  {
   "cell_type": "code",
   "execution_count": null,
   "metadata": {},
   "outputs": [],
   "source": []
  }
 ],
 "metadata": {
  "kernelspec": {
   "display_name": "Python 3",
   "language": "python",
   "name": "python3"
  },
  "language_info": {
   "codemirror_mode": {
    "name": "ipython",
    "version": 3
   },
   "file_extension": ".py",
   "mimetype": "text/x-python",
   "name": "python",
   "nbconvert_exporter": "python",
   "pygments_lexer": "ipython3",
   "version": "3.6.10"
  }
 },
 "nbformat": 4,
 "nbformat_minor": 4
}
