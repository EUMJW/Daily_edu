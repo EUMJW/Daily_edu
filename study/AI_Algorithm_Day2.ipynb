{
 "cells": [
  {
   "cell_type": "code",
   "execution_count": 4,
   "metadata": {},
   "outputs": [
    {
     "data": {
      "text/plain": [
       "array([5.])"
      ]
     },
     "execution_count": 4,
     "metadata": {},
     "output_type": "execute_result"
    }
   ],
   "source": [
    "import numpy as np\n",
    "\n",
    "def ecludDist(inA, inB):\n",
    "    distance = np.sqrt(np.sum((inA-inB)**2, 0))\n",
    "    return distance\n",
    "\n",
    "x1 = np.array([[0],[0]])\n",
    "x2 = np.array([[3],[4]])\n",
    "\n",
    "ecludDist(x1, x2)"
   ]
  },
  {
   "cell_type": "code",
   "execution_count": 5,
   "metadata": {},
   "outputs": [
    {
     "ename": "TypeError",
     "evalue": "unsupported operand type(s) for -: 'list' and 'list'",
     "output_type": "error",
     "traceback": [
      "\u001b[1;31m---------------------------------------------------------------------------\u001b[0m",
      "\u001b[1;31mTypeError\u001b[0m                                 Traceback (most recent call last)",
      "\u001b[1;32m<ipython-input-5-b15d97a6afde>\u001b[0m in \u001b[0;36m<module>\u001b[1;34m\u001b[0m\n\u001b[1;32m----> 1\u001b[1;33m \u001b[0mecludDist\u001b[0m\u001b[1;33m(\u001b[0m\u001b[1;33m[\u001b[0m\u001b[1;36m1\u001b[0m\u001b[1;33m,\u001b[0m\u001b[1;36m0\u001b[0m\u001b[1;33m]\u001b[0m\u001b[1;33m,\u001b[0m\u001b[1;33m[\u001b[0m\u001b[1;36m0\u001b[0m\u001b[1;33m,\u001b[0m\u001b[1;36m1\u001b[0m\u001b[1;33m]\u001b[0m\u001b[1;33m)\u001b[0m\u001b[1;33m\u001b[0m\u001b[1;33m\u001b[0m\u001b[0m\n\u001b[0m",
      "\u001b[1;32m<ipython-input-4-ac1b674ce9c7>\u001b[0m in \u001b[0;36mecludDist\u001b[1;34m(inA, inB)\u001b[0m\n\u001b[0;32m      2\u001b[0m \u001b[1;33m\u001b[0m\u001b[0m\n\u001b[0;32m      3\u001b[0m \u001b[1;32mdef\u001b[0m \u001b[0mecludDist\u001b[0m\u001b[1;33m(\u001b[0m\u001b[0minA\u001b[0m\u001b[1;33m,\u001b[0m \u001b[0minB\u001b[0m\u001b[1;33m)\u001b[0m\u001b[1;33m:\u001b[0m\u001b[1;33m\u001b[0m\u001b[1;33m\u001b[0m\u001b[0m\n\u001b[1;32m----> 4\u001b[1;33m     \u001b[0mdistance\u001b[0m \u001b[1;33m=\u001b[0m \u001b[0mnp\u001b[0m\u001b[1;33m.\u001b[0m\u001b[0msqrt\u001b[0m\u001b[1;33m(\u001b[0m\u001b[0mnp\u001b[0m\u001b[1;33m.\u001b[0m\u001b[0msum\u001b[0m\u001b[1;33m(\u001b[0m\u001b[1;33m(\u001b[0m\u001b[0minA\u001b[0m\u001b[1;33m-\u001b[0m\u001b[0minB\u001b[0m\u001b[1;33m)\u001b[0m\u001b[1;33m**\u001b[0m\u001b[1;36m2\u001b[0m\u001b[1;33m,\u001b[0m \u001b[1;36m0\u001b[0m\u001b[1;33m)\u001b[0m\u001b[1;33m)\u001b[0m\u001b[1;33m\u001b[0m\u001b[1;33m\u001b[0m\u001b[0m\n\u001b[0m\u001b[0;32m      5\u001b[0m     \u001b[1;32mreturn\u001b[0m \u001b[0mdistance\u001b[0m\u001b[1;33m\u001b[0m\u001b[1;33m\u001b[0m\u001b[0m\n\u001b[0;32m      6\u001b[0m \u001b[1;33m\u001b[0m\u001b[0m\n",
      "\u001b[1;31mTypeError\u001b[0m: unsupported operand type(s) for -: 'list' and 'list'"
     ]
    }
   ],
   "source": [
    "ecludDist([1,0],[0,1])"
   ]
  },
  {
   "cell_type": "code",
   "execution_count": 19,
   "metadata": {},
   "outputs": [
    {
     "data": {
      "text/plain": [
       "array([[ 9, 16]], dtype=int32)"
      ]
     },
     "execution_count": 19,
     "metadata": {},
     "output_type": "execute_result"
    }
   ],
   "source": [
    "(x1 - x2)**2"
   ]
  },
  {
   "cell_type": "code",
   "execution_count": 114,
   "metadata": {},
   "outputs": [
    {
     "name": "stdout",
     "output_type": "stream",
     "text": [
      "['B' 'B' 'A']\n",
      "B\n"
     ]
    }
   ],
   "source": [
    "import numpy as np\n",
    "\n",
    "def ecludDist(inA, inB):\n",
    "    distance = np.sqrt(np.sum((inA-inB)**2, 1))\n",
    "    return distance\n",
    "\n",
    "def dist(point, group):\n",
    "    dist_list = list(np.argsort(list(ecludDist(point, group))))    \n",
    "    return dist_list\n",
    "\n",
    "def knn(test, train, labels, k=0):\n",
    "    ret_labels = []\n",
    "    if k == 0:\n",
    "        k = int(np.sqrt(len(train))) \n",
    "    \n",
    "    for td in test:\n",
    "        ret_labels = labels[dist(x,gr)[:k]]\n",
    "    \n",
    "    dic_labels = {}\n",
    "    for la in ret_labels:\n",
    "        try:\n",
    "            dic_labels[la] += 1\n",
    "        except:\n",
    "            dic_labels[la] = 1\n",
    "    \n",
    "    sort_labels = sorted(dic_labels.items(), key=lambda x: x[1], reverse=True)\n",
    "    return tuple(sort_labels)[0][0]\n",
    " \n",
    "\n",
    "x = np.array([[0,0]])\n",
    "gr = np.array([[4,4],[3,3],[2,2],[1,1]])\n",
    "labels = np.array(['A','A','B','B'])\n",
    "k = 3\n",
    "print(labels[dist(x,gr)[:k]])\n",
    "\n",
    "\n",
    "print(knn(x,gr,labels, 3))"
   ]
  },
  {
   "cell_type": "code",
   "execution_count": 64,
   "metadata": {},
   "outputs": [
    {
     "data": {
      "text/plain": [
       "array([5.65685425, 4.24264069, 2.82842712, 1.41421356])"
      ]
     },
     "execution_count": 64,
     "metadata": {},
     "output_type": "execute_result"
    }
   ],
   "source": [
    "ecludDist(x,gr)"
   ]
  },
  {
   "cell_type": "code",
   "execution_count": 40,
   "metadata": {},
   "outputs": [
    {
     "data": {
      "text/plain": [
       "array([0, 2, 1], dtype=int64)"
      ]
     },
     "execution_count": 40,
     "metadata": {},
     "output_type": "execute_result"
    }
   ],
   "source": [
    "np.argsort([1,5,3])"
   ]
  },
  {
   "cell_type": "code",
   "execution_count": 79,
   "metadata": {},
   "outputs": [],
   "source": [
    "dataset = np.loadtxt(\"datingTestSet2.txt\", delimiter='\\t', dtype='float16')"
   ]
  },
  {
   "cell_type": "code",
   "execution_count": 80,
   "metadata": {},
   "outputs": [
    {
     "data": {
      "text/plain": [
       "(1000, 4)"
      ]
     },
     "execution_count": 80,
     "metadata": {},
     "output_type": "execute_result"
    }
   ],
   "source": [
    "dataset.shape"
   ]
  },
  {
   "cell_type": "code",
   "execution_count": 81,
   "metadata": {},
   "outputs": [
    {
     "data": {
      "text/plain": [
       "array([[4.093e+04, 8.328e+00, 9.541e-01, 3.000e+00],\n",
       "       [1.449e+04, 7.152e+00, 1.674e+00, 2.000e+00],\n",
       "       [2.605e+04, 1.441e+00, 8.052e-01, 1.000e+00],\n",
       "       [      inf, 1.315e+01, 4.290e-01, 1.000e+00],\n",
       "       [3.834e+04, 1.670e+00, 1.343e-01, 1.000e+00]], dtype=float16)"
      ]
     },
     "execution_count": 81,
     "metadata": {},
     "output_type": "execute_result"
    }
   ],
   "source": [
    "dataset[0:5,:]"
   ]
  },
  {
   "cell_type": "code",
   "execution_count": 86,
   "metadata": {},
   "outputs": [],
   "source": [
    "trainData = dataset[0:900,0:3]\n",
    "trainLabels = dataset[0:900,3]\n",
    "testData = dataset[900:,0:3]\n",
    "testLabels = dataset[900:,3]"
   ]
  },
  {
   "cell_type": "code",
   "execution_count": 90,
   "metadata": {},
   "outputs": [
    {
     "name": "stdout",
     "output_type": "stream",
     "text": [
      "(900, 3) (900,) (100, 3) (100,)\n"
     ]
    }
   ],
   "source": [
    "print(trainData.shape, trainLabels.shape, testData.shape, testLabels.shape)"
   ]
  },
  {
   "cell_type": "code",
   "execution_count": 95,
   "metadata": {},
   "outputs": [
    {
     "name": "stderr",
     "output_type": "stream",
     "text": [
      "C:\\Users\\ilifo\\anaconda3\\lib\\site-packages\\ipykernel_launcher.py:4: RuntimeWarning: overflow encountered in square\n",
      "  after removing the cwd from sys.path.\n"
     ]
    },
    {
     "data": {
      "text/plain": [
       "array([3., 3., 3., 1., 3., 1., 1., 1., 1., 2., 1., 3., 1., 2., 3., 3., 1.,\n",
       "       3., 1., 1., 2., 2., 2., 3., 2., 2., 2., 1., 1., 3.], dtype=float16)"
      ]
     },
     "execution_count": 95,
     "metadata": {},
     "output_type": "execute_result"
    }
   ],
   "source": [
    "trainLabels[dist(testData[0,:],trainData)[:30]]"
   ]
  },
  {
   "cell_type": "code",
   "execution_count": null,
   "metadata": {},
   "outputs": [],
   "source": []
  },
  {
   "cell_type": "code",
   "execution_count": null,
   "metadata": {},
   "outputs": [],
   "source": [
    "knn(testData, trainData, trainLabels, 30)"
   ]
  },
  {
   "cell_type": "code",
   "execution_count": null,
   "metadata": {},
   "outputs": [],
   "source": []
  }
 ],
 "metadata": {
  "kernelspec": {
   "display_name": "Python 3",
   "language": "python",
   "name": "python3"
  },
  "language_info": {
   "codemirror_mode": {
    "name": "ipython",
    "version": 3
   },
   "file_extension": ".py",
   "mimetype": "text/x-python",
   "name": "python",
   "nbconvert_exporter": "python",
   "pygments_lexer": "ipython3",
   "version": "3.7.6"
  }
 },
 "nbformat": 4,
 "nbformat_minor": 4
}
