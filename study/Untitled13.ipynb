{
 "cells": [
  {
   "cell_type": "code",
   "execution_count": 73,
   "metadata": {},
   "outputs": [],
   "source": [
    "from tensorflow.keras.models import Sequential\n",
    "from tensorflow.keras.layers import Dense\n",
    "from tensorflow.keras.layers import Activation\n",
    "import numpy as np\n",
    "import tensorflow as tf"
   ]
  },
  {
   "cell_type": "code",
   "execution_count": 20,
   "metadata": {},
   "outputs": [],
   "source": [
    "x_data = np.array([1,2,3,4,5,6,7,8,9,10])\n",
    "y_data = np.array([1,2,3,4,5,1,2,3,4,5])"
   ]
  },
  {
   "cell_type": "code",
   "execution_count": 21,
   "metadata": {},
   "outputs": [],
   "source": [
    "x_train = x_data[:8]\n",
    "x_test = x_data[8:]\n",
    "\n",
    "y_train = y_data[:8]\n",
    "y_test = y_data[8:]"
   ]
  },
  {
   "cell_type": "code",
   "execution_count": 22,
   "metadata": {},
   "outputs": [
    {
     "data": {
      "text/plain": [
       "array([1, 2, 3, 4, 5, 1, 2, 3, 4, 5])"
      ]
     },
     "execution_count": 22,
     "metadata": {},
     "output_type": "execute_result"
    }
   ],
   "source": [
    "y_data"
   ]
  },
  {
   "cell_type": "code",
   "execution_count": 86,
   "metadata": {},
   "outputs": [],
   "source": [
    "model = Sequential()\n",
    "model.add(Dense(128, input_dim= 1, activation = 'relu'))\n",
    "model.add(Dense(64, activation = 'relu'))\n",
    "model.add(Dense(6, activation = 'softmax'))"
   ]
  },
  {
   "cell_type": "code",
   "execution_count": 87,
   "metadata": {},
   "outputs": [
    {
     "name": "stdout",
     "output_type": "stream",
     "text": [
      "Train on 6 samples, validate on 2 samples\n",
      "Epoch 1/100\n",
      "6/6 [==============================] - 0s 44ms/sample - loss: 1.7179 - accuracy: 0.3333 - val_loss: 2.2376 - val_accuracy: 0.0000e+00\n",
      "Epoch 2/100\n",
      "6/6 [==============================] - 0s 2ms/sample - loss: 1.6942 - accuracy: 0.3333 - val_loss: 2.2516 - val_accuracy: 0.0000e+00\n",
      "Epoch 3/100\n",
      "6/6 [==============================] - 0s 2ms/sample - loss: 1.6741 - accuracy: 0.3333 - val_loss: 2.2714 - val_accuracy: 0.0000e+00\n",
      "Epoch 4/100\n",
      "6/6 [==============================] - 0s 2ms/sample - loss: 1.6573 - accuracy: 0.3333 - val_loss: 2.3000 - val_accuracy: 0.0000e+00\n",
      "Epoch 5/100\n",
      "6/6 [==============================] - 0s 3ms/sample - loss: 1.6442 - accuracy: 0.3333 - val_loss: 2.3402 - val_accuracy: 0.0000e+00\n",
      "Epoch 6/100\n",
      "6/6 [==============================] - 0s 3ms/sample - loss: 1.6329 - accuracy: 0.3333 - val_loss: 2.3831 - val_accuracy: 0.0000e+00\n",
      "Epoch 7/100\n",
      "6/6 [==============================] - 0s 2ms/sample - loss: 1.6232 - accuracy: 0.3333 - val_loss: 2.4410 - val_accuracy: 0.0000e+00\n",
      "Epoch 8/100\n",
      "6/6 [==============================] - 0s 3ms/sample - loss: 1.6152 - accuracy: 0.3333 - val_loss: 2.4998 - val_accuracy: 0.0000e+00\n",
      "Epoch 9/100\n",
      "6/6 [==============================] - 0s 2ms/sample - loss: 1.6084 - accuracy: 0.3333 - val_loss: 2.5505 - val_accuracy: 0.0000e+00\n",
      "Epoch 10/100\n",
      "6/6 [==============================] - 0s 3ms/sample - loss: 1.6026 - accuracy: 0.3333 - val_loss: 2.5892 - val_accuracy: 0.0000e+00\n",
      "Epoch 11/100\n",
      "6/6 [==============================] - 0s 2ms/sample - loss: 1.5968 - accuracy: 0.3333 - val_loss: 2.6098 - val_accuracy: 0.0000e+00\n",
      "Epoch 12/100\n",
      "6/6 [==============================] - 0s 3ms/sample - loss: 1.5924 - accuracy: 0.3333 - val_loss: 2.6393 - val_accuracy: 0.0000e+00\n",
      "Epoch 13/100\n",
      "6/6 [==============================] - 0s 2ms/sample - loss: 1.5893 - accuracy: 0.3333 - val_loss: 2.6782 - val_accuracy: 0.0000e+00\n",
      "Epoch 14/100\n",
      "6/6 [==============================] - 0s 2ms/sample - loss: 1.5858 - accuracy: 0.3333 - val_loss: 2.7110 - val_accuracy: 0.0000e+00\n",
      "Epoch 15/100\n",
      "6/6 [==============================] - 0s 2ms/sample - loss: 1.5827 - accuracy: 0.3333 - val_loss: 2.7373 - val_accuracy: 0.0000e+00\n",
      "Epoch 16/100\n",
      "6/6 [==============================] - 0s 2ms/sample - loss: 1.5800 - accuracy: 0.3333 - val_loss: 2.7574 - val_accuracy: 0.0000e+00\n",
      "Epoch 17/100\n",
      "6/6 [==============================] - 0s 2ms/sample - loss: 1.5774 - accuracy: 0.3333 - val_loss: 2.7719 - val_accuracy: 0.0000e+00\n",
      "Epoch 18/100\n",
      "6/6 [==============================] - 0s 2ms/sample - loss: 1.5748 - accuracy: 0.3333 - val_loss: 2.7814 - val_accuracy: 0.0000e+00\n",
      "Epoch 19/100\n",
      "6/6 [==============================] - 0s 2ms/sample - loss: 1.5724 - accuracy: 0.3333 - val_loss: 2.7866 - val_accuracy: 0.0000e+00\n",
      "Epoch 20/100\n",
      "6/6 [==============================] - 0s 2ms/sample - loss: 1.5697 - accuracy: 0.3333 - val_loss: 2.7879 - val_accuracy: 0.0000e+00\n",
      "Epoch 21/100\n",
      "6/6 [==============================] - 0s 2ms/sample - loss: 1.5672 - accuracy: 0.3333 - val_loss: 2.7821 - val_accuracy: 0.0000e+00\n",
      "Epoch 22/100\n",
      "6/6 [==============================] - 0s 3ms/sample - loss: 1.5649 - accuracy: 0.3333 - val_loss: 2.7732 - val_accuracy: 0.0000e+00\n",
      "Epoch 23/100\n",
      "6/6 [==============================] - 0s 3ms/sample - loss: 1.5627 - accuracy: 0.3333 - val_loss: 2.7623 - val_accuracy: 0.0000e+00\n",
      "Epoch 24/100\n",
      "6/6 [==============================] - 0s 3ms/sample - loss: 1.5606 - accuracy: 0.3333 - val_loss: 2.7496 - val_accuracy: 0.0000e+00\n",
      "Epoch 25/100\n",
      "6/6 [==============================] - 0s 2ms/sample - loss: 1.5586 - accuracy: 0.3333 - val_loss: 2.7356 - val_accuracy: 0.0000e+00\n",
      "Epoch 26/100\n",
      "6/6 [==============================] - 0s 3ms/sample - loss: 1.5567 - accuracy: 0.3333 - val_loss: 2.7208 - val_accuracy: 0.0000e+00\n",
      "Epoch 27/100\n",
      "6/6 [==============================] - 0s 2ms/sample - loss: 1.5548 - accuracy: 0.3333 - val_loss: 2.7064 - val_accuracy: 0.0000e+00\n",
      "Epoch 28/100\n",
      "6/6 [==============================] - 0s 3ms/sample - loss: 1.5530 - accuracy: 0.3333 - val_loss: 2.6933 - val_accuracy: 0.0000e+00\n",
      "Epoch 29/100\n",
      "6/6 [==============================] - 0s 2ms/sample - loss: 1.5512 - accuracy: 0.3333 - val_loss: 2.6827 - val_accuracy: 0.0000e+00\n",
      "Epoch 30/100\n",
      "6/6 [==============================] - 0s 2ms/sample - loss: 1.5495 - accuracy: 0.3333 - val_loss: 2.6759 - val_accuracy: 0.0000e+00\n",
      "Epoch 31/100\n",
      "6/6 [==============================] - 0s 2ms/sample - loss: 1.5478 - accuracy: 0.3333 - val_loss: 2.6735 - val_accuracy: 0.0000e+00\n",
      "Epoch 32/100\n",
      "6/6 [==============================] - 0s 2ms/sample - loss: 1.5463 - accuracy: 0.3333 - val_loss: 2.6735 - val_accuracy: 0.0000e+00\n",
      "Epoch 33/100\n",
      "6/6 [==============================] - 0s 2ms/sample - loss: 1.5448 - accuracy: 0.3333 - val_loss: 2.6765 - val_accuracy: 0.0000e+00\n",
      "Epoch 34/100\n",
      "6/6 [==============================] - 0s 3ms/sample - loss: 1.5433 - accuracy: 0.3333 - val_loss: 2.6793 - val_accuracy: 0.0000e+00\n",
      "Epoch 35/100\n",
      "6/6 [==============================] - 0s 2ms/sample - loss: 1.5418 - accuracy: 0.3333 - val_loss: 2.6836 - val_accuracy: 0.0000e+00\n",
      "Epoch 36/100\n",
      "6/6 [==============================] - 0s 3ms/sample - loss: 1.5403 - accuracy: 0.3333 - val_loss: 2.6898 - val_accuracy: 0.0000e+00\n",
      "Epoch 37/100\n",
      "6/6 [==============================] - 0s 2ms/sample - loss: 1.5389 - accuracy: 0.3333 - val_loss: 2.6966 - val_accuracy: 0.0000e+00\n",
      "Epoch 38/100\n",
      "6/6 [==============================] - 0s 2ms/sample - loss: 1.5372 - accuracy: 0.3333 - val_loss: 2.7031 - val_accuracy: 0.0000e+00\n",
      "Epoch 39/100\n",
      "6/6 [==============================] - 0s 3ms/sample - loss: 1.5353 - accuracy: 0.3333 - val_loss: 2.7092 - val_accuracy: 0.0000e+00\n",
      "Epoch 40/100\n",
      "6/6 [==============================] - 0s 2ms/sample - loss: 1.5342 - accuracy: 0.3333 - val_loss: 2.7153 - val_accuracy: 0.0000e+00\n",
      "Epoch 41/100\n",
      "6/6 [==============================] - 0s 2ms/sample - loss: 1.5324 - accuracy: 0.3333 - val_loss: 2.7219 - val_accuracy: 0.0000e+00\n",
      "Epoch 42/100\n",
      "6/6 [==============================] - 0s 2ms/sample - loss: 1.5309 - accuracy: 0.3333 - val_loss: 2.7293 - val_accuracy: 0.0000e+00\n",
      "Epoch 43/100\n",
      "6/6 [==============================] - 0s 2ms/sample - loss: 1.5296 - accuracy: 0.3333 - val_loss: 2.7381 - val_accuracy: 0.0000e+00\n",
      "Epoch 44/100\n",
      "6/6 [==============================] - 0s 2ms/sample - loss: 1.5282 - accuracy: 0.3333 - val_loss: 2.7481 - val_accuracy: 0.0000e+00\n",
      "Epoch 45/100\n",
      "6/6 [==============================] - 0s 2ms/sample - loss: 1.5267 - accuracy: 0.3333 - val_loss: 2.7585 - val_accuracy: 0.0000e+00\n",
      "Epoch 46/100\n",
      "6/6 [==============================] - 0s 2ms/sample - loss: 1.5252 - accuracy: 0.3333 - val_loss: 2.7684 - val_accuracy: 0.0000e+00\n",
      "Epoch 47/100\n",
      "6/6 [==============================] - 0s 2ms/sample - loss: 1.5237 - accuracy: 0.3333 - val_loss: 2.7765 - val_accuracy: 0.0000e+00\n",
      "Epoch 48/100\n",
      "6/6 [==============================] - 0s 3ms/sample - loss: 1.5221 - accuracy: 0.3333 - val_loss: 2.7794 - val_accuracy: 0.0000e+00\n",
      "Epoch 49/100\n",
      "6/6 [==============================] - 0s 2ms/sample - loss: 1.5206 - accuracy: 0.3333 - val_loss: 2.7777 - val_accuracy: 0.0000e+00\n",
      "Epoch 50/100\n",
      "6/6 [==============================] - 0s 2ms/sample - loss: 1.5190 - accuracy: 0.3333 - val_loss: 2.7734 - val_accuracy: 0.0000e+00\n",
      "Epoch 51/100\n",
      "6/6 [==============================] - 0s 2ms/sample - loss: 1.5175 - accuracy: 0.3333 - val_loss: 2.7717 - val_accuracy: 0.0000e+00\n",
      "Epoch 52/100\n",
      "6/6 [==============================] - 0s 2ms/sample - loss: 1.5158 - accuracy: 0.3333 - val_loss: 2.7741 - val_accuracy: 0.0000e+00\n",
      "Epoch 53/100\n",
      "6/6 [==============================] - 0s 2ms/sample - loss: 1.5141 - accuracy: 0.3333 - val_loss: 2.7812 - val_accuracy: 0.0000e+00\n",
      "Epoch 54/100\n",
      "6/6 [==============================] - 0s 2ms/sample - loss: 1.5125 - accuracy: 0.3333 - val_loss: 2.7923 - val_accuracy: 0.0000e+00\n",
      "Epoch 55/100\n",
      "6/6 [==============================] - 0s 2ms/sample - loss: 1.5110 - accuracy: 0.3333 - val_loss: 2.8052 - val_accuracy: 0.0000e+00\n",
      "Epoch 56/100\n",
      "6/6 [==============================] - 0s 3ms/sample - loss: 1.5094 - accuracy: 0.3333 - val_loss: 2.8178 - val_accuracy: 0.0000e+00\n"
     ]
    },
    {
     "name": "stdout",
     "output_type": "stream",
     "text": [
      "Epoch 57/100\n",
      "6/6 [==============================] - 0s 2ms/sample - loss: 1.5078 - accuracy: 0.3333 - val_loss: 2.8252 - val_accuracy: 0.0000e+00\n",
      "Epoch 58/100\n",
      "6/6 [==============================] - 0s 2ms/sample - loss: 1.5061 - accuracy: 0.3333 - val_loss: 2.8264 - val_accuracy: 0.0000e+00\n",
      "Epoch 59/100\n",
      "6/6 [==============================] - 0s 2ms/sample - loss: 1.5045 - accuracy: 0.3333 - val_loss: 2.8271 - val_accuracy: 0.0000e+00\n",
      "Epoch 60/100\n",
      "6/6 [==============================] - 0s 2ms/sample - loss: 1.5027 - accuracy: 0.3333 - val_loss: 2.8280 - val_accuracy: 0.0000e+00\n",
      "Epoch 61/100\n",
      "6/6 [==============================] - 0s 2ms/sample - loss: 1.5009 - accuracy: 0.3333 - val_loss: 2.8302 - val_accuracy: 0.0000e+00\n",
      "Epoch 62/100\n",
      "6/6 [==============================] - 0s 2ms/sample - loss: 1.4990 - accuracy: 0.3333 - val_loss: 2.8353 - val_accuracy: 0.0000e+00\n",
      "Epoch 63/100\n",
      "6/6 [==============================] - 0s 2ms/sample - loss: 1.4969 - accuracy: 0.3333 - val_loss: 2.8435 - val_accuracy: 0.0000e+00\n",
      "Epoch 64/100\n",
      "6/6 [==============================] - 0s 2ms/sample - loss: 1.4948 - accuracy: 0.3333 - val_loss: 2.8499 - val_accuracy: 0.0000e+00\n",
      "Epoch 65/100\n",
      "6/6 [==============================] - 0s 2ms/sample - loss: 1.4930 - accuracy: 0.3333 - val_loss: 2.8578 - val_accuracy: 0.0000e+00\n",
      "Epoch 66/100\n",
      "6/6 [==============================] - 0s 2ms/sample - loss: 1.4911 - accuracy: 0.3333 - val_loss: 2.8623 - val_accuracy: 0.0000e+00\n",
      "Epoch 67/100\n",
      "6/6 [==============================] - 0s 2ms/sample - loss: 1.4890 - accuracy: 0.3333 - val_loss: 2.8676 - val_accuracy: 0.0000e+00\n",
      "Epoch 68/100\n",
      "6/6 [==============================] - 0s 2ms/sample - loss: 1.4870 - accuracy: 0.3333 - val_loss: 2.8750 - val_accuracy: 0.0000e+00\n",
      "Epoch 69/100\n",
      "6/6 [==============================] - 0s 2ms/sample - loss: 1.4849 - accuracy: 0.3333 - val_loss: 2.8847 - val_accuracy: 0.0000e+00\n",
      "Epoch 70/100\n",
      "6/6 [==============================] - 0s 2ms/sample - loss: 1.4830 - accuracy: 0.3333 - val_loss: 2.8972 - val_accuracy: 0.0000e+00\n",
      "Epoch 71/100\n",
      "6/6 [==============================] - 0s 2ms/sample - loss: 1.4809 - accuracy: 0.3333 - val_loss: 2.9070 - val_accuracy: 0.0000e+00\n",
      "Epoch 72/100\n",
      "6/6 [==============================] - 0s 2ms/sample - loss: 1.4786 - accuracy: 0.3333 - val_loss: 2.9132 - val_accuracy: 0.0000e+00\n",
      "Epoch 73/100\n",
      "6/6 [==============================] - 0s 2ms/sample - loss: 1.4767 - accuracy: 0.3333 - val_loss: 2.9223 - val_accuracy: 0.0000e+00\n",
      "Epoch 74/100\n",
      "6/6 [==============================] - 0s 2ms/sample - loss: 1.4746 - accuracy: 0.3333 - val_loss: 2.9346 - val_accuracy: 0.0000e+00\n",
      "Epoch 75/100\n",
      "6/6 [==============================] - 0s 2ms/sample - loss: 1.4722 - accuracy: 0.3333 - val_loss: 2.9496 - val_accuracy: 0.0000e+00\n",
      "Epoch 76/100\n",
      "6/6 [==============================] - 0s 2ms/sample - loss: 1.4700 - accuracy: 0.3333 - val_loss: 2.9644 - val_accuracy: 0.0000e+00\n",
      "Epoch 77/100\n",
      "6/6 [==============================] - 0s 2ms/sample - loss: 1.4678 - accuracy: 0.3333 - val_loss: 2.9794 - val_accuracy: 0.0000e+00\n",
      "Epoch 78/100\n",
      "6/6 [==============================] - 0s 3ms/sample - loss: 1.4654 - accuracy: 0.3333 - val_loss: 2.9936 - val_accuracy: 0.0000e+00\n",
      "Epoch 79/100\n",
      "6/6 [==============================] - 0s 2ms/sample - loss: 1.4630 - accuracy: 0.3333 - val_loss: 3.0008 - val_accuracy: 0.0000e+00\n",
      "Epoch 80/100\n",
      "6/6 [==============================] - 0s 2ms/sample - loss: 1.4605 - accuracy: 0.3333 - val_loss: 3.0020 - val_accuracy: 0.0000e+00\n",
      "Epoch 81/100\n",
      "6/6 [==============================] - 0s 2ms/sample - loss: 1.4582 - accuracy: 0.3333 - val_loss: 3.0071 - val_accuracy: 0.0000e+00\n",
      "Epoch 82/100\n",
      "6/6 [==============================] - 0s 2ms/sample - loss: 1.4558 - accuracy: 0.3333 - val_loss: 3.0164 - val_accuracy: 0.0000e+00\n",
      "Epoch 83/100\n",
      "6/6 [==============================] - 0s 2ms/sample - loss: 1.4532 - accuracy: 0.3333 - val_loss: 3.0314 - val_accuracy: 0.0000e+00\n",
      "Epoch 84/100\n",
      "6/6 [==============================] - 0s 2ms/sample - loss: 1.4505 - accuracy: 0.3333 - val_loss: 3.0517 - val_accuracy: 0.0000e+00\n",
      "Epoch 85/100\n",
      "6/6 [==============================] - 0s 2ms/sample - loss: 1.4478 - accuracy: 0.3333 - val_loss: 3.0756 - val_accuracy: 0.0000e+00\n",
      "Epoch 86/100\n",
      "6/6 [==============================] - 0s 2ms/sample - loss: 1.4451 - accuracy: 0.3333 - val_loss: 3.0994 - val_accuracy: 0.0000e+00\n",
      "Epoch 87/100\n",
      "6/6 [==============================] - 0s 2ms/sample - loss: 1.4427 - accuracy: 0.3333 - val_loss: 3.1109 - val_accuracy: 0.0000e+00\n",
      "Epoch 88/100\n",
      "6/6 [==============================] - 0s 2ms/sample - loss: 1.4399 - accuracy: 0.3333 - val_loss: 3.1117 - val_accuracy: 0.0000e+00\n",
      "Epoch 89/100\n",
      "6/6 [==============================] - 0s 2ms/sample - loss: 1.4370 - accuracy: 0.3333 - val_loss: 3.1142 - val_accuracy: 0.0000e+00\n",
      "Epoch 90/100\n",
      "6/6 [==============================] - 0s 2ms/sample - loss: 1.4342 - accuracy: 0.3333 - val_loss: 3.1262 - val_accuracy: 0.0000e+00\n",
      "Epoch 91/100\n",
      "6/6 [==============================] - 0s 3ms/sample - loss: 1.4313 - accuracy: 0.3333 - val_loss: 3.1481 - val_accuracy: 0.0000e+00\n",
      "Epoch 92/100\n",
      "6/6 [==============================] - 0s 2ms/sample - loss: 1.4283 - accuracy: 0.3333 - val_loss: 3.1767 - val_accuracy: 0.0000e+00\n",
      "Epoch 93/100\n",
      "6/6 [==============================] - 0s 2ms/sample - loss: 1.4252 - accuracy: 0.3333 - val_loss: 3.2076 - val_accuracy: 0.0000e+00\n",
      "Epoch 94/100\n",
      "6/6 [==============================] - 0s 2ms/sample - loss: 1.4223 - accuracy: 0.3333 - val_loss: 3.2365 - val_accuracy: 0.0000e+00\n",
      "Epoch 95/100\n",
      "6/6 [==============================] - 0s 2ms/sample - loss: 1.4191 - accuracy: 0.3333 - val_loss: 3.2514 - val_accuracy: 0.0000e+00\n",
      "Epoch 96/100\n",
      "6/6 [==============================] - 0s 2ms/sample - loss: 1.4160 - accuracy: 0.3333 - val_loss: 3.2671 - val_accuracy: 0.0000e+00\n",
      "Epoch 97/100\n",
      "6/6 [==============================] - 0s 2ms/sample - loss: 1.4129 - accuracy: 0.3333 - val_loss: 3.2844 - val_accuracy: 0.0000e+00\n",
      "Epoch 98/100\n",
      "6/6 [==============================] - 0s 2ms/sample - loss: 1.4099 - accuracy: 0.3333 - val_loss: 3.3146 - val_accuracy: 0.0000e+00\n",
      "Epoch 99/100\n",
      "6/6 [==============================] - 0s 2ms/sample - loss: 1.4068 - accuracy: 0.3333 - val_loss: 3.3327 - val_accuracy: 0.0000e+00\n",
      "Epoch 100/100\n",
      "6/6 [==============================] - 0s 2ms/sample - loss: 1.4034 - accuracy: 0.3333 - val_loss: 3.3493 - val_accuracy: 0.0000e+00\n"
     ]
    },
    {
     "data": {
      "text/plain": [
       "<tensorflow.python.keras.callbacks.History at 0x21a50046588>"
      ]
     },
     "execution_count": 87,
     "metadata": {},
     "output_type": "execute_result"
    }
   ],
   "source": [
    "model.compile(loss = 'sparse_categorical_crossentropy', optimizer = 'adam', metrics=['accuracy'])\n",
    "model.fit(x_train, y_train, validation_split = 0.2,   epochs=100)"
   ]
  },
  {
   "cell_type": "code",
   "execution_count": 88,
   "metadata": {},
   "outputs": [
    {
     "name": "stdout",
     "output_type": "stream",
     "text": [
      "2/1 [============================================================] - 0s 31ms/sample - loss: 0.8590 - accuracy: 0.5000\n",
      "[1.1761768162250519, 0.5]\n"
     ]
    }
   ],
   "source": [
    "lose_and_metrics = model.evaluate(x_test, y_test, batch_size = 1)\n",
    "print(lose_and_metrics)"
   ]
  },
  {
   "cell_type": "code",
   "execution_count": 89,
   "metadata": {},
   "outputs": [
    {
     "ename": "SyntaxError",
     "evalue": "invalid syntax (<ipython-input-89-9bd080f47164>, line 2)",
     "output_type": "error",
     "traceback": [
      "\u001b[1;36m  File \u001b[1;32m\"<ipython-input-89-9bd080f47164>\"\u001b[1;36m, line \u001b[1;32m2\u001b[0m\n\u001b[1;33m    y_predict =\u001b[0m\n\u001b[1;37m                ^\u001b[0m\n\u001b[1;31mSyntaxError\u001b[0m\u001b[1;31m:\u001b[0m invalid syntax\n"
     ]
    }
   ],
   "source": [
    "y_predict = model.predict(x_test)\n",
    "y_predict = \n",
    "print(y_predict)"
   ]
  },
  {
   "cell_type": "code",
   "execution_count": 76,
   "metadata": {},
   "outputs": [
    {
     "name": "stdout",
     "output_type": "stream",
     "text": [
      "tf.Tensor([0 1 0 0 0 0], shape=(6,), dtype=int64)\n"
     ]
    }
   ],
   "source": [
    "print(tf.argmax(y_predict))"
   ]
  },
  {
   "cell_type": "code",
   "execution_count": 70,
   "metadata": {},
   "outputs": [
    {
     "data": {
      "text/plain": [
       "numpy.ndarray"
      ]
     },
     "execution_count": 70,
     "metadata": {},
     "output_type": "execute_result"
    }
   ],
   "source": [
    "type(y_predict)"
   ]
  },
  {
   "cell_type": "code",
   "execution_count": 68,
   "metadata": {},
   "outputs": [
    {
     "data": {
      "text/plain": [
       "2"
      ]
     },
     "execution_count": 68,
     "metadata": {},
     "output_type": "execute_result"
    }
   ],
   "source": [
    "a.index(3)"
   ]
  },
  {
   "cell_type": "code",
   "execution_count": 82,
   "metadata": {},
   "outputs": [],
   "source": [
    "pre = [int(tf.argmax(i)) for i in y_predict]"
   ]
  },
  {
   "cell_type": "code",
   "execution_count": 83,
   "metadata": {},
   "outputs": [
    {
     "data": {
      "text/plain": [
       "[1, 1]"
      ]
     },
     "execution_count": 83,
     "metadata": {},
     "output_type": "execute_result"
    }
   ],
   "source": [
    "pre"
   ]
  },
  {
   "cell_type": "code",
   "execution_count": null,
   "metadata": {},
   "outputs": [],
   "source": []
  }
 ],
 "metadata": {
  "kernelspec": {
   "display_name": "Tensorflow",
   "language": "python",
   "name": "tensorflow"
  },
  "language_info": {
   "codemirror_mode": {
    "name": "ipython",
    "version": 3
   },
   "file_extension": ".py",
   "mimetype": "text/x-python",
   "name": "python",
   "nbconvert_exporter": "python",
   "pygments_lexer": "ipython3",
   "version": "3.7.6"
  }
 },
 "nbformat": 4,
 "nbformat_minor": 4
}
