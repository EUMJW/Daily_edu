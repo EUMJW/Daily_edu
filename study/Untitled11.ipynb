{
 "cells": [
  {
   "cell_type": "code",
   "execution_count": 30,
   "metadata": {},
   "outputs": [],
   "source": [
    "import numpy as np\n",
    "from tensorflow.keras.models import Sequential\n",
    "from tensorflow.keras.layers import Dense, LSTM"
   ]
  },
  {
   "cell_type": "code",
   "execution_count": 37,
   "metadata": {},
   "outputs": [],
   "source": [
    "x = [[[i],[i+1],[i+2],[i+3]] for i in range(1,11)]"
   ]
  },
  {
   "cell_type": "code",
   "execution_count": 38,
   "metadata": {},
   "outputs": [],
   "source": [
    "x_data = np.array(x)"
   ]
  },
  {
   "cell_type": "code",
   "execution_count": 47,
   "metadata": {},
   "outputs": [],
   "source": [
    "y_data = np.array([5,6,7,8,9,10,11,12,13,14])"
   ]
  },
  {
   "cell_type": "code",
   "execution_count": 49,
   "metadata": {},
   "outputs": [],
   "source": [
    "x_train = x_data[:8]\n",
    "x_test = x_data[8:]\n",
    "\n",
    "y_train = y_data[:8]\n",
    "y_test = y_data[8:]"
   ]
  },
  {
   "cell_type": "code",
   "execution_count": null,
   "metadata": {},
   "outputs": [],
   "source": []
  },
  {
   "cell_type": "code",
   "execution_count": null,
   "metadata": {},
   "outputs": [],
   "source": []
  },
  {
   "cell_type": "code",
   "execution_count": 43,
   "metadata": {},
   "outputs": [],
   "source": [
    "model = Sequential()\n",
    "model.add(LSTM(10, activation = 'relu', input_shape=(4,1)))\n",
    "model.add(Dense(5))\n",
    "model.add(Dense(1))"
   ]
  },
  {
   "cell_type": "code",
   "execution_count": 44,
   "metadata": {},
   "outputs": [],
   "source": [
    "model.compile( loss = 'mse', optimizer = 'adam')"
   ]
  },
  {
   "cell_type": "code",
   "execution_count": 53,
   "metadata": {},
   "outputs": [
    {
     "name": "stdout",
     "output_type": "stream",
     "text": [
      "Train on 8 samples, validate on 2 samples\n",
      "Epoch 1/100\n",
      "8/8 [==============================] - 0s 15ms/sample - loss: 56.6523 - val_loss: 149.8899\n",
      "Epoch 2/100\n",
      "8/8 [==============================] - 0s 2ms/sample - loss: 55.9672 - val_loss: 148.6197\n",
      "Epoch 3/100\n",
      "8/8 [==============================] - 0s 1ms/sample - loss: 55.2654 - val_loss: 147.3060\n",
      "Epoch 4/100\n",
      "8/8 [==============================] - 0s 2ms/sample - loss: 54.5459 - val_loss: 145.9463\n",
      "Epoch 5/100\n",
      "8/8 [==============================] - 0s 2ms/sample - loss: 53.8077 - val_loss: 144.5375\n",
      "Epoch 6/100\n",
      "8/8 [==============================] - 0s 2ms/sample - loss: 53.0499 - val_loss: 143.0770\n",
      "Epoch 7/100\n",
      "8/8 [==============================] - 0s 2ms/sample - loss: 52.2718 - val_loss: 141.5618\n",
      "Epoch 8/100\n",
      "8/8 [==============================] - 0s 2ms/sample - loss: 51.4724 - val_loss: 139.9892\n",
      "Epoch 9/100\n",
      "8/8 [==============================] - 0s 2ms/sample - loss: 50.6510 - val_loss: 138.3561\n",
      "Epoch 10/100\n",
      "8/8 [==============================] - 0s 2ms/sample - loss: 49.8068 - val_loss: 136.6596\n",
      "Epoch 11/100\n",
      "8/8 [==============================] - 0s 2ms/sample - loss: 48.9392 - val_loss: 134.8967\n",
      "Epoch 12/100\n",
      "8/8 [==============================] - 0s 2ms/sample - loss: 48.0475 - val_loss: 133.0645\n",
      "Epoch 13/100\n",
      "8/8 [==============================] - 0s 2ms/sample - loss: 47.1310 - val_loss: 131.1598\n",
      "Epoch 14/100\n",
      "8/8 [==============================] - 0s 2ms/sample - loss: 46.1892 - val_loss: 129.1795\n",
      "Epoch 15/100\n",
      "8/8 [==============================] - 0s 2ms/sample - loss: 45.2216 - val_loss: 127.1206\n",
      "Epoch 16/100\n",
      "8/8 [==============================] - 0s 2ms/sample - loss: 44.2276 - val_loss: 124.9799\n",
      "Epoch 17/100\n",
      "8/8 [==============================] - 0s 2ms/sample - loss: 43.2070 - val_loss: 122.7543\n",
      "Epoch 18/100\n",
      "8/8 [==============================] - 0s 2ms/sample - loss: 42.1595 - val_loss: 120.4406\n",
      "Epoch 19/100\n",
      "8/8 [==============================] - 0s 2ms/sample - loss: 41.0847 - val_loss: 118.0359\n",
      "Epoch 20/100\n",
      "8/8 [==============================] - 0s 2ms/sample - loss: 39.9825 - val_loss: 115.5371\n",
      "Epoch 21/100\n",
      "8/8 [==============================] - 0s 2ms/sample - loss: 38.8528 - val_loss: 112.9411\n",
      "Epoch 22/100\n",
      "8/8 [==============================] - 0s 2ms/sample - loss: 37.6958 - val_loss: 110.2453\n",
      "Epoch 23/100\n",
      "8/8 [==============================] - 0s 2ms/sample - loss: 36.5117 - val_loss: 107.4471\n",
      "Epoch 24/100\n",
      "8/8 [==============================] - 0s 2ms/sample - loss: 35.3009 - val_loss: 104.5440\n",
      "Epoch 25/100\n",
      "8/8 [==============================] - 0s 2ms/sample - loss: 34.0638 - val_loss: 101.5338\n",
      "Epoch 26/100\n",
      "8/8 [==============================] - 0s 2ms/sample - loss: 32.8012 - val_loss: 98.4149\n",
      "Epoch 27/100\n",
      "8/8 [==============================] - 0s 2ms/sample - loss: 31.5141 - val_loss: 95.1860\n",
      "Epoch 28/100\n",
      "8/8 [==============================] - 0s 1ms/sample - loss: 30.2036 - val_loss: 91.8463\n",
      "Epoch 29/100\n",
      "8/8 [==============================] - 0s 2ms/sample - loss: 28.8710 - val_loss: 88.3959\n",
      "Epoch 30/100\n",
      "8/8 [==============================] - 0s 2ms/sample - loss: 27.5182 - val_loss: 84.8354\n",
      "Epoch 31/100\n",
      "8/8 [==============================] - 0s 2ms/sample - loss: 26.1473 - val_loss: 81.1669\n",
      "Epoch 32/100\n",
      "8/8 [==============================] - 0s 2ms/sample - loss: 24.7606 - val_loss: 77.3932\n",
      "Epoch 33/100\n",
      "8/8 [==============================] - 0s 2ms/sample - loss: 23.3609 - val_loss: 73.5188\n",
      "Epoch 34/100\n",
      "8/8 [==============================] - 0s 2ms/sample - loss: 21.9517 - val_loss: 69.5498\n",
      "Epoch 35/100\n",
      "8/8 [==============================] - 0s 2ms/sample - loss: 20.5365 - val_loss: 65.4941\n",
      "Epoch 36/100\n",
      "8/8 [==============================] - 0s 2ms/sample - loss: 19.1197 - val_loss: 61.3618\n",
      "Epoch 37/100\n",
      "8/8 [==============================] - 0s 2ms/sample - loss: 17.7060 - val_loss: 57.1655\n",
      "Epoch 38/100\n",
      "8/8 [==============================] - 0s 2ms/sample - loss: 16.3008 - val_loss: 52.9206\n",
      "Epoch 39/100\n",
      "8/8 [==============================] - 0s 2ms/sample - loss: 14.9100 - val_loss: 48.6453\n",
      "Epoch 40/100\n",
      "8/8 [==============================] - 0s 2ms/sample - loss: 13.5403 - val_loss: 44.3612\n",
      "Epoch 41/100\n",
      "8/8 [==============================] - 0s 1ms/sample - loss: 12.1986 - val_loss: 40.0934\n",
      "Epoch 42/100\n",
      "8/8 [==============================] - 0s 1ms/sample - loss: 10.8927 - val_loss: 35.8701\n",
      "Epoch 43/100\n",
      "8/8 [==============================] - 0s 1ms/sample - loss: 9.6308 - val_loss: 31.7232\n",
      "Epoch 44/100\n",
      "8/8 [==============================] - 0s 1ms/sample - loss: 8.4213 - val_loss: 27.6877\n",
      "Epoch 45/100\n",
      "8/8 [==============================] - 0s 1ms/sample - loss: 7.2731 - val_loss: 23.8011\n",
      "Epoch 46/100\n",
      "8/8 [==============================] - 0s 1ms/sample - loss: 6.1950 - val_loss: 20.1027\n",
      "Epoch 47/100\n",
      "8/8 [==============================] - 0s 1ms/sample - loss: 5.1958 - val_loss: 16.6326\n",
      "Epoch 48/100\n",
      "8/8 [==============================] - 0s 1ms/sample - loss: 4.2835 - val_loss: 13.4299\n",
      "Epoch 49/100\n",
      "8/8 [==============================] - 0s 1ms/sample - loss: 3.4655 - val_loss: 10.5310\n",
      "Epoch 50/100\n",
      "8/8 [==============================] - 0s 1ms/sample - loss: 2.7481 - val_loss: 7.9677\n",
      "Epoch 51/100\n",
      "8/8 [==============================] - 0s 1ms/sample - loss: 2.1356 - val_loss: 5.7643\n",
      "Epoch 52/100\n",
      "8/8 [==============================] - 0s 1ms/sample - loss: 1.6302 - val_loss: 3.9358\n",
      "Epoch 53/100\n",
      "8/8 [==============================] - 0s 1ms/sample - loss: 1.2319 - val_loss: 2.4854\n",
      "Epoch 54/100\n",
      "8/8 [==============================] - 0s 1ms/sample - loss: 0.9374 - val_loss: 1.4033\n",
      "Epoch 55/100\n",
      "8/8 [==============================] - 0s 1ms/sample - loss: 0.7404 - val_loss: 0.6658\n",
      "Epoch 56/100\n",
      "8/8 [==============================] - 0s 1ms/sample - loss: 0.6316 - val_loss: 0.2360\n",
      "Epoch 57/100\n",
      "8/8 [==============================] - 0s 1ms/sample - loss: 0.5987 - val_loss: 0.0654\n",
      "Epoch 58/100\n",
      "8/8 [==============================] - 0s 1ms/sample - loss: 0.6270 - val_loss: 0.0972\n",
      "Epoch 59/100\n",
      "8/8 [==============================] - 0s 1ms/sample - loss: 0.7005 - val_loss: 0.2705\n",
      "Epoch 60/100\n",
      "8/8 [==============================] - 0s 1ms/sample - loss: 0.8021 - val_loss: 0.5250\n",
      "Epoch 61/100\n",
      "8/8 [==============================] - 0s 1ms/sample - loss: 0.9146 - val_loss: 0.8034\n",
      "Epoch 62/100\n",
      "8/8 [==============================] - 0s 1ms/sample - loss: 1.0238 - val_loss: 1.0585\n",
      "Epoch 63/100\n",
      "8/8 [==============================] - 0s 1ms/sample - loss: 1.1182 - val_loss: 1.2573\n",
      "Epoch 64/100\n",
      "8/8 [==============================] - 0s 1ms/sample - loss: 1.1895 - val_loss: 1.3804\n",
      "Epoch 65/100\n",
      "8/8 [==============================] - 0s 1ms/sample - loss: 1.2329 - val_loss: 1.4204\n",
      "Epoch 66/100\n",
      "8/8 [==============================] - 0s 1ms/sample - loss: 1.2470 - val_loss: 1.3805\n",
      "Epoch 67/100\n",
      "8/8 [==============================] - 0s 1ms/sample - loss: 1.2329 - val_loss: 1.2724\n",
      "Epoch 68/100\n",
      "8/8 [==============================] - 0s 1ms/sample - loss: 1.1944 - val_loss: 1.1133\n",
      "Epoch 69/100\n",
      "8/8 [==============================] - 0s 1ms/sample - loss: 1.1366 - val_loss: 0.9232\n",
      "Epoch 70/100\n",
      "8/8 [==============================] - 0s 1ms/sample - loss: 1.0652 - val_loss: 0.7220\n",
      "Epoch 71/100\n",
      "8/8 [==============================] - 0s 1ms/sample - loss: 0.9859 - val_loss: 0.5280\n",
      "Epoch 72/100\n",
      "8/8 [==============================] - 0s 1ms/sample - loss: 0.9043 - val_loss: 0.3565\n",
      "Epoch 73/100\n",
      "8/8 [==============================] - 0s 1ms/sample - loss: 0.8250 - val_loss: 0.2188\n",
      "Epoch 74/100\n",
      "8/8 [==============================] - 0s 1ms/sample - loss: 0.7525 - val_loss: 0.1220\n",
      "Epoch 75/100\n",
      "8/8 [==============================] - 0s 1ms/sample - loss: 0.6865 - val_loss: 0.0683\n",
      "Epoch 76/100\n",
      "8/8 [==============================] - 0s 1ms/sample - loss: 0.6284 - val_loss: 0.0588\n",
      "Epoch 77/100\n",
      "8/8 [==============================] - 0s 1ms/sample - loss: 0.5828 - val_loss: 0.0978\n",
      "Epoch 78/100\n",
      "8/8 [==============================] - 0s 1ms/sample - loss: 0.5502 - val_loss: 0.1788\n",
      "Epoch 79/100\n",
      "8/8 [==============================] - 0s 1ms/sample - loss: 0.5298 - val_loss: 0.2932\n",
      "Epoch 80/100\n",
      "8/8 [==============================] - 0s 1ms/sample - loss: 0.5207 - val_loss: 0.4307\n",
      "Epoch 81/100\n",
      "8/8 [==============================] - 0s 1ms/sample - loss: 0.5201 - val_loss: 0.5796\n"
     ]
    },
    {
     "name": "stdout",
     "output_type": "stream",
     "text": [
      "Epoch 82/100\n",
      "8/8 [==============================] - 0s 1ms/sample - loss: 0.5259 - val_loss: 0.7264\n",
      "Epoch 83/100\n",
      "8/8 [==============================] - 0s 1ms/sample - loss: 0.5351 - val_loss: 0.8597\n",
      "Epoch 84/100\n",
      "8/8 [==============================] - 0s 1ms/sample - loss: 0.5449 - val_loss: 0.9703\n",
      "Epoch 85/100\n",
      "8/8 [==============================] - 0s 1ms/sample - loss: 0.5531 - val_loss: 1.0532\n",
      "Epoch 86/100\n",
      "8/8 [==============================] - 0s 1ms/sample - loss: 0.5583 - val_loss: 1.1063\n",
      "Epoch 87/100\n",
      "8/8 [==============================] - 0s 1ms/sample - loss: 0.5599 - val_loss: 1.1309\n",
      "Epoch 88/100\n",
      "8/8 [==============================] - 0s 1ms/sample - loss: 0.5578 - val_loss: 1.1297\n",
      "Epoch 89/100\n",
      "8/8 [==============================] - 0s 1ms/sample - loss: 0.5529 - val_loss: 1.1074\n",
      "Epoch 90/100\n",
      "8/8 [==============================] - 0s 2ms/sample - loss: 0.5457 - val_loss: 1.0684\n",
      "Epoch 91/100\n",
      "8/8 [==============================] - 0s 1ms/sample - loss: 0.5366 - val_loss: 1.0168\n",
      "Epoch 92/100\n",
      "8/8 [==============================] - 0s 1ms/sample - loss: 0.5266 - val_loss: 0.9568\n",
      "Epoch 93/100\n",
      "8/8 [==============================] - 0s 1ms/sample - loss: 0.5165 - val_loss: 0.8926\n",
      "Epoch 94/100\n",
      "8/8 [==============================] - 0s 1ms/sample - loss: 0.5070 - val_loss: 0.8272\n",
      "Epoch 95/100\n",
      "8/8 [==============================] - 0s 1ms/sample - loss: 0.4982 - val_loss: 0.7629\n",
      "Epoch 96/100\n",
      "8/8 [==============================] - 0s 1ms/sample - loss: 0.4904 - val_loss: 0.7050\n",
      "Epoch 97/100\n",
      "8/8 [==============================] - 0s 1ms/sample - loss: 0.4839 - val_loss: 0.6555\n",
      "Epoch 98/100\n",
      "8/8 [==============================] - 0s 1ms/sample - loss: 0.4785 - val_loss: 0.6116\n",
      "Epoch 99/100\n",
      "8/8 [==============================] - 0s 1ms/sample - loss: 0.4742 - val_loss: 0.5731\n",
      "Epoch 100/100\n",
      "8/8 [==============================] - 0s 1ms/sample - loss: 0.4708 - val_loss: 0.5394\n"
     ]
    },
    {
     "data": {
      "text/plain": [
       "<tensorflow.python.keras.callbacks.History at 0x2e44a899248>"
      ]
     },
     "execution_count": 53,
     "metadata": {},
     "output_type": "execute_result"
    }
   ],
   "source": [
    "model.fit(x_data, y_data, validation_split = 0.2, epochs=100)"
   ]
  },
  {
   "cell_type": "code",
   "execution_count": 57,
   "metadata": {},
   "outputs": [
    {
     "name": "stdout",
     "output_type": "stream",
     "text": [
      "Model: \"sequential_7\"\n",
      "_________________________________________________________________\n",
      "Layer (type)                 Output Shape              Param #   \n",
      "=================================================================\n",
      "lstm_12 (LSTM)               (None, 10)                480       \n",
      "_________________________________________________________________\n",
      "dense_6 (Dense)              (None, 5)                 55        \n",
      "_________________________________________________________________\n",
      "dense_7 (Dense)              (None, 1)                 6         \n",
      "=================================================================\n",
      "Total params: 541\n",
      "Trainable params: 541\n",
      "Non-trainable params: 0\n",
      "_________________________________________________________________\n"
     ]
    }
   ],
   "source": [
    "model.summary()"
   ]
  },
  {
   "cell_type": "code",
   "execution_count": 58,
   "metadata": {
    "scrolled": false
   },
   "outputs": [
    {
     "name": "stdout",
     "output_type": "stream",
     "text": [
      "2/1 [============================================================] - 0s 54ms/sample - loss: 0.7386\n",
      "0.5394461303949356\n"
     ]
    }
   ],
   "source": [
    "mse = model.evaluate(x_test, y_test, batch_size = 1)\n",
    "print(mse)"
   ]
  },
  {
   "cell_type": "code",
   "execution_count": null,
   "metadata": {},
   "outputs": [],
   "source": [
    "y_predict = model.predict(x_test)\n",
    "y_predict"
   ]
  },
  {
   "cell_type": "code",
   "execution_count": null,
   "metadata": {},
   "outputs": [],
   "source": []
  }
 ],
 "metadata": {
  "kernelspec": {
   "display_name": "Tensorflow",
   "language": "python",
   "name": "tensorflow"
  },
  "language_info": {
   "codemirror_mode": {
    "name": "ipython",
    "version": 3
   },
   "file_extension": ".py",
   "mimetype": "text/x-python",
   "name": "python",
   "nbconvert_exporter": "python",
   "pygments_lexer": "ipython3",
   "version": "3.7.6"
  }
 },
 "nbformat": 4,
 "nbformat_minor": 4
}
