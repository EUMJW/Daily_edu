{
 "cells": [
  {
   "cell_type": "code",
   "execution_count": 40,
   "metadata": {},
   "outputs": [
    {
     "name": "stdout",
     "output_type": "stream",
     "text": [
      "answer is 2\n"
     ]
    }
   ],
   "source": [
    "skill = 'CBDK'\n",
    "\n",
    "skill_trees = ['BACDE','CBADF','AECB','BDA']\n",
    "\n",
    "\n",
    "\n",
    "def solution(skill,skill_trees)\n",
    "    answer=0\n",
    "\n",
    "    for i in skill_trees:\n",
    "        lst=[]\n",
    "        for j in range(len(skill)):\n",
    "            lst.append(i.find(skill[j]))\n",
    "\n",
    "        a = True\n",
    "        for j in range(len(skill)-1):\n",
    "            if (lst[j] == -1) & (lst[j+1] != -1):\n",
    "                a=False\n",
    "            elif (lst[j] > lst[j+1]) & (lst[j+1]!=-1):\n",
    "                a=False\n",
    "            else:\n",
    "                pass\n",
    "\n",
    "        if a == True:\n",
    "            answer = answer +1\n",
    "\n",
    "    return answer\n",
    "\n",
    "print(f'answer is {answer}')"
   ]
  },
  {
   "cell_type": "code",
   "execution_count": 43,
   "metadata": {},
   "outputs": [],
   "source": []
  },
  {
   "cell_type": "code",
   "execution_count": null,
   "metadata": {},
   "outputs": [],
   "source": []
  },
  {
   "cell_type": "code",
   "execution_count": 2,
   "metadata": {},
   "outputs": [
    {
     "data": {
      "text/plain": [
       "array([[0.88816022, 0.55510107, 2.35661119],\n",
       "       [1.78225216, 1.40622654, 1.46312671]])"
      ]
     },
     "execution_count": 2,
     "metadata": {},
     "output_type": "execute_result"
    }
   ],
   "source": [
    "from numpy.random import randn\n",
    "import numpy as np\n",
    "\n",
    "data = randn(2,3)\n",
    "data"
   ]
  },
  {
   "cell_type": "code",
   "execution_count": 49,
   "metadata": {},
   "outputs": [
    {
     "data": {
      "text/plain": [
       "array([[ 8.50938315,  2.84601106, -4.38547547],\n",
       "       [ 1.07158094,  8.84339033, -0.51245094]])"
      ]
     },
     "execution_count": 49,
     "metadata": {},
     "output_type": "execute_result"
    }
   ],
   "source": [
    "data *10"
   ]
  },
  {
   "cell_type": "code",
   "execution_count": 53,
   "metadata": {},
   "outputs": [
    {
     "data": {
      "text/plain": [
       "array([[5.85093832, 5.28460111, 4.56145245],\n",
       "       [5.10715809, 5.88433903, 4.94875491]])"
      ]
     },
     "execution_count": 53,
     "metadata": {},
     "output_type": "execute_result"
    }
   ],
   "source": [
    "data+5"
   ]
  },
  {
   "cell_type": "code",
   "execution_count": null,
   "metadata": {},
   "outputs": [],
   "source": []
  },
  {
   "cell_type": "code",
   "execution_count": 54,
   "metadata": {},
   "outputs": [],
   "source": [
    "arr3d = np.array([[[1,2,3],[4,5,6]],[[7,8,9],[10,11,12]]])"
   ]
  },
  {
   "cell_type": "code",
   "execution_count": 55,
   "metadata": {},
   "outputs": [
    {
     "data": {
      "text/plain": [
       "array([[[ 1,  2,  3],\n",
       "        [ 4,  5,  6]],\n",
       "\n",
       "       [[ 7,  8,  9],\n",
       "        [10, 11, 12]]])"
      ]
     },
     "execution_count": 55,
     "metadata": {},
     "output_type": "execute_result"
    }
   ],
   "source": [
    "arr3d"
   ]
  },
  {
   "cell_type": "code",
   "execution_count": 56,
   "metadata": {},
   "outputs": [
    {
     "data": {
      "text/plain": [
       "array([[1, 2, 3],\n",
       "       [4, 5, 6]])"
      ]
     },
     "execution_count": 56,
     "metadata": {},
     "output_type": "execute_result"
    }
   ],
   "source": [
    "arr3d[0]"
   ]
  },
  {
   "cell_type": "code",
   "execution_count": 57,
   "metadata": {},
   "outputs": [],
   "source": [
    "old_values = arr3d[0].copy()"
   ]
  },
  {
   "cell_type": "code",
   "execution_count": 58,
   "metadata": {},
   "outputs": [
    {
     "data": {
      "text/plain": [
       "array([[[42, 42, 42],\n",
       "        [42, 42, 42]],\n",
       "\n",
       "       [[ 7,  8,  9],\n",
       "        [10, 11, 12]]])"
      ]
     },
     "execution_count": 58,
     "metadata": {},
     "output_type": "execute_result"
    }
   ],
   "source": [
    "arr3d[0]=42\n",
    "arr3d\n"
   ]
  },
  {
   "cell_type": "code",
   "execution_count": 60,
   "metadata": {},
   "outputs": [
    {
     "data": {
      "text/plain": [
       "array([[[ 1,  2,  3],\n",
       "        [ 4,  5,  6]],\n",
       "\n",
       "       [[ 7,  8,  9],\n",
       "        [10, 11, 12]]])"
      ]
     },
     "execution_count": 60,
     "metadata": {},
     "output_type": "execute_result"
    }
   ],
   "source": [
    "arr3d[0] = old_values\n",
    "arr3d"
   ]
  },
  {
   "cell_type": "code",
   "execution_count": 61,
   "metadata": {},
   "outputs": [
    {
     "data": {
      "text/plain": [
       "array([7, 8, 9])"
      ]
     },
     "execution_count": 61,
     "metadata": {},
     "output_type": "execute_result"
    }
   ],
   "source": [
    "arr3d[1,0]"
   ]
  },
  {
   "cell_type": "code",
   "execution_count": 62,
   "metadata": {},
   "outputs": [
    {
     "data": {
      "text/plain": [
       "9"
      ]
     },
     "execution_count": 62,
     "metadata": {},
     "output_type": "execute_result"
    }
   ],
   "source": [
    "arr3d[1,0,2]"
   ]
  },
  {
   "cell_type": "code",
   "execution_count": 3,
   "metadata": {},
   "outputs": [
    {
     "data": {
      "text/plain": [
       "array(['T', 'T', 'F', 'F', 'T', 'T', 'F'], dtype='<U1')"
      ]
     },
     "execution_count": 3,
     "metadata": {},
     "output_type": "execute_result"
    }
   ],
   "source": [
    "data = randn(7,4)\n",
    "\n",
    "TF = np.array(['T','T','F','F','T','T','F'])\n",
    "\n",
    "TF"
   ]
  },
  {
   "cell_type": "code",
   "execution_count": 4,
   "metadata": {},
   "outputs": [
    {
     "data": {
      "text/plain": [
       "array([[ 0.6909759 ,  2.0413725 , -1.2915753 ,  0.17727669],\n",
       "       [ 1.09153299, -1.39800575,  0.55187213, -0.08858254],\n",
       "       [-1.90798677,  0.23779336, -1.12254518,  0.75583444],\n",
       "       [-0.45659428, -0.86258257, -0.67763721, -0.6914917 ],\n",
       "       [ 0.12152466,  1.37559433,  0.06036688, -0.2355072 ],\n",
       "       [ 1.68405578, -3.34074663, -0.47161267, -1.37059563],\n",
       "       [ 1.05884547, -0.74957957,  0.81196728,  0.13318795]])"
      ]
     },
     "execution_count": 4,
     "metadata": {},
     "output_type": "execute_result"
    }
   ],
   "source": [
    "data"
   ]
  },
  {
   "cell_type": "code",
   "execution_count": 5,
   "metadata": {},
   "outputs": [
    {
     "data": {
      "text/plain": [
       "array([[ 0.6909759 ,  2.0413725 , -1.2915753 ,  0.17727669],\n",
       "       [ 1.09153299, -1.39800575,  0.55187213, -0.08858254],\n",
       "       [ 0.12152466,  1.37559433,  0.06036688, -0.2355072 ],\n",
       "       [ 1.68405578, -3.34074663, -0.47161267, -1.37059563]])"
      ]
     },
     "execution_count": 5,
     "metadata": {},
     "output_type": "execute_result"
    }
   ],
   "source": [
    "data[TF == 'T']"
   ]
  },
  {
   "cell_type": "code",
   "execution_count": 6,
   "metadata": {},
   "outputs": [
    {
     "data": {
      "text/plain": [
       "array([[-1.90798677,  0.23779336, -1.12254518,  0.75583444],\n",
       "       [-0.45659428, -0.86258257, -0.67763721, -0.6914917 ],\n",
       "       [ 1.05884547, -0.74957957,  0.81196728,  0.13318795]])"
      ]
     },
     "execution_count": 6,
     "metadata": {},
     "output_type": "execute_result"
    }
   ],
   "source": [
    "data[~(TF=='T')]"
   ]
  },
  {
   "cell_type": "code",
   "execution_count": 8,
   "metadata": {},
   "outputs": [],
   "source": [
    "num = np.array([1,1,0,0,1,1,0])"
   ]
  },
  {
   "cell_type": "code",
   "execution_count": 9,
   "metadata": {},
   "outputs": [
    {
     "data": {
      "text/plain": [
       "array([1, 1, 0, 0, 1, 1, 0])"
      ]
     },
     "execution_count": 9,
     "metadata": {},
     "output_type": "execute_result"
    }
   ],
   "source": [
    "num"
   ]
  },
  {
   "cell_type": "code",
   "execution_count": 12,
   "metadata": {},
   "outputs": [
    {
     "data": {
      "text/plain": [
       "array([[ 1.09153299, -1.39800575,  0.55187213, -0.08858254],\n",
       "       [ 1.09153299, -1.39800575,  0.55187213, -0.08858254],\n",
       "       [ 0.6909759 ,  2.0413725 , -1.2915753 ,  0.17727669],\n",
       "       [ 0.6909759 ,  2.0413725 , -1.2915753 ,  0.17727669],\n",
       "       [ 1.09153299, -1.39800575,  0.55187213, -0.08858254],\n",
       "       [ 1.09153299, -1.39800575,  0.55187213, -0.08858254],\n",
       "       [ 0.6909759 ,  2.0413725 , -1.2915753 ,  0.17727669]])"
      ]
     },
     "execution_count": 12,
     "metadata": {},
     "output_type": "execute_result"
    }
   ],
   "source": [
    "data[num]"
   ]
  },
  {
   "cell_type": "code",
   "execution_count": 14,
   "metadata": {},
   "outputs": [
    {
     "data": {
      "text/plain": [
       "array([[0.6909759 , 2.0413725 , 0.        , 0.17727669],\n",
       "       [1.09153299, 0.        , 0.55187213, 0.        ],\n",
       "       [0.        , 0.23779336, 0.        , 0.75583444],\n",
       "       [0.        , 0.        , 0.        , 0.        ],\n",
       "       [0.12152466, 1.37559433, 0.06036688, 0.        ],\n",
       "       [1.68405578, 0.        , 0.        , 0.        ],\n",
       "       [1.05884547, 0.        , 0.81196728, 0.13318795]])"
      ]
     },
     "execution_count": 14,
     "metadata": {},
     "output_type": "execute_result"
    }
   ],
   "source": [
    "data[data<0] =0\n",
    "data"
   ]
  },
  {
   "cell_type": "code",
   "execution_count": 15,
   "metadata": {},
   "outputs": [],
   "source": [
    "data[data>1]=1"
   ]
  },
  {
   "cell_type": "code",
   "execution_count": 16,
   "metadata": {},
   "outputs": [
    {
     "data": {
      "text/plain": [
       "array([[0.6909759 , 1.        , 0.        , 0.17727669],\n",
       "       [1.        , 0.        , 0.55187213, 0.        ],\n",
       "       [0.        , 0.23779336, 0.        , 0.75583444],\n",
       "       [0.        , 0.        , 0.        , 0.        ],\n",
       "       [0.12152466, 1.        , 0.06036688, 0.        ],\n",
       "       [1.        , 0.        , 0.        , 0.        ],\n",
       "       [1.        , 0.        , 0.81196728, 0.13318795]])"
      ]
     },
     "execution_count": 16,
     "metadata": {},
     "output_type": "execute_result"
    }
   ],
   "source": [
    "data"
   ]
  },
  {
   "cell_type": "code",
   "execution_count": 17,
   "metadata": {},
   "outputs": [
    {
     "data": {
      "text/plain": [
       "[0, 1, 2, 3, 4]"
      ]
     },
     "execution_count": 17,
     "metadata": {},
     "output_type": "execute_result"
    }
   ],
   "source": [
    "[0,1,2,3],\n",
    "[4,5,6,7],\n",
    "[8,9,10,11]"
   ]
  },
  {
   "cell_type": "code",
   "execution_count": 18,
   "metadata": {},
   "outputs": [
    {
     "data": {
      "text/plain": [
       "([0], [1])"
      ]
     },
     "execution_count": 18,
     "metadata": {},
     "output_type": "execute_result"
    }
   ],
   "source": [
    "[0,1,2],\n",
    "[3,4,5]"
   ]
  },
  {
   "cell_type": "code",
   "execution_count": null,
   "metadata": {},
   "outputs": [],
   "source": []
  }
 ],
 "metadata": {
  "kernelspec": {
   "display_name": "Python 3",
   "language": "python",
   "name": "python3"
  },
  "language_info": {
   "codemirror_mode": {
    "name": "ipython",
    "version": 3
   },
   "file_extension": ".py",
   "mimetype": "text/x-python",
   "name": "python",
   "nbconvert_exporter": "python",
   "pygments_lexer": "ipython3",
   "version": "3.7.6"
  }
 },
 "nbformat": 4,
 "nbformat_minor": 4
}
