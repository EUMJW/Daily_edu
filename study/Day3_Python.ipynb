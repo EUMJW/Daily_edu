{
 "cells": [
  {
   "cell_type": "code",
   "execution_count": 14,
   "metadata": {},
   "outputs": [],
   "source": [
    "array = [1,5,2,6,3,7,4]\n",
    "\n",
    "def solution(x,y,z):\n",
    "    a = array[int(x)-1:int(y)]\n",
    "    a.sort()\n",
    "    return a[int(z)-1]"
   ]
  },
  {
   "cell_type": "code",
   "execution_count": 15,
   "metadata": {},
   "outputs": [
    {
     "data": {
      "text/plain": [
       "5"
      ]
     },
     "execution_count": 15,
     "metadata": {},
     "output_type": "execute_result"
    }
   ],
   "source": [
    "solution(2,5,3)"
   ]
  },
  {
   "cell_type": "code",
   "execution_count": 17,
   "metadata": {},
   "outputs": [
    {
     "ename": "TypeError",
     "evalue": "solution() missing 2 required positional arguments: 'y' and 'z'",
     "output_type": "error",
     "traceback": [
      "\u001b[1;31m---------------------------------------------------------------------------\u001b[0m",
      "\u001b[1;31mTypeError\u001b[0m                                 Traceback (most recent call last)",
      "\u001b[1;32m<ipython-input-17-bd3816333b2e>\u001b[0m in \u001b[0;36m<module>\u001b[1;34m\u001b[0m\n\u001b[1;32m----> 1\u001b[1;33m \u001b[0msolution\u001b[0m\u001b[1;33m(\u001b[0m\u001b[1;33m[\u001b[0m\u001b[1;33m[\u001b[0m\u001b[1;36m2\u001b[0m\u001b[1;33m,\u001b[0m\u001b[1;36m5\u001b[0m\u001b[1;33m,\u001b[0m\u001b[1;36m3\u001b[0m\u001b[1;33m]\u001b[0m\u001b[1;33m,\u001b[0m\u001b[1;33m[\u001b[0m\u001b[1;36m4\u001b[0m\u001b[1;33m,\u001b[0m\u001b[1;36m4\u001b[0m\u001b[1;33m,\u001b[0m\u001b[1;36m1\u001b[0m\u001b[1;33m]\u001b[0m\u001b[1;33m,\u001b[0m\u001b[1;33m[\u001b[0m\u001b[1;36m1\u001b[0m\u001b[1;33m,\u001b[0m\u001b[1;36m7\u001b[0m\u001b[1;33m,\u001b[0m\u001b[1;36m3\u001b[0m\u001b[1;33m]\u001b[0m\u001b[1;33m]\u001b[0m\u001b[1;33m)\u001b[0m\u001b[1;33m\u001b[0m\u001b[1;33m\u001b[0m\u001b[0m\n\u001b[0m",
      "\u001b[1;31mTypeError\u001b[0m: solution() missing 2 required positional arguments: 'y' and 'z'"
     ]
    }
   ],
   "source": []
  },
  {
   "cell_type": "code",
   "execution_count": 20,
   "metadata": {},
   "outputs": [],
   "source": [
    "def c_solution(array,x):\n",
    "    b=[]\n",
    "    for i in range(len(x)):\n",
    "        a=array[int(x[i][0])-1:int(x[i][1])]\n",
    "        a.sort()\n",
    "        b.append(a[int(x[i][2])-1])\n",
    "    return b"
   ]
  },
  {
   "cell_type": "code",
   "execution_count": 21,
   "metadata": {},
   "outputs": [
    {
     "data": {
      "text/plain": [
       "[5, 6, 3]"
      ]
     },
     "execution_count": 21,
     "metadata": {},
     "output_type": "execute_result"
    }
   ],
   "source": [
    "c_solution([1,5,2,6,3,7,4],[[2,5,3],[4,4,1],[1,7,3]])"
   ]
  },
  {
   "cell_type": "code",
   "execution_count": 34,
   "metadata": {},
   "outputs": [],
   "source": [
    "class Car():\n",
    "    \n",
    "    instance_count =0\n",
    "    \n",
    "    def __init__(self,size,color):\n",
    "        self.size = size\n",
    "        self.color = color\n",
    "        Car.instance_count += 1\n",
    "        print(\"자동차 객체의 수 : {0}\".format(Car.instance_count))\n",
    "        \n",
    "    def move(self):\n",
    "        print(\"자동차 ({0} & {1}) 가 움직입니다.\".format(self.size,self.color))"
   ]
  },
  {
   "cell_type": "code",
   "execution_count": 35,
   "metadata": {},
   "outputs": [
    {
     "name": "stdout",
     "output_type": "stream",
     "text": [
      "자동차 객체의 수 : 1\n"
     ]
    }
   ],
   "source": [
    "car1 = Car('small','black')"
   ]
  },
  {
   "cell_type": "code",
   "execution_count": 36,
   "metadata": {},
   "outputs": [
    {
     "name": "stdout",
     "output_type": "stream",
     "text": [
      "자동차 객체의 수 : 2\n"
     ]
    }
   ],
   "source": [
    "car2 = Car('big','white')"
   ]
  },
  {
   "cell_type": "code",
   "execution_count": 37,
   "metadata": {},
   "outputs": [
    {
     "name": "stdout",
     "output_type": "stream",
     "text": [
      "자동차 (small & black) 가 움직입니다.\n"
     ]
    }
   ],
   "source": [
    "car1.move()"
   ]
  },
  {
   "cell_type": "code",
   "execution_count": 43,
   "metadata": {},
   "outputs": [],
   "source": [
    "class Car2():\n",
    "    count = 0;\n",
    "    \n",
    "    def __init__(self, size, num):\n",
    "        self.size = size\n",
    "        self.count = num\n",
    "        Car2.count += 1\n",
    "        print(\"자동차 객체의 수: Car2.count = {0}\".format(Car2.count))\n",
    "        print(\"인스턴스 변수 초기화 : self.count ={0}\".format(self.count))\n",
    "        \n",
    "    def move(self):\n",
    "        print(\"자동차 ({0} & {1})가 움직입니다.\".format(self.size, self.count))"
   ]
  },
  {
   "cell_type": "code",
   "execution_count": 44,
   "metadata": {},
   "outputs": [
    {
     "name": "stdout",
     "output_type": "stream",
     "text": [
      "자동차 객체의 수: Car2.count = 1\n",
      "인스턴스 변수 초기화 : self.count =20\n"
     ]
    }
   ],
   "source": [
    "car1 = Car2(\"big\",20)"
   ]
  },
  {
   "cell_type": "code",
   "execution_count": 45,
   "metadata": {},
   "outputs": [
    {
     "name": "stdout",
     "output_type": "stream",
     "text": [
      "자동차 객체의 수: Car2.count = 2\n",
      "인스턴스 변수 초기화 : self.count =30\n"
     ]
    }
   ],
   "source": [
    "car1 = Car2(\"small\",30)"
   ]
  },
  {
   "cell_type": "code",
   "execution_count": 42,
   "metadata": {},
   "outputs": [
    {
     "name": "stdout",
     "output_type": "stream",
     "text": [
      "<__main__.Car2 object at 0x0000023727815948>\n"
     ]
    }
   ],
   "source": []
  },
  {
   "cell_type": "code",
   "execution_count": 168,
   "metadata": {},
   "outputs": [],
   "source": [
    "prices = [1,2,3,2,3]\n",
    "\n",
    "def solution(prices):\n",
    "    \n",
    "    answer=[]\n",
    "    a=0\n",
    "    for i in range(len(prices)):\n",
    "        for m in range(i,len(prices)-1):\n",
    "            if i == len(prices):\n",
    "                answer.append(0)\n",
    "            elif prices[i] <= prices[m]:\n",
    "                    a +=1\n",
    "        answer.append(a)\n",
    "        a=0\n",
    "    return answer"
   ]
  },
  {
   "cell_type": "code",
   "execution_count": 169,
   "metadata": {},
   "outputs": [
    {
     "data": {
      "text/plain": [
       "[4, 3, 1, 1, 0]"
      ]
     },
     "execution_count": 169,
     "metadata": {},
     "output_type": "execute_result"
    }
   ],
   "source": [
    "solution([1,2,3,2,3])"
   ]
  },
  {
   "cell_type": "code",
   "execution_count": 134,
   "metadata": {},
   "outputs": [
    {
     "name": "stdout",
     "output_type": "stream",
     "text": [
      "[3, 3, 2]\n"
     ]
    }
   ],
   "source": [
    "answer=[]\n",
    "a=1\n",
    "for i in range(len(prices)):\n",
    "    for m in range(i,len(prices)-1):\n",
    "        if m == len(prices):\n",
    "            print('o')\n",
    "            break\n",
    "        elif prices[m] <= prices[m+1]:\n",
    "                a += 1\n",
    "        else:\n",
    "            answer.append(a)\n",
    "            a=1\n",
    "print(answer)"
   ]
  },
  {
   "cell_type": "code",
   "execution_count": 135,
   "metadata": {},
   "outputs": [
    {
     "name": "stdout",
     "output_type": "stream",
     "text": [
      "2\n",
      "3\n",
      "1\n",
      "2\n",
      "[4]\n"
     ]
    }
   ],
   "source": [
    "a=1\n",
    "answer=[]\n",
    "for m in range(0,len(prices)-1):\n",
    "    if prices[m] <= prices[m+1]:\n",
    "        a += 1\n",
    "        print(a)\n",
    "    else:\n",
    "        answer.append(a+1)\n",
    "        a=1\n",
    "        print(a)\n",
    "        \n",
    "print(answer)"
   ]
  },
  {
   "cell_type": "code",
   "execution_count": 176,
   "metadata": {},
   "outputs": [
    {
     "name": "stdout",
     "output_type": "stream",
     "text": [
      "{'192.168.1.4': [('192.168.1.4', '오후 5:35:00', 'baseball_엄지우.txt'), ('192.168.1.4', '오후 5:36:14', 'baseball_엄지우(1).txt'), ('192.168.1.4', '오후 6:41:44', 'mystring_엄지우.txt'), ('192.168.1.4', '오후 3:23:46', 'transhangle엄지우.txt'), ('192.168.1.4', '오후 3:39:12', 'transhangle엄지우(1).txt')], '192.168.1.60': [('192.168.1.60', '오후 5:35:52', 'Baseball_김도이.txt'), ('192.168.1.60', '오후 5:42:46', 'Baseball_김도이_최종.txt'), ('192.168.1.60', '오후 3:35:01', 'Day2_숫자_한글_김도이.txt'), ('192.168.1.60', '오후 4:09:54', 'Day2_workshop_김도이.txt')], '192.168.1.52': [('192.168.1.52', '오후 5:35:53', 'Baseball_김서정.txt'), ('192.168.1.52', '오후 5:45:18', 'Baseball_김서정_수정본.txt'), ('192.168.1.52', '오후 7:20:39', 'my_string_김서정.txt')], '192.168.1.17': [('192.168.1.17', '오후 5:36:32', 'baseball_권준형.txt'), ('192.168.1.17', '오후 6:16:06', 'mystring_권준형.txt'), ('192.168.1.17', '오후 1:50:05', 'day2_workshop1_권준형.txt'), ('192.168.1.17', '오후 3:21:03', 'trans_hangul_권준형.txt')], '192.168.1.55': [('192.168.1.55', '오후 5:59:32', 'Baseball_김성현.txt'), ('192.168.1.55', '오후 7:44:09', 'my_string_김성현.txt'), ('192.168.1.55', '오후 1:52:54', '김성현.txt')], '192.168.1.50': [('192.168.1.50', '오후 6:17:40', 'my_string_노진서.txt'), ('192.168.1.50', '오후 6:19:51', 'Baseball_노진서.txt'), ('192.168.1.50', '오후 7:10:08', 'baseball_노진서_list'), ('192.168.1.50', '오후 7:48:13', 'my_string_노진서_rev.txt'), ('192.168.1.50', '오후 3:34:39', 'trans_hangul_노진서.txt')], '192.168.1.47': [('192.168.1.47', '오후 6:25:52', 'Baseball_신영진.txt')], '192.168.1.3': [('192.168.1.3', '오후 6:27:58', 'Baseball_전혜진.txt')], '192.168.1.49': [('192.168.1.49', '오후 6:31:48', 'Baseball_김승연.txt'), ('192.168.1.49', '오전 9:43:00', 'my_string_김승연.txt')], '192.168.1.56': [('192.168.1.56', '오후 6:35:58', 'Baseball_박원우.txt')], '192.168.1.14': [('192.168.1.14', '오후 6:58:44', 'my_string_이문형.txt'), ('192.168.1.14', '오후 8:32:04', 'my_string_이문형(수정).txt'), ('192.168.1.14', '오후 2:00:54', 'doll'), ('192.168.1.14', '오후 3:43:51', 'trans_hangul_이문형.txt'), ('192.168.1.14', '오후 3:48:05', 'doll')], '192.168.1.12': [('192.168.1.12', '오후 7:11:05', 'Baseball_서소윤.txt')], '192.168.1.19': [('192.168.1.19', '오후 7:33:40', 'Baseball_강가영.txt')], '192.168.1.62': [('192.168.1.62', '오후 7:38:17', 'Baseball_오재환.txt'), ('192.168.1.62', '오후 8:11:06', 'my_string_오재환.txt')], '192.168.1.63': [('192.168.1.63', '오전 10:04:27', 'Baseball_이희선.txt'), ('192.168.1.63', '오전 10:04:27', 'my_string_이희선.txt')], '192.168.1.22': [('192.168.1.22', '오후 12:10:52', 'stopwords.txt')]}\n"
     ]
    }
   ],
   "source": [
    "f = open('logs.txt','r')\n",
    "\n",
    "line = f.readline()\n",
    "logsdic={}\n",
    "\n",
    "while line:\n",
    "    if \"Fully uploaded\" in line:\n",
    "        a=line.split()\n",
    "        when = a[0]+' '+a[1]\n",
    "        who= a[2].split(':')[0]\n",
    "        what = a[5]\n",
    "        \n",
    "        if logsdic.get(who) != None:\n",
    "            logsdic[who].append((who,when,what))\n",
    "        else:\n",
    "            logsdic[who] = [(who,when,what)]\n",
    "        \n",
    "    line = f.readline()\n",
    "\n",
    "f.close()\n",
    "\n",
    "print(logsdic)\n"
   ]
  },
  {
   "cell_type": "code",
   "execution_count": 177,
   "metadata": {},
   "outputs": [],
   "source": [
    "import my_module"
   ]
  },
  {
   "cell_type": "code",
   "execution_count": 208,
   "metadata": {},
   "outputs": [],
   "source": [
    "data1 = [10300, 9600, 9800, 8200, 7800, 8300, 9500, 11000, 10200, 9500]"
   ]
  },
  {
   "cell_type": "code",
   "execution_count": 210,
   "metadata": {},
   "outputs": [],
   "source": [
    "def max_profit(data):\n",
    "    max_p=0\n",
    "    for i in range(len(data)):\n",
    "        for m in range(i,len(data)):\n",
    "            p=data[m]-data[i]\n",
    "            if p > max_p:\n",
    "                max_p=data[m]-data[i]\n",
    "                max_i=int(i)\n",
    "                max_m=int(m)\n",
    "    return [max_i,max_m,max_p]"
   ]
  },
  {
   "cell_type": "code",
   "execution_count": 211,
   "metadata": {},
   "outputs": [
    {
     "data": {
      "text/plain": [
       "[4, 7, 3200]"
      ]
     },
     "execution_count": 211,
     "metadata": {},
     "output_type": "execute_result"
    }
   ],
   "source": [
    "max_profit(data1)"
   ]
  },
  {
   "cell_type": "code",
   "execution_count": 214,
   "metadata": {},
   "outputs": [
    {
     "data": {
      "text/plain": [
       "[8, 7, 10900]"
      ]
     },
     "execution_count": 214,
     "metadata": {},
     "output_type": "execute_result"
    }
   ],
   "source": [
    "data1 = [10300,9600,9800,8200,7800,8300,9500,11000,10200,9500]\n",
    "\n",
    "def max_profit(data):\n",
    "    \n",
    "    data_min = 0;\n",
    "    data_max = 0;\n",
    "    \n",
    "    for i in range(1, len(data1)):\n",
    "        if data[data_min] > data[i]:\n",
    "            data_min = i\n",
    "        if data[data_max] < data[i]:\n",
    "            data_max = i\n",
    "    \n",
    "    \n",
    "    \n",
    "    return [data_min, data_max, data[data_max] - data[data_min]]\n",
    "\n",
    "max_profit(data1)"
   ]
  },
  {
   "cell_type": "code",
   "execution_count": 217,
   "metadata": {},
   "outputs": [
    {
     "data": {
      "text/plain": [
       "[4, 7, 3200]"
      ]
     },
     "execution_count": 217,
     "metadata": {},
     "output_type": "execute_result"
    }
   ],
   "source": [
    "data1 = [10300,9600,9800,8200,7800,8300,9500,11000,10200,9500]\n",
    "\n",
    "def max_profit(data):\n",
    "    data_min = 0\n",
    "    data_max = 0\n",
    "    data_profit = 0\n",
    "    \n",
    "    for i in range(0, len(data)):\n",
    "        for j in range(i+1, len(data)):\n",
    "            if data[j] - data[i] > data_profit:\n",
    "                data_min = i\n",
    "                data_max = j\n",
    "                data_profit = data[j] - data[i]\n",
    "        \n",
    "    \n",
    "    \n",
    "    return [data_min, data_max, data_profit]\n",
    "\n",
    "max_profit(data1)"
   ]
  },
  {
   "cell_type": "code",
   "execution_count": 239,
   "metadata": {
    "scrolled": false
   },
   "outputs": [
    {
     "name": "stdout",
     "output_type": "stream",
     "text": [
      "['100', 'A', 'C', 'D']\n",
      "['200', 'B', 'C', 'E']\n",
      "['300', 'A', 'B', 'C', 'E']\n",
      "['400', 'B', 'E']\n",
      "[['100', 'A', 'C', 'D'], ['200', 'B', 'C', 'E'], ['300', 'A', 'B', 'C', 'E'], ['400', 'B', 'E']]\n"
     ]
    }
   ],
   "source": [
    "f = open('data.txt','r')\n",
    "line = f.readline()\n",
    "\n",
    "lst=[]\n",
    "while line:\n",
    "    a=line.split()\n",
    "    lst.append(a)\n",
    "    line=f.readline()\n",
    "    \n",
    "f.close()\n",
    "\n",
    "print(lst)"
   ]
  },
  {
   "cell_type": "code",
   "execution_count": 298,
   "metadata": {},
   "outputs": [
    {
     "name": "stdout",
     "output_type": "stream",
     "text": [
      "{'A': 2, 'C': 3, 'D': 1, 'B': 3, 'E': 3}\n"
     ]
    }
   ],
   "source": [
    "\n",
    "\n",
    "dic ={}\n",
    "\n",
    "for i in range(len(lst)):\n",
    "    for j in range(1,len(lst[i])):\n",
    "        try:\n",
    "            dic[str(lst[i][j])] +=1\n",
    "        except:\n",
    "            dic[str(lst[i][j])] =1\n",
    "\n",
    "print(dic)"
   ]
  },
  {
   "cell_type": "code",
   "execution_count": 302,
   "metadata": {},
   "outputs": [
    {
     "name": "stdout",
     "output_type": "stream",
     "text": [
      "{'A': 2, 'C': 3, 'D': 1, 'B': 3, 'E': 3}\n",
      "['D']\n",
      "{'A': 2, 'C': 3, 'B': 3, 'E': 3}\n",
      "['D']\n"
     ]
    }
   ],
   "source": [
    "del_list=[]\n",
    "for i in dic:\n",
    "    if dic[i] < 2:\n",
    "        del_list.append(i)\n",
    "        \n",
    "\n",
    "\n",
    "for i in del_list:\n",
    "    del dic[i]  "
   ]
  },
  {
   "cell_type": "code",
   "execution_count": 326,
   "metadata": {},
   "outputs": [
    {
     "name": "stdout",
     "output_type": "stream",
     "text": [
      "[('A', 'C'), ('A', 'B'), ('A', 'E'), ('C', 'B'), ('C', 'E'), ('B', 'E')]\n"
     ]
    }
   ],
   "source": [
    "lst2=[]\n",
    "for i in dic:\n",
    "    for j in dic:\n",
    "        if i != j and (j,i) not in lst2 :\n",
    "            lst2.append((i,j))\n",
    "                \n",
    "print(lst2)\n",
    "\n"
   ]
  },
  {
   "cell_type": "code",
   "execution_count": 328,
   "metadata": {},
   "outputs": [
    {
     "name": "stdout",
     "output_type": "stream",
     "text": [
      "('A', 'C')\n",
      "('A', 'B')\n",
      "('A', 'E')\n",
      "('C', 'B')\n",
      "('C', 'E')\n",
      "('B', 'E')\n",
      "('A', 'C')\n",
      "('A', 'B')\n",
      "('A', 'E')\n",
      "('C', 'B')\n",
      "('C', 'E')\n",
      "('B', 'E')\n",
      "('A', 'C')\n",
      "('A', 'B')\n",
      "('A', 'E')\n",
      "('C', 'B')\n",
      "('C', 'E')\n",
      "('B', 'E')\n",
      "('A', 'C')\n",
      "('A', 'B')\n",
      "('A', 'E')\n",
      "('C', 'B')\n",
      "('C', 'E')\n",
      "('B', 'E')\n",
      "('A', 'C')\n",
      "('A', 'B')\n",
      "('A', 'E')\n",
      "('C', 'B')\n",
      "('C', 'E')\n",
      "('B', 'E')\n",
      "('A', 'C')\n",
      "('A', 'B')\n",
      "('A', 'E')\n",
      "('C', 'B')\n",
      "('C', 'E')\n",
      "('B', 'E')\n",
      "('A', 'C')\n",
      "('A', 'B')\n",
      "('A', 'E')\n",
      "('C', 'B')\n",
      "('C', 'E')\n",
      "('B', 'E')\n",
      "('A', 'C')\n",
      "('A', 'B')\n",
      "('A', 'E')\n",
      "('C', 'B')\n",
      "('C', 'E')\n",
      "('B', 'E')\n",
      "('A', 'C')\n",
      "('A', 'B')\n",
      "('A', 'E')\n",
      "('C', 'B')\n",
      "('C', 'E')\n",
      "('B', 'E')\n",
      "('A', 'C')\n",
      "('A', 'B')\n",
      "('A', 'E')\n",
      "('C', 'B')\n",
      "('C', 'E')\n",
      "('B', 'E')\n",
      "('A', 'C')\n",
      "('A', 'B')\n",
      "('A', 'E')\n",
      "('C', 'B')\n",
      "('C', 'E')\n",
      "('B', 'E')\n",
      "('A', 'C')\n",
      "('A', 'B')\n",
      "('A', 'E')\n",
      "('C', 'B')\n",
      "('C', 'E')\n",
      "('B', 'E')\n"
     ]
    }
   ],
   "source": [
    "dic2 ={}\n",
    "\n",
    "for i in range(len(lst)):\n",
    "    for j in range(1,len(lst[i])):\n",
    "        for k in range(len(lst2)):\n",
    "            if lst2[k] in \n",
    "        \n",
    "        \n",
    "        \n",
    "        \n",
    "        \n",
    "#         try:\n",
    "#             dic2[str(lst[i][j])] +=1\n",
    "#         except:\n",
    "#             dic2[str(lst[i][j])] =1\n",
    "\n",
    "# print(dic2)"
   ]
  },
  {
   "cell_type": "code",
   "execution_count": null,
   "metadata": {},
   "outputs": [],
   "source": []
  }
 ],
 "metadata": {
  "kernelspec": {
   "display_name": "Python 3",
   "language": "python",
   "name": "python3"
  },
  "language_info": {
   "codemirror_mode": {
    "name": "ipython",
    "version": 3
   },
   "file_extension": ".py",
   "mimetype": "text/x-python",
   "name": "python",
   "nbconvert_exporter": "python",
   "pygments_lexer": "ipython3",
   "version": "3.7.6"
  }
 },
 "nbformat": 4,
 "nbformat_minor": 4
}
