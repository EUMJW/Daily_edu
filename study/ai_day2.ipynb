{
 "cells": [
  {
   "cell_type": "code",
   "execution_count": 77,
   "metadata": {},
   "outputs": [
    {
     "name": "stdout",
     "output_type": "stream",
     "text": [
      "a\n",
      "a\n"
     ]
    },
    {
     "ename": "KeyboardInterrupt",
     "evalue": "",
     "output_type": "error",
     "traceback": [
      "\u001b[1;31m---------------------------------------------------------------------------\u001b[0m",
      "\u001b[1;31mKeyboardInterrupt\u001b[0m                         Traceback (most recent call last)",
      "\u001b[1;32m<ipython-input-77-5fe5e463413c>\u001b[0m in \u001b[0;36m<module>\u001b[1;34m\u001b[0m\n\u001b[0;32m     20\u001b[0m \u001b[1;33m\u001b[0m\u001b[0m\n\u001b[0;32m     21\u001b[0m \u001b[1;32mwhile\u001b[0m \u001b[0msum\u001b[0m\u001b[1;33m(\u001b[0m\u001b[0manswer\u001b[0m\u001b[1;33m)\u001b[0m \u001b[1;33m<\u001b[0m \u001b[0mlen\u001b[0m\u001b[1;33m(\u001b[0m\u001b[0mp\u001b[0m\u001b[1;33m)\u001b[0m\u001b[1;33m:\u001b[0m\u001b[1;33m\u001b[0m\u001b[1;33m\u001b[0m\u001b[0m\n\u001b[1;32m---> 22\u001b[1;33m     \u001b[0mp\u001b[0m \u001b[1;33m=\u001b[0m \u001b[0mp\u001b[0m \u001b[1;33m+\u001b[0m \u001b[0ms\u001b[0m\u001b[1;33m\u001b[0m\u001b[1;33m\u001b[0m\u001b[0m\n\u001b[0m\u001b[0;32m     23\u001b[0m \u001b[1;33m\u001b[0m\u001b[0m\n\u001b[0;32m     24\u001b[0m     \u001b[1;32mif\u001b[0m \u001b[0mp\u001b[0m\u001b[1;33m[\u001b[0m\u001b[0mn\u001b[0m\u001b[1;33m]\u001b[0m\u001b[1;33m>=\u001b[0m \u001b[1;36m100\u001b[0m\u001b[1;33m:\u001b[0m\u001b[1;33m\u001b[0m\u001b[1;33m\u001b[0m\u001b[0m\n",
      "\u001b[1;31mKeyboardInterrupt\u001b[0m: "
     ]
    }
   ],
   "source": [
    "import numpy as np\n",
    "\n",
    "\n",
    "progresses = [93,30,55]\n",
    "\n",
    "speeds = [1,30,5]\n",
    "\n",
    "\n",
    "p= np.array(progresses)\n",
    "\n",
    "s= np.array(speeds)\n",
    "\n",
    "\n",
    "\n",
    "answer = []\n",
    "\n",
    "n=0\n",
    "\n",
    "\n",
    "\n",
    "while sum(answer) < len(p):\n",
    "    p = p + s\n",
    "    \n",
    "    if p[n]>= 100:\n",
    "        dist = 1\n",
    "        for i in range(n,len(p)-1):\n",
    "            if p[i] >= 100:\n",
    "                dist +=1\n",
    "                n+=1\n",
    "            else:\n",
    "                answer.append(dist)\n",
    "                break\n",
    "print(answer)"
   ]
  },
  {
   "cell_type": "code",
   "execution_count": 71,
   "metadata": {},
   "outputs": [
    {
     "name": "stdout",
     "output_type": "stream",
     "text": [
      "a\n"
     ]
    }
   ],
   "source": [
    "\n",
    "progresses = [93,30,55,12,6,23,7,84]\n",
    "\n",
    "speeds = [1,30,5,62,12,77,43,12]\n",
    "\n",
    "\n",
    "progresses = np.array(progresses)\n",
    "\n",
    "speeds=np.array(speeds)\n",
    "\n",
    "n=0\n",
    "\n",
    "if progresses[n] > 50:\n",
    "    print('a')\n"
   ]
  },
  {
   "cell_type": "code",
   "execution_count": 78,
   "metadata": {},
   "outputs": [
    {
     "data": {
      "text/plain": [
       "[2, 1]"
      ]
     },
     "execution_count": 78,
     "metadata": {},
     "output_type": "execute_result"
    }
   ],
   "source": [
    "import numpy as np\n",
    "\n",
    "def solution(progresses, speeds):\n",
    "    progresses = np.array(progresses)\n",
    "    speeds = np.array(speeds)\n",
    "    answer = []\n",
    "    n=0\n",
    "    \n",
    "    while sum(answer) < len(progresses):\n",
    "        progresses = progresses + speeds\n",
    "        \n",
    "        if progresses[n] >=100:\n",
    "            dist = 1\n",
    "            for i in range(n,len(progresses)-1):\n",
    "                if progresses[i+1] >= 100:\n",
    "                    dist +=1\n",
    "                    n +=1\n",
    "                else:\n",
    "                    answer.append(dist)\n",
    "                    break\n",
    "    return answer\n",
    "\n",
    "solution([93,30,55],[1,30,5])"
   ]
  },
  {
   "cell_type": "code",
   "execution_count": 79,
   "metadata": {},
   "outputs": [],
   "source": [
    "arr = np.arange(10)*100"
   ]
  },
  {
   "cell_type": "code",
   "execution_count": 80,
   "metadata": {},
   "outputs": [
    {
     "data": {
      "text/plain": [
       "array([  0, 100, 200, 300, 400, 500, 600, 700, 800, 900])"
      ]
     },
     "execution_count": 80,
     "metadata": {},
     "output_type": "execute_result"
    }
   ],
   "source": [
    "arr"
   ]
  },
  {
   "cell_type": "code",
   "execution_count": 81,
   "metadata": {},
   "outputs": [
    {
     "data": {
      "text/plain": [
       "array([700, 100, 200, 600])"
      ]
     },
     "execution_count": 81,
     "metadata": {},
     "output_type": "execute_result"
    }
   ],
   "source": [
    "inds = [7,1,2,6]\n",
    "\n",
    "arr[inds]"
   ]
  },
  {
   "cell_type": "code",
   "execution_count": 82,
   "metadata": {},
   "outputs": [
    {
     "data": {
      "text/plain": [
       "array([700, 100, 200, 600])"
      ]
     },
     "execution_count": 82,
     "metadata": {},
     "output_type": "execute_result"
    }
   ],
   "source": [
    "arr.take(inds)"
   ]
  },
  {
   "cell_type": "code",
   "execution_count": 83,
   "metadata": {},
   "outputs": [],
   "source": [
    "arr.put(inds,42)"
   ]
  },
  {
   "cell_type": "code",
   "execution_count": 84,
   "metadata": {},
   "outputs": [
    {
     "data": {
      "text/plain": [
       "array([  0,  42,  42, 300, 400, 500,  42,  42, 800, 900])"
      ]
     },
     "execution_count": 84,
     "metadata": {},
     "output_type": "execute_result"
    }
   ],
   "source": [
    "arr"
   ]
  },
  {
   "cell_type": "code",
   "execution_count": 85,
   "metadata": {},
   "outputs": [],
   "source": [
    "arr.put(inds,[40,41,42,43])"
   ]
  },
  {
   "cell_type": "code",
   "execution_count": 86,
   "metadata": {},
   "outputs": [
    {
     "data": {
      "text/plain": [
       "array([  0,  41,  42, 300, 400, 500,  43,  40, 800, 900])"
      ]
     },
     "execution_count": 86,
     "metadata": {},
     "output_type": "execute_result"
    }
   ],
   "source": [
    "arr"
   ]
  },
  {
   "cell_type": "code",
   "execution_count": 115,
   "metadata": {},
   "outputs": [],
   "source": [
    "from numpy import linalg as la\n",
    "def ecludDist(inA, inB):\n",
    "    distance = np.sqrt(np.sum((inA-inB)**2,0))\n",
    "    return distance"
   ]
  },
  {
   "cell_type": "code",
   "execution_count": 116,
   "metadata": {},
   "outputs": [],
   "source": [
    "inA = np.array([[0,0],[1,1]])\n",
    "inB = np.array([[3,4],[4,5]])\n",
    "\n"
   ]
  },
  {
   "cell_type": "code",
   "execution_count": 117,
   "metadata": {},
   "outputs": [
    {
     "data": {
      "text/plain": [
       "[5.0, 5.0]"
      ]
     },
     "execution_count": 117,
     "metadata": {},
     "output_type": "execute_result"
    }
   ],
   "source": [
    "answer =[]\n",
    "for i in range(len(inA)):\n",
    "    answer.append(ecludDist(inA[i],inB[i]))\n",
    "    \n",
    "\n",
    "answer"
   ]
  },
  {
   "cell_type": "code",
   "execution_count": 119,
   "metadata": {},
   "outputs": [],
   "source": [
    "group = np.array([[1.0,1.1],[1.0,1.0],[0,0],[0,0.1]])\n",
    "\n",
    "labels = ['A','A','B','B']\n",
    "\n"
   ]
  },
  {
   "cell_type": "code",
   "execution_count": 192,
   "metadata": {},
   "outputs": [],
   "source": [
    "def classify0(x,group,labels,k):\n",
    "    ans=[]\n",
    "\n",
    "    for i in range(len(group)):\n",
    "        a = ecludDist(group[i], x)\n",
    "        ans.append([a,labels[i]])\n",
    "\n",
    "\n",
    "    ans.sort()\n",
    "\n",
    "\n",
    "    dict={}\n",
    "\n",
    "    for i in range(k):\n",
    "        if ans[i][1] in dict:\n",
    "            dict[ans[i][1]]+=1\n",
    "        else:\n",
    "            dict[ans[i][1]] =1\n",
    "\n",
    "    maxdict = max(dict, key= lambda x:dict[x])\n",
    "\n",
    "    return maxdict\n"
   ]
  },
  {
   "cell_type": "code",
   "execution_count": 148,
   "metadata": {},
   "outputs": [
    {
     "name": "stdout",
     "output_type": "stream",
     "text": [
      "{'B': 2, 'A': 1}\n",
      "B\n"
     ]
    }
   ],
   "source": [
    "x= np.array([0,0])\n",
    "\n",
    "k=3\n",
    "\n",
    "ans=[]\n",
    "\n",
    "for i in range(len(group)):\n",
    "    a = ecludDist(group[i], x)\n",
    "    ans.append([a,labels[i]])\n",
    "\n",
    "\n",
    "ans.sort()\n",
    "\n",
    "\n",
    "dict={}\n",
    "\n",
    "for i in range(k):\n",
    "    if ans[i][1] in dict:\n",
    "        dict[ans[i][1]]+=1\n",
    "    else:\n",
    "        dict[ans[i][1]] =1\n",
    "        \n",
    "print(dict)\n",
    "\n",
    "maxdict = max(dict, key= lambda x:dict[x])\n",
    "\n",
    "print(maxdict)"
   ]
  },
  {
   "cell_type": "code",
   "execution_count": 159,
   "metadata": {},
   "outputs": [
    {
     "name": "stdout",
     "output_type": "stream",
     "text": [
      "{'A': 2, 'B': 1}\n"
     ]
    },
    {
     "data": {
      "text/plain": [
       "'A'"
      ]
     },
     "execution_count": 159,
     "metadata": {},
     "output_type": "execute_result"
    }
   ],
   "source": [
    "classify0([10,1],group,labels,3)"
   ]
  },
  {
   "cell_type": "code",
   "execution_count": 172,
   "metadata": {},
   "outputs": [
    {
     "data": {
      "text/plain": [
       "array([['40920', '8.326976', '0.953952', '3'],\n",
       "       ['14488', '7.153469', '1.673904', '2'],\n",
       "       ['26052', '1.441871', '0.805124', '1'],\n",
       "       ['75136', '13.147394', '0.428964', '1'],\n",
       "       ['38344', '1.669788', '0.134296', '1']], dtype='<U9')"
      ]
     },
     "execution_count": 172,
     "metadata": {},
     "output_type": "execute_result"
    }
   ],
   "source": [
    "f=open('datingTestSet2.txt','r')\n",
    "\n",
    "line = f.readline()\n",
    "\n",
    "data=[]\n",
    "\n",
    "while line:\n",
    "    data.append(line.split())\n",
    "    line=f.readline()\n",
    "\n",
    "f.close()\n",
    "    \n",
    "dataset = np.array(data)\n",
    "\n",
    "\n",
    "dataset.shape\n",
    "\n",
    "dataset[0:5,:]"
   ]
  },
  {
   "cell_type": "code",
   "execution_count": 174,
   "metadata": {},
   "outputs": [
    {
     "data": {
      "text/plain": [
       "array([[4.0920000e+04, 8.3269760e+00, 9.5395200e-01, 3.0000000e+00],\n",
       "       [1.4488000e+04, 7.1534690e+00, 1.6739040e+00, 2.0000000e+00],\n",
       "       [2.6052000e+04, 1.4418710e+00, 8.0512400e-01, 1.0000000e+00],\n",
       "       [7.5136000e+04, 1.3147394e+01, 4.2896400e-01, 1.0000000e+00],\n",
       "       [3.8344000e+04, 1.6697880e+00, 1.3429600e-01, 1.0000000e+00]])"
      ]
     },
     "execution_count": 174,
     "metadata": {},
     "output_type": "execute_result"
    }
   ],
   "source": [
    "dataset = np.loadtxt(\"datingTestSet2.txt\",delimiter='\\t')\n",
    "\n",
    "dataset[0:5,:]"
   ]
  },
  {
   "cell_type": "code",
   "execution_count": 208,
   "metadata": {},
   "outputs": [],
   "source": [
    "trainData = dataset[:900,:3]\n",
    "trainLabels = dataset[:900,3]\n",
    "testData = dataset[900:,:3]\n",
    "testLabels = dataset[900:,3]"
   ]
  },
  {
   "cell_type": "code",
   "execution_count": 181,
   "metadata": {},
   "outputs": [],
   "source": [
    "def classify0(x,group,labels,k):\n",
    "    ans=[]\n",
    "\n",
    "    for i in range(len(group)):\n",
    "        a = ecludDist(group[i], x)\n",
    "        ans.append([a,labels[i]])\n",
    "\n",
    "\n",
    "    ans.sort()\n",
    "\n",
    "\n",
    "    dict={}\n",
    "\n",
    "    for i in range(k):\n",
    "        if ans[i][1] in dict:\n",
    "            dict[ans[i][1]]+=1\n",
    "        else:\n",
    "            dict[ans[i][1]] =1\n",
    "\n",
    "    print(dict)\n",
    "\n",
    "    maxdict = max(dict, key= lambda x:dict[x])\n",
    "\n",
    "    return maxdict"
   ]
  },
  {
   "cell_type": "code",
   "execution_count": 189,
   "metadata": {},
   "outputs": [
    {
     "name": "stdout",
     "output_type": "stream",
     "text": [
      "{3.0: 1, 2.0: 29}\n"
     ]
    },
    {
     "data": {
      "text/plain": [
       "2.0"
      ]
     },
     "execution_count": 189,
     "metadata": {},
     "output_type": "execute_result"
    }
   ],
   "source": [
    "classify0(testData[0],trainData,trainLabels,30)"
   ]
  },
  {
   "cell_type": "code",
   "execution_count": 193,
   "metadata": {},
   "outputs": [],
   "source": [
    "def knn(testdata, traindata, trainlabels, k):\n",
    "    answer=[]\n",
    "    for i in range(len(testdata)):\n",
    "        answer.append(classify0(testdata[i],traindata,trainlabels,k))\n",
    "        \n",
    "    return answer"
   ]
  },
  {
   "cell_type": "code",
   "execution_count": 209,
   "metadata": {},
   "outputs": [
    {
     "name": "stdout",
     "output_type": "stream",
     "text": [
      "[3.0, 2.0, 1.0, 2.0, 2.0, 1.0, 1.0, 2.0, 3.0, 3.0, 1.0, 1.0, 1.0, 3.0, 3.0, 3.0, 3.0, 3.0, 2.0, 3.0, 1.0, 3.0, 3.0, 2.0, 3.0, 2.0, 3.0, 3.0, 2.0, 2.0, 3.0, 3.0, 1.0, 1.0, 3.0, 3.0, 1.0, 1.0, 3.0, 3.0, 2.0, 1.0, 2.0, 1.0, 1.0, 2.0, 2.0, 1.0, 1.0, 3.0, 2.0, 1.0, 1.0, 2.0, 3.0, 2.0, 2.0, 1.0, 3.0, 1.0, 2.0, 3.0, 1.0, 2.0, 2.0, 2.0, 3.0, 3.0, 2.0, 3.0, 1.0, 1.0, 2.0, 1.0, 2.0, 3.0, 1.0, 3.0, 2.0, 2.0, 2.0, 2.0, 2.0, 2.0, 2.0, 2.0, 2.0, 2.0, 2.0, 2.0, 3.0, 2.0, 2.0, 2.0, 2.0, 2.0, 1.0, 3.0, 1.0, 3.0]\n"
     ]
    }
   ],
   "source": [
    "a= knn(testData,trainData,trainLabels,30)\n",
    "\n",
    "print(a)"
   ]
  },
  {
   "cell_type": "code",
   "execution_count": 210,
   "metadata": {},
   "outputs": [
    {
     "data": {
      "text/plain": [
       "100"
      ]
     },
     "execution_count": 210,
     "metadata": {},
     "output_type": "execute_result"
    }
   ],
   "source": [
    "len(a)"
   ]
  },
  {
   "cell_type": "code",
   "execution_count": 211,
   "metadata": {},
   "outputs": [
    {
     "name": "stdout",
     "output_type": "stream",
     "text": [
      "0.88\n"
     ]
    }
   ],
   "source": [
    "cor = 0\n",
    "miss = 0\n",
    "\n",
    "for i in range(len(a)):\n",
    "    if a[i] == testLabels[i]:\n",
    "        cor +=1\n",
    "    else:\n",
    "        miss +=1\n",
    "        \n",
    "print((cor/(cor+miss)))"
   ]
  },
  {
   "cell_type": "code",
   "execution_count": null,
   "metadata": {},
   "outputs": [],
   "source": []
  }
 ],
 "metadata": {
  "kernelspec": {
   "display_name": "Python 3",
   "language": "python",
   "name": "python3"
  },
  "language_info": {
   "codemirror_mode": {
    "name": "ipython",
    "version": 3
   },
   "file_extension": ".py",
   "mimetype": "text/x-python",
   "name": "python",
   "nbconvert_exporter": "python",
   "pygments_lexer": "ipython3",
   "version": "3.7.6"
  }
 },
 "nbformat": 4,
 "nbformat_minor": 4
}
