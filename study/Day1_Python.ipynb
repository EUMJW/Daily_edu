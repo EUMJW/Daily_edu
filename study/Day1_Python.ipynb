{
 "cells": [
  {
   "cell_type": "raw",
   "metadata": {},
   "source": [
    "# 파이썬 첫날"
   ]
  },
  {
   "cell_type": "code",
   "execution_count": 5,
   "metadata": {},
   "outputs": [],
   "source": [
    "#파이썬 : 문자열을 다루기 쉬워서 다른 언어보다 빅데이터에 유리"
   ]
  },
  {
   "cell_type": "code",
   "execution_count": 8,
   "metadata": {},
   "outputs": [
    {
     "name": "stdout",
     "output_type": "stream",
     "text": [
      "[0, 1, 2, 3, 4, 5, 6, 7, 8, 9]\n",
      "[0, 1, 2]\n",
      "[4, 5, 6, 7]\n",
      "[0, 1, 2]\n",
      "[7, 8, 9]\n",
      "[0, 2, 4, 6, 8]\n",
      "[3, 4, 5, 6, 7, 8]\n"
     ]
    }
   ],
   "source": [
    "list_data = [0,1,2,3,4,5,6,7,8,9]\n",
    "\n",
    "print(list_data)\n",
    "print(list_data[0:3])\n",
    "print(list_data[4:8])\n",
    "print(list_data[:3])\n",
    "print(list_data[7:])\n",
    "print(list_data[::2])\n",
    "print(list_data[3:-1])"
   ]
  },
  {
   "cell_type": "code",
   "execution_count": 17,
   "metadata": {},
   "outputs": [
    {
     "name": "stdout",
     "output_type": "stream",
     "text": [
      "200\n",
      "100 * 200\n",
      "05100, 64, 144, 03.50, a, abcd\n",
      "1 one\n",
      "12  1234 00123\n"
     ]
    }
   ],
   "source": [
    "print(\"%d\"%(100+100))\n",
    "print(\"%d * %d\"%(100,200))\n",
    "print(\"05%d, %x, %o, %05.2f, %c, %s\"%(100,100,100,3.5,\"a\",\"abcd\"))\n",
    "print(\"{} {}\".format(1,\"one\"))\n",
    "print(\"{0:d} {2:5d} {1:05d}\".format(12,123,1234))\n",
    "# 0번째 포멧의 데시바?데시마?, 2번째 포맷을 5자리로 , 1번째 포맷을 5자리로 하면서 남는자리는 0으로"
   ]
  },
  {
   "cell_type": "code",
   "execution_count": 18,
   "metadata": {},
   "outputs": [
    {
     "name": "stdout",
     "output_type": "stream",
     "text": [
      "255 63 7\n"
     ]
    }
   ],
   "source": [
    "a=0xff\n",
    "#옥타값\n",
    "b=0o77\n",
    "#헥사값\n",
    "c=0b111\n",
    "#바이너리값\n",
    "print(a,b,c)"
   ]
  },
  {
   "cell_type": "code",
   "execution_count": 20,
   "metadata": {},
   "outputs": [
    {
     "name": "stdout",
     "output_type": "stream",
     "text": [
      "3.14 314000.0 3.14e-05\n"
     ]
    }
   ],
   "source": [
    "a=3.14\n",
    "b=3.14e5\n",
    "c=3.14e-5\n",
    "print(a,b,c)"
   ]
  },
  {
   "cell_type": "code",
   "execution_count": 24,
   "metadata": {},
   "outputs": [
    {
     "name": "stdout",
     "output_type": "stream",
     "text": [
      "Hel\n",
      "Hlo\n"
     ]
    }
   ],
   "source": [
    "str1=\"Hello\"\n",
    "\n",
    "print(str1[0:-2])\n",
    "print(str1[::2])"
   ]
  },
  {
   "cell_type": "code",
   "execution_count": 29,
   "metadata": {
    "scrolled": true
   },
   "outputs": [
    {
     "name": "stdout",
     "output_type": "stream",
     "text": [
      "['James', 'Robert', 'Lisa', 'Mary', 'Thomas']\n",
      "['James', 'Paul', 'Robert', 'Lisa', 'Mary', 'Thomas']\n",
      "['James', 'Paul', 'Robert', 'Lisa', 'Mary', 'Thomas', 'Laura', 'Betty']\n",
      "['James', 'Paul', 'Robert', 'Lisa', 'Mary', 'Thomas', 'Betty']\n",
      "Betty\n",
      "['James', 'Paul', 'Robert', 'Lisa', 'Mary', 'Thomas']\n",
      "3\n",
      "1\n",
      "['James', 'Lisa', 'Mary', 'Paul', 'Robert', 'Thomas']\n",
      "['James', 'Paul', 'Robert', 'Lisa', 'Mary', 'Thomas']\n",
      "['James', 'Lisa', 'Mary', 'Paul', 'Robert', 'Thomas']\n",
      "['Thomas', 'Robert', 'Paul', 'Mary', 'Lisa', 'James']\n"
     ]
    }
   ],
   "source": [
    "myF=['James','Robert','Lisa','Mary']\n",
    "\n",
    "myF.append('Thomas')\n",
    "print(myF)\n",
    "\n",
    "myF.insert(1,'Paul')\n",
    "print(myF)\n",
    "\n",
    "myF.extend(['Laura','Betty'])\n",
    "print(myF)\n",
    "\n",
    "myF.remove('Laura')\n",
    "print(myF)\n",
    "\n",
    "popF=myF.pop()\n",
    "print(popF)\n",
    "print(myF)\n",
    "\n",
    "indexF=myF.index('Lisa')\n",
    "print(indexF)\n",
    "\n",
    "countF=myF.count('Mary')\n",
    "print(countF)\n",
    "\n",
    "print(sorted(myF))\n",
    "print(myF)\n",
    "\n",
    "myF.sort()\n",
    "print(myF)\n",
    "\n",
    "myF.reverse()\n",
    "print(myF)"
   ]
  },
  {
   "cell_type": "code",
   "execution_count": 37,
   "metadata": {},
   "outputs": [
    {
     "name": "stdout",
     "output_type": "stream",
     "text": [
      "['a']\n",
      "['b', 'a']\n",
      "['c', 'b', 'a']\n",
      "['c', 'b']\n",
      "['c']\n",
      "===========\n",
      "['a']\n",
      "['a', 'b']\n",
      "['a', 'b', 'c']\n",
      "['a', 'b']\n",
      "['a']\n"
     ]
    }
   ],
   "source": [
    "# First In First Out\n",
    "Queue=[]\n",
    "\n",
    "# Last In First Out\n",
    "Stack=[]\n",
    "\n",
    "Queue.insert(0,\"a\")\n",
    "print(Queue)\n",
    "Queue.insert(0,\"b\")\n",
    "print(Queue)\n",
    "Queue.insert(0,\"c\")\n",
    "print(Queue)\n",
    "Queue.pop()\n",
    "print(Queue)\n",
    "Queue.pop()\n",
    "print(Queue)\n",
    "\n",
    "print(\"===========\")\n",
    "\n",
    "Stack.append(\"a\")\n",
    "print(Stack)\n",
    "Stack.append(\"b\")\n",
    "print(Stack)\n",
    "Stack.append(\"c\")\n",
    "print(Stack)\n",
    "\n",
    "Stack.pop()\n",
    "print(Stack)\n",
    "Stack.pop()\n",
    "print(Stack)"
   ]
  },
  {
   "cell_type": "code",
   "execution_count": 43,
   "metadata": {},
   "outputs": [
    {
     "name": "stdout",
     "output_type": "stream",
     "text": [
      "True False 1 5 5\n",
      "5\n"
     ]
    },
    {
     "data": {
      "text/plain": [
       "True"
      ]
     },
     "execution_count": 43,
     "metadata": {},
     "output_type": "execute_result"
    }
   ],
   "source": [
    "a = [1,2,3,4,5]\n",
    "\n",
    "print(1 in a,1 not in a, min(a), max(a), len(a))\n",
    "\n",
    "print(len(str1))\n",
    "\n",
    "a=[1,2,3]\n",
    "b=[1,2,3]\n",
    "\n",
    "a==b"
   ]
  },
  {
   "cell_type": "code",
   "execution_count": 44,
   "metadata": {},
   "outputs": [
    {
     "name": "stdout",
     "output_type": "stream",
     "text": [
      "[1, 2, 3, 4, 5, 6, 7, 8, 9] [1, 2, 3, 4, 5, 6, 7, 8, 9]\n",
      "[1, 2, 3, 4, 10, 6, 7, 8, 9] [1, 2, 3, 4, 10, 6, 7, 8, 9]\n"
     ]
    }
   ],
   "source": [
    "a=[1,2,3,4,5,6,7,8,9]\n",
    "b=a\n",
    "print(a,b)\n",
    "\n",
    "b[4] = 10\n",
    "\n",
    "print(a,b)\n",
    "\n",
    "# 카피된 리스트를 바꾸면 원본도 바뀜"
   ]
  },
  {
   "cell_type": "code",
   "execution_count": 45,
   "metadata": {
    "scrolled": true
   },
   "outputs": [
    {
     "name": "stdout",
     "output_type": "stream",
     "text": [
      "[1, 2, 3, 4, 5, 6, 7, 8, 9] [1, 2, 3, 4, 5, 6, 7, 8, 9]\n",
      "[1, 2, 3, 4, 5, 6, 7, 8, 9] [1, 2, 3, 4, 100, 6, 7, 8, 9]\n"
     ]
    }
   ],
   "source": [
    "a=[1,2,3,4,5,6,7,8,9]\n",
    "\n",
    "c=list(a)\n",
    "\n",
    "print(a,c)\n",
    "\n",
    "c[4] = 100\n",
    "\n",
    "print(a,c)\n",
    "\n",
    "# 카피된 리스트를 바꿔도 원본이 바뀌지않음"
   ]
  },
  {
   "cell_type": "code",
   "execution_count": 46,
   "metadata": {
    "scrolled": true
   },
   "outputs": [
    {
     "name": "stdout",
     "output_type": "stream",
     "text": [
      "(5,) 5 (10,) 10\n"
     ]
    }
   ],
   "source": [
    "tuple3 = (5,)\n",
    "tuple4 = (5)\n",
    "tuple5 = 10,\n",
    "tuple6 = 10\n",
    "\n",
    "print(tuple3,tuple4,tuple5,tuple6)"
   ]
  },
  {
   "cell_type": "code",
   "execution_count": 47,
   "metadata": {},
   "outputs": [
    {
     "name": "stdout",
     "output_type": "stream",
     "text": [
      "{1, 2, 3}\n",
      "{1, 2, 3}\n"
     ]
    }
   ],
   "source": [
    "set1 = {1,2,3}\n",
    "set1a = {1,2,3,3}\n",
    "print(set1)\n",
    "print(set1a)"
   ]
  },
  {
   "cell_type": "code",
   "execution_count": 52,
   "metadata": {},
   "outputs": [
    {
     "name": "stdout",
     "output_type": "stream",
     "text": [
      "<class 'list'>\n",
      "(1, 2, 3, 4, 5)\n",
      "<class 'tuple'>\n",
      "{1, 2, 3, 4, 5}\n",
      "[1, 2, 3, 4, 5]\n"
     ]
    }
   ],
   "source": [
    "a = [1,2,3,4,5]\n",
    "\n",
    "\n",
    "print(type(a))\n",
    "\n",
    "b = tuple(a)\n",
    "\n",
    "print(b)\n",
    "print(type(b))\n",
    "\n",
    "\n",
    "c = set(a)\n",
    "\n",
    "print(c)\n",
    "\n",
    "d=list(b)\n",
    "\n",
    "print(d)"
   ]
  },
  {
   "cell_type": "code",
   "execution_count": 75,
   "metadata": {},
   "outputs": [
    {
     "name": "stdout",
     "output_type": "stream",
     "text": [
      "2\n",
      "10\n",
      "{1: 2, 2: 3, 3: 4, 4: 10, 6: 5}\n",
      "{1: 2, 2: 3, 3: 1, 4: 10, 6: 5}\n",
      "{1: 2, 2: 3, 3: 1, 6: 5}\n"
     ]
    }
   ],
   "source": [
    "a={1:2,2:3,3:4,4:10}\n",
    "\n",
    "print(a[1])\n",
    "print(a[4])\n",
    "\n",
    "a[6]=5\n",
    "print(a)\n",
    "\n",
    "a[3]=1\n",
    "print(a)\n",
    "\n",
    "del a[4]\n",
    "print(a)"
   ]
  },
  {
   "cell_type": "code",
   "execution_count": 76,
   "metadata": {},
   "outputs": [
    {
     "name": "stdout",
     "output_type": "stream",
     "text": [
      "dict_keys([1, 2, 3, 6])\n",
      "dict_values([2, 3, 1, 5])\n",
      "dict_items([(1, 2), (2, 3), (3, 1), (6, 5)])\n",
      "{1: 2, 2: 3, 3: 1, 6: 5, 5: 3, 7: 1}\n",
      "{}\n"
     ]
    }
   ],
   "source": [
    "print(a.keys())\n",
    "\n",
    "print(a.values())\n",
    "print(a.items())\n",
    "b={5:3,7:1}\n",
    "a.update(b)\n",
    "print(a)\n",
    "\n",
    "a.clear()\n",
    "print(a)"
   ]
  },
  {
   "cell_type": "code",
   "execution_count": 77,
   "metadata": {},
   "outputs": [
    {
     "data": {
      "text/plain": [
       "dict_items([('a', 1), ('b', 2), ('c', 3)])"
      ]
     },
     "execution_count": 77,
     "metadata": {},
     "output_type": "execute_result"
    }
   ],
   "source": [
    "data = {'a':1,'b':2,'c':3}\n",
    "\n",
    "data.items()"
   ]
  },
  {
   "cell_type": "code",
   "execution_count": 78,
   "metadata": {},
   "outputs": [
    {
     "ename": "TypeError",
     "evalue": "'dict_items' object is not subscriptable",
     "output_type": "error",
     "traceback": [
      "\u001b[1;31m---------------------------------------------------------------------------\u001b[0m",
      "\u001b[1;31mTypeError\u001b[0m                                 Traceback (most recent call last)",
      "\u001b[1;32m<ipython-input-78-1c80ca796579>\u001b[0m in \u001b[0;36m<module>\u001b[1;34m\u001b[0m\n\u001b[1;32m----> 1\u001b[1;33m \u001b[0mdata\u001b[0m\u001b[1;33m.\u001b[0m\u001b[0mitems\u001b[0m\u001b[1;33m(\u001b[0m\u001b[1;33m)\u001b[0m\u001b[1;33m[\u001b[0m\u001b[1;36m0\u001b[0m\u001b[1;33m]\u001b[0m\u001b[1;33m\u001b[0m\u001b[1;33m\u001b[0m\u001b[0m\n\u001b[0m",
      "\u001b[1;31mTypeError\u001b[0m: 'dict_items' object is not subscriptable"
     ]
    }
   ],
   "source": [
    "data.items()[0]"
   ]
  },
  {
   "cell_type": "code",
   "execution_count": 79,
   "metadata": {},
   "outputs": [
    {
     "ename": "TypeError",
     "evalue": "'dict_items' object is not subscriptable",
     "output_type": "error",
     "traceback": [
      "\u001b[1;31m---------------------------------------------------------------------------\u001b[0m",
      "\u001b[1;31mTypeError\u001b[0m                                 Traceback (most recent call last)",
      "\u001b[1;32m<ipython-input-79-41d1ffa97218>\u001b[0m in \u001b[0;36m<module>\u001b[1;34m\u001b[0m\n\u001b[0;32m      1\u001b[0m \u001b[0mdata_i\u001b[0m \u001b[1;33m=\u001b[0m \u001b[0mdata\u001b[0m\u001b[1;33m.\u001b[0m\u001b[0mitems\u001b[0m\u001b[1;33m(\u001b[0m\u001b[1;33m)\u001b[0m\u001b[1;33m\u001b[0m\u001b[1;33m\u001b[0m\u001b[0m\n\u001b[1;32m----> 2\u001b[1;33m \u001b[0mdata_i\u001b[0m\u001b[1;33m[\u001b[0m\u001b[1;36m0\u001b[0m\u001b[1;33m]\u001b[0m\u001b[1;33m\u001b[0m\u001b[1;33m\u001b[0m\u001b[0m\n\u001b[0m",
      "\u001b[1;31mTypeError\u001b[0m: 'dict_items' object is not subscriptable"
     ]
    }
   ],
   "source": [
    "data_i = data.items()\n",
    "data_i[0]"
   ]
  },
  {
   "cell_type": "code",
   "execution_count": 80,
   "metadata": {},
   "outputs": [
    {
     "data": {
      "text/plain": [
       "('a', 1)"
      ]
     },
     "execution_count": 80,
     "metadata": {},
     "output_type": "execute_result"
    }
   ],
   "source": [
    "data_i = list(data.items())\n",
    "data_i[0]"
   ]
  },
  {
   "cell_type": "code",
   "execution_count": 83,
   "metadata": {},
   "outputs": [
    {
     "name": "stdout",
     "output_type": "stream",
     "text": [
      "5>3\n"
     ]
    }
   ],
   "source": [
    "if 3 >5 :\n",
    "    print (\"3>5\")\n",
    "else: print(\"5>3\")"
   ]
  },
  {
   "cell_type": "code",
   "execution_count": 84,
   "metadata": {},
   "outputs": [
    {
     "name": "stdout",
     "output_type": "stream",
     "text": [
      "1\n",
      "2\n",
      "3\n",
      "4\n",
      "5\n",
      "6\n"
     ]
    }
   ],
   "source": [
    "for i in [1,2,3,4,5,6]:\n",
    "    print(i)"
   ]
  },
  {
   "cell_type": "code",
   "execution_count": 95,
   "metadata": {},
   "outputs": [
    {
     "name": "stdout",
     "output_type": "stream",
     "text": [
      "d\n",
      "{'d'}\n",
      "d\n"
     ]
    }
   ],
   "source": [
    "a = ['a','b','c','d','e']\n",
    "b = ['b','c','a','e']\n",
    "\n",
    "# a에 있는원소중 b에 없는원소\n",
    "\n",
    "for i in a:\n",
    "    if i not in b:\n",
    "        print(i)\n",
    "\n",
    "\n",
    "a1 = set(a)\n",
    "b1 = set(b)\n",
    "\n",
    "print(a1-b1)\n",
    "\n",
    "for i in range(len(a)):\n",
    "    if a[i] not in b:\n",
    "        print(a[i])"
   ]
  },
  {
   "cell_type": "code",
   "execution_count": 124,
   "metadata": {},
   "outputs": [
    {
     "name": "stdout",
     "output_type": "stream",
     "text": [
      "10\n",
      "[8, 3, 4, 9]\n"
     ]
    }
   ],
   "source": [
    "# lst에 0~9까지 중복되지않는 숫자 4개\n",
    "\n",
    "import random\n",
    "rand_num = random.randint(0,10)\n",
    "print(rand_num)\n",
    "\n",
    "lst=[]\n",
    "\n",
    "\n",
    "while len(lst) < 4 :\n",
    "    rand_num = random.randint(0,9)\n",
    "    if rand_num not in lst:\n",
    "        lst.append(rand_num)\n",
    "        \n",
    "print(lst)"
   ]
  },
  {
   "cell_type": "code",
   "execution_count": 126,
   "metadata": {},
   "outputs": [
    {
     "name": "stdout",
     "output_type": "stream",
     "text": [
      "[1, 4, 9, 16, 25]\n",
      "[1, 4, 9, 16, 25]\n"
     ]
    }
   ],
   "source": [
    "lst1 = [1,2,3,4,5]\n",
    "\n",
    "lst2 = []\n",
    "\n",
    "for i in lst1:\n",
    "    lst2.append(i*i)\n",
    "print(lst2)\n",
    "\n",
    "\n",
    "lst3 = [i*i for i in lst1]\n",
    "print(lst3)"
   ]
  },
  {
   "cell_type": "code",
   "execution_count": 129,
   "metadata": {},
   "outputs": [
    {
     "name": "stdout",
     "output_type": "stream",
     "text": [
      "[4, 16]\n"
     ]
    }
   ],
   "source": [
    "lst3 = [i*i for i in lst1 if (i%2)==0]\n",
    "print(lst3)"
   ]
  },
  {
   "cell_type": "code",
   "execution_count": 131,
   "metadata": {},
   "outputs": [
    {
     "name": "stdout",
     "output_type": "stream",
     "text": [
      "Hello my freinds\n",
      "Hello-:*:-my-:*:-freinds\n"
     ]
    }
   ],
   "source": [
    "print(\"Hello\",\"my\",\"freinds\")\n",
    "\n",
    "print(\"Hello\",\"my\",\"freinds\", sep=\"-:*:-\")"
   ]
  },
  {
   "cell_type": "code",
   "execution_count": 132,
   "metadata": {},
   "outputs": [
    {
     "name": "stdout",
     "output_type": "stream",
     "text": [
      "당신의 이름은?엄지우\n",
      "당신은 엄지우 이군요\n"
     ]
    }
   ],
   "source": [
    "name = input(\"당신의 이름은?\")\n",
    "\n",
    "print(\"당신은 {} 이군요\".format(name))"
   ]
  },
  {
   "cell_type": "code",
   "execution_count": 175,
   "metadata": {},
   "outputs": [
    {
     "name": "stdout",
     "output_type": "stream",
     "text": [
      "[{3, 4, 5}, {13, 12, 5}, {8, 10, 6}, {24, 25, 7}, {8, 17, 15}, {9, 12, 15}, {24, 10, 26}, {16, 12, 20}, {25, 20, 15}, {29, 20, 21}]\n"
     ]
    }
   ],
   "source": [
    "# 피타고라스 정리를 만족하는 삼각형을 모두 찾아주세요\n",
    "# 삼각형의 한변의 길이는 1~30\n",
    "\n",
    "lst = []\n",
    "\n",
    "for i in range(1,30):\n",
    "    for n in range(1,30):\n",
    "        for m in range(1,30):\n",
    "            if i*i+n*n == m*m:\n",
    "                if {i,n,m} not in lst:\n",
    "                    lst.append({i,n,m})\n",
    "                \n",
    "print(lst)"
   ]
  },
  {
   "cell_type": "code",
   "execution_count": 174,
   "metadata": {},
   "outputs": [
    {
     "name": "stdout",
     "output_type": "stream",
     "text": [
      "[(3, 4, 5), (5, 12, 13), (6, 8, 10), (7, 24, 25), (8, 15, 17), (9, 12, 15), (10, 24, 26), (12, 16, 20), (15, 20, 25), (20, 21, 29)]\n"
     ]
    }
   ],
   "source": [
    "nlst = [(x,y,z) for x in range(1,30) for y in range(x,30) for z in range(y,30) if x**2 + y**2 == z**2]\n",
    "\n",
    "print(nlst)"
   ]
  },
  {
   "cell_type": "code",
   "execution_count": 180,
   "metadata": {},
   "outputs": [
    {
     "name": "stdout",
     "output_type": "stream",
     "text": [
      "T\n",
      "h\n",
      "i\n",
      "s\n",
      " \n",
      "i\n",
      "s\n",
      " \n",
      "a\n",
      " \n",
      "s\n",
      "t\n",
      "r\n",
      "i\n",
      "n\n",
      "g\n",
      "['T', 'h', 'i', 's', ' ', 'i', 's', ' ', 'a', ' ', 's', 't', 'r', 'i', 'n', 'g']\n",
      "['This', 'is', 'a']\n"
     ]
    }
   ],
   "source": [
    "st = \"This is a string\"\n",
    "\n",
    "for c in st:\n",
    "    print(c)\n",
    "lst = list(st)\n",
    "print(lst)"
   ]
  },
  {
   "cell_type": "code",
   "execution_count": 198,
   "metadata": {},
   "outputs": [
    {
     "name": "stdout",
     "output_type": "stream",
     "text": [
      "['This', 'is', 'a', 'string']\n"
     ]
    }
   ],
   "source": [
    "# ('This', 'is', 'a', 'string') 리스트 만들기\n",
    "st = \"This is a string\"\n",
    "\n",
    "lst123=[]\n",
    "x=''\n",
    "for c in range(len(st)):\n",
    "    if st[c] != \" \":\n",
    "        x = x+st[c]\n",
    "        if c ==(len(st)-1):\n",
    "            lst123.append(x)\n",
    "    else:\n",
    "        lst123.append(x)\n",
    "        x=\"\"\n",
    "\n",
    "\n",
    "print(lst123)"
   ]
  },
  {
   "cell_type": "code",
   "execution_count": 200,
   "metadata": {},
   "outputs": [
    {
     "data": {
      "text/plain": [
       "['This', 'is', 'a', 'string']"
      ]
     },
     "execution_count": 200,
     "metadata": {},
     "output_type": "execute_result"
    }
   ],
   "source": [
    "st = \"This.is.a.string\"\n",
    "st.split(\".\")"
   ]
  },
  {
   "cell_type": "code",
   "execution_count": 203,
   "metadata": {},
   "outputs": [
    {
     "name": "stdout",
     "output_type": "stream",
     "text": [
      "This.is.a.string\n"
     ]
    },
    {
     "data": {
      "text/plain": [
       "2"
      ]
     },
     "execution_count": 203,
     "metadata": {},
     "output_type": "execute_result"
    }
   ],
   "source": [
    "print(st)\n",
    "st.find('is')"
   ]
  },
  {
   "cell_type": "code",
   "execution_count": 205,
   "metadata": {},
   "outputs": [
    {
     "name": "stdout",
     "output_type": "stream",
     "text": [
      "This.is.a.string\n",
      "Thissss.issss.a.string\n"
     ]
    }
   ],
   "source": [
    "print(st)\n",
    "print(st.replace('is',\"issss\"))\n"
   ]
  },
  {
   "cell_type": "code",
   "execution_count": 208,
   "metadata": {},
   "outputs": [
    {
     "name": "stdout",
     "output_type": "stream",
     "text": [
      "THIS.IS.A.STRING this.is.a.string tHIS.IS.A.STRING This.Is.A.String\n"
     ]
    }
   ],
   "source": [
    "print(st.upper(),st.lower(),st.swapcase(),st.title())"
   ]
  },
  {
   "cell_type": "code",
   "execution_count": 213,
   "metadata": {},
   "outputs": [
    {
     "data": {
      "text/plain": [
       "(2, 2, -1, True, True)"
      ]
     },
     "execution_count": 213,
     "metadata": {},
     "output_type": "execute_result"
    }
   ],
   "source": [
    "st.count('is'), st.index('is'), st.find('Is'), st.startswith('Th'), st.endswith('ing')\n",
    "\n",
    "# index는 없으면 에러가 뜸\n",
    "# find는 있으면 위치 없으면 -1\n",
    "# startswith 해당문장이 ()로 시작하느냐 T/F로 리턴 endswith는 끝나는거"
   ]
  },
  {
   "cell_type": "code",
   "execution_count": 234,
   "metadata": {},
   "outputs": [
    {
     "name": "stdout",
     "output_type": "stream",
     "text": [
      "[['s', 3], ['h', 1], ['t', 1], ['a', 1], ['r', 1], ['n', 1], ['.', 3], ['i', 3], ['T', 1], ['g', 1]]\n"
     ]
    }
   ],
   "source": [
    "st = \"This.is.a.string\"\n",
    "\n",
    "b=[]\n",
    "\n",
    "for i in set(st):\n",
    "    a=[i,st.count(i)]\n",
    "    b.append(a)\n",
    "print(b)"
   ]
  },
  {
   "cell_type": "code",
   "execution_count": 1,
   "metadata": {},
   "outputs": [
    {
     "name": "stdout",
     "output_type": "stream",
     "text": [
      "야구게임을 시작합니다 값을 입력하세요. (중복되지 않은 4자리수) \n",
      "1234\n",
      "0 Strike 1 Ball\n",
      "야구게임을 시작합니다 값을 입력하세요. (중복되지 않은 4자리수) \n",
      "5678\n",
      "0 Strike 2 Ball\n",
      "야구게임을 시작합니다 값을 입력하세요. (중복되지 않은 4자리수) \n",
      "3456\n",
      "1 Strike 1 Ball\n",
      "야구게임을 시작합니다 값을 입력하세요. (중복되지 않은 4자리수) \n",
      "1290\n",
      "0 Strike 1 Ball\n",
      "야구게임을 시작합니다 값을 입력하세요. (중복되지 않은 4자리수) \n",
      "2468\n",
      "0 Strike 2 Ball\n",
      "야구게임을 시작합니다 값을 입력하세요. (중복되지 않은 4자리수) \n",
      "2460\n",
      "0 Strike 2 Ball\n",
      "야구게임을 시작합니다 값을 입력하세요. (중복되지 않은 4자리수) \n",
      "2461\n",
      "0 Strike 2 Ball\n",
      "야구게임을 시작합니다 값을 입력하세요. (중복되지 않은 4자리수) \n",
      "2457\n",
      "0 Strike 2 Ball\n",
      "야구게임을 시작합니다 값을 입력하세요. (중복되지 않은 4자리수) \n",
      "2693\n",
      "0 Strike 2 Ball\n",
      "야구게임을 시작합니다 값을 입력하세요. (중복되지 않은 4자리수) \n",
      "1693\n",
      "0 Strike 2 Ball\n",
      "야구게임을 시작합니다 값을 입력하세요. (중복되지 않은 4자리수) \n",
      "0693\n",
      "0 Strike 2 Ball\n",
      "야구게임을 시작합니다 값을 입력하세요. (중복되지 않은 4자리수) \n",
      "3456\n",
      "1 Strike 1 Ball\n",
      "야구게임을 시작합니다 값을 입력하세요. (중복되지 않은 4자리수) \n",
      "3457\n",
      "0 Strike 2 Ball\n",
      "야구게임을 시작합니다 값을 입력하세요. (중복되지 않은 4자리수) \n",
      "4276\n",
      "1 Strike 2 Ball\n",
      "야구게임을 시작합니다 값을 입력하세요. (중복되지 않은 4자리수) \n",
      "4076\n",
      "1 Strike 2 Ball\n",
      "야구게임을 시작합니다 값을 입력하세요. (중복되지 않은 4자리수) \n",
      "4976\n",
      "1 Strike 3 Ball\n",
      "야구게임을 시작합니다 값을 입력하세요. (중복되지 않은 4자리수) \n",
      "9476\n",
      "2 Strike 2 Ball\n",
      "야구게임을 시작합니다 값을 입력하세요. (중복되지 않은 4자리수) \n",
      "9746\n",
      "4 Strike 0 Ball\n",
      "축하합니다 정답입니다.\n"
     ]
    }
   ],
   "source": [
    "# 야구게임 만들기\n",
    "\n",
    "import random\n",
    "\n",
    "A=[]\n",
    "\n",
    "while len(A) < 4 :\n",
    "    rand_num = random.randint(0,9)\n",
    "    if rand_num not in A:\n",
    "        A.append(rand_num)\n",
    "\n",
    "#print(A)\n",
    "\n",
    "S=0\n",
    "B=0\n",
    "\n",
    "   \n",
    "while S<4:\n",
    "    Q= input(\"야구게임을 시작합니다 값을 입력하세요. (중복되지 않은 4자리수) \\n\")   \n",
    "    while len(set(Q)) <4:\n",
    "        Q= input(\"중복되지 않은 4자리를 입력하세요 \\n\")\n",
    "           \n",
    "    S=0\n",
    "    B=0\n",
    "    \n",
    "    for i in range(0,4):\n",
    "        if int(Q[i]) == int(A[i]):\n",
    "            S=S+1\n",
    "        elif int(Q[i]) in A:\n",
    "            B=B+1\n",
    "            \n",
    "    print(S,\"Strike\",B,\"Ball\")\n",
    "    \n",
    "\n",
    "print(\"축하합니다 정답입니다.\")"
   ]
  },
  {
   "cell_type": "code",
   "execution_count": 28,
   "metadata": {},
   "outputs": [],
   "source": [
    "# str.replace, str.find, str.startswith, str.endswith 를 구현하시오\n",
    "\n",
    "\n",
    "str=\"1234 345 12345\"\n",
    "\n",
    "#str.find\n",
    "x=\"345\"\n",
    "#input(\"찾을문자\")\n",
    "\n",
    "\n",
    "# find=''\n",
    "# A=''\n",
    "# for i in range(len(str)):\n",
    "#     for n in range(len(x)):\n",
    "#         if str[i]==x[n]:\n",
    "#             find=find+str[i]\n",
    "#             print(len(find),len(x))\n",
    "#             if (len(find)==len(x)):\n",
    "#                 print(find)\n",
    "#                 find=''\n",
    "                \n",
    "                \n",
    "while i < len(str):\n",
    "    for n in range(len(x)):\n",
    "        if str[i]==x[n]:\n",
    "            find=find+str[i]\n",
    "            print(len(find),len(x))\n",
    "            if (len(find)==len(x)):\n",
    "                print(find)\n",
    "                find=''\n",
    "    i=i+1\n",
    "                \n"
   ]
  },
  {
   "cell_type": "code",
   "execution_count": null,
   "metadata": {},
   "outputs": [],
   "source": []
  },
  {
   "cell_type": "code",
   "execution_count": null,
   "metadata": {},
   "outputs": [],
   "source": []
  }
 ],
 "metadata": {
  "kernelspec": {
   "display_name": "Python 3",
   "language": "python",
   "name": "python3"
  },
  "language_info": {
   "codemirror_mode": {
    "name": "ipython",
    "version": 3
   },
   "file_extension": ".py",
   "mimetype": "text/x-python",
   "name": "python",
   "nbconvert_exporter": "python",
   "pygments_lexer": "ipython3",
   "version": "3.7.6"
  }
 },
 "nbformat": 4,
 "nbformat_minor": 4
}
