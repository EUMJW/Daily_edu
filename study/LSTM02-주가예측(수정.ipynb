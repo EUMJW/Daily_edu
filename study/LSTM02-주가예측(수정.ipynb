{
 "cells": [
  {
   "cell_type": "code",
   "execution_count": null,
   "metadata": {},
   "outputs": [],
   "source": [
    "import pandas as pd\n",
    "import numpy as np\n",
    "import matplotlib.pyplot as plt \n",
    "from tensorflow.keras.models import Sequential\n",
    "from tensorflow.keras.layers import LSTM, Dropout, Dense \n",
    "from tensorflow.keras.callbacks import TensorBoard, ModelCheckpoint, ReduceLROnPlateau\n",
    "import requests\n",
    "from bs4 import BeautifulSoup"
   ]
  },
  {
   "cell_type": "code",
   "execution_count": null,
   "metadata": {},
   "outputs": [],
   "source": [
    "#삼성 코드 005930\n",
    "#date 부터 오늘까지 주가 긁어오는 함수\n",
    "def parse_to_df(code,date):\n",
    "    page = 1\n",
    "    while True: \n",
    "        url = f'https://finance.naver.com/item/sise_day.nhn?code={code}&page={page}'\n",
    "        req = requests.get(url) \n",
    "        #html 구문에 맞게 텍스트를 읽는다\n",
    "        bs = BeautifulSoup(req.text, \"html.parser\")\n",
    "        print(f'page {page}')\n",
    "        try : \n",
    "            #read_html은 html에서 표를 가져온다\n",
    "            #0 번째 인덱스를 넣는게 의미가 없어 보일 수 있어도 \n",
    "            #dataframe이 리스트에 감싸져 나오기 때문에 한 요소만 선택\n",
    "            table = pd.read_html(str(bs.find('table',{'class':\"type2\"})))[0] \n",
    "            \n",
    "            #첫페이지일 경우 table을 깊은 복사\n",
    "            if page == 1:\n",
    "                df = table.dropna().copy()    \n",
    "                print('copy dataframe')\n",
    "            #table을 df에 추가\n",
    "            else : \n",
    "                df = pd.concat([df,table.dropna()])  \n",
    "                print('concate dataframe')\n",
    "        except Exception as e :\n",
    "            print(e)   \n",
    "\n",
    "        #breaking point date ~ 오늘까지만 남김\n",
    "        if int(str(df.iloc[-1][0]).replace('.',''))  < int(date) :\n",
    "            date = date[:4]+'.'+date[4:6]+'.'+date[6:]\n",
    "            df = df[df['날짜']>= date]  \n",
    "            print('break')\n",
    "            break\n",
    "        page += 1  \n",
    "    #영어로 column 명 바꿈\n",
    "    df.columns = [\"Date\",\"Close\", 'YtT','Market Cap','High','Low','Volume' ]\n",
    "    return df \n",
    "\n",
    "date,code =  input('시작일) YYYYMMDD   code:').split()\n",
    "df = parse_to_df(code,date)"
   ]
  },
  {
   "cell_type": "code",
   "execution_count": null,
   "metadata": {},
   "outputs": [],
   "source": [
    "df.tail()"
   ]
  },
  {
   "cell_type": "code",
   "execution_count": null,
   "metadata": {},
   "outputs": [],
   "source": [
    "#df 를 csv로 저장\n",
    "df.to_csv(f'./{code}_crawling.csv', sep=',',index=False)"
   ]
  },
  {
   "cell_type": "code",
   "execution_count": null,
   "metadata": {},
   "outputs": [],
   "source": []
  },
  {
   "cell_type": "code",
   "execution_count": null,
   "metadata": {},
   "outputs": [],
   "source": [
    "data = pd.read_csv(f'./{code}_crawling.csv')\n",
    "data = data[::-1]\n",
    "data.reset_index(drop=True, inplace=True)\n",
    "df = data"
   ]
  },
  {
   "cell_type": "code",
   "execution_count": null,
   "metadata": {},
   "outputs": [],
   "source": [
    "from sklearn.preprocessing import MinMaxScaler\n",
    "\n",
    "scaler = MinMaxScaler()\n",
    "scale_cols = ['Close', 'YtT', 'Market Cap', 'High', 'Low', 'Volume']\n",
    "df_scaled = scaler.fit_transform(df[scale_cols])\n",
    "\n",
    "df_scaled = pd.DataFrame(df_scaled)\n",
    "df_scaled.columns = scale_cols\n",
    "\n",
    "print(df_scaled)\n",
    "\n",
    "TEST_SIZE = 200\n",
    "train = df_scaled[:-TEST_SIZE]\n",
    "test = df_scaled[-TEST_SIZE:]"
   ]
  },
  {
   "cell_type": "code",
   "execution_count": null,
   "metadata": {},
   "outputs": [],
   "source": [
    "def make_dataset(data, label, window_size=20):\n",
    "    feature_list = []\n",
    "    label_list = []\n",
    "    for i in range(len(data) - window_size):\n",
    "        feature_list.append(np.array(data.iloc[i:i+window_size]))\n",
    "        label_list.append(np.array(label.iloc[i+window_size]))\n",
    "    return np.array(feature_list), np.array(label_list)"
   ]
  },
  {
   "cell_type": "code",
   "execution_count": null,
   "metadata": {},
   "outputs": [],
   "source": [
    "feature_cols = ['YtT', 'Market Cap', 'High', 'Low', 'Volume']\n",
    "label_cols = ['Close']\n",
    "\n",
    "train_feature = train[feature_cols]\n",
    "train_label = train[label_cols]\n",
    "\n",
    "# train dataset\n",
    "train_feature, train_label = make_dataset(train_feature, train_label, 20)\n",
    "\n",
    "# train, validation set 생성\n",
    "from sklearn.model_selection import train_test_split\n",
    "x_train, x_valid, y_train, y_valid = train_test_split(train_feature, train_label, test_size=0.2)\n",
    "\n",
    "print(x_train.shape,y_train.shape, x_valid.shape, y_valid.shape)\n",
    "\n",
    "test_feature = test[feature_cols]\n",
    "test_label = test[label_cols]\n",
    "\n",
    "x_test, y_test = make_dataset(test_feature, test_label, 20)\n",
    "\n",
    "print(x_test.shape, y_test.shape)"
   ]
  },
  {
   "cell_type": "code",
   "execution_count": null,
   "metadata": {},
   "outputs": [],
   "source": []
  },
  {
   "cell_type": "code",
   "execution_count": null,
   "metadata": {},
   "outputs": [],
   "source": []
  },
  {
   "cell_type": "code",
   "execution_count": null,
   "metadata": {},
   "outputs": [],
   "source": []
  },
  {
   "cell_type": "code",
   "execution_count": null,
   "metadata": {},
   "outputs": [],
   "source": []
  },
  {
   "cell_type": "code",
   "execution_count": null,
   "metadata": {},
   "outputs": [],
   "source": []
  },
  {
   "cell_type": "code",
   "execution_count": null,
   "metadata": {},
   "outputs": [],
   "source": [
    "model = Sequential()\n",
    "\n",
    "#seq_len개 데이터가 들어감 각 seq 에서 아웃풋 냄\n",
    "model.add(LSTM(128, return_sequences=True, input_shape=(20,5)))\n",
    "model.add(Dropout(0.2))\n",
    "model.add(LSTM(64))\n",
    "model.add(Dropout(0.2))\n",
    "model.add(Dense(32, activation='relu'))\n",
    "model.add(Dropout(0.2))\n",
    "model.add(Dense(16, activation='relu'))\n",
    "model.add(Dense(1,activation='linear'))\n",
    "\n",
    "model.compile(loss='mse', optimizer='adam')\n",
    "\n",
    "model.summary()"
   ]
  },
  {
   "cell_type": "code",
   "execution_count": null,
   "metadata": {},
   "outputs": [],
   "source": [
    "from datetime import datetime\n",
    "\n",
    "start_time = datetime.now().strftime('%Y_%m_%d_%H_%M_%S')\n",
    "\n",
    "model.fit(x_train, y_train,\n",
    "    validation_data=(x_valid,y_valid),\n",
    "    batch_size=32,\n",
    "    epochs=20,\n",
    "    callbacks=[\n",
    "        TensorBoard(log_dir='logs/%s' % (start_time)),\n",
    "        #epoch마다 가중치를 저장하는데 /val_loss 가 좋을 때만\n",
    "        ModelCheckpoint('./models/%s_eth.h5' % (start_time), monitor='val_loss', verbose=1, save_best_only=True, mode='auto'),\n",
    "        #AttributeError: 'Sequential' object has no attribute '_get_distribution_strategy'\n",
    "        #val_loss 기준 / callback되면 학습률 0.2 / patience epoch 6 동안 기다렸다가 callback\n",
    "        ReduceLROnPlateau(monitor='val_loss', factor=0.2, patience=5, verbose=2, mode='auto')\n",
    "])"
   ]
  },
  {
   "cell_type": "code",
   "execution_count": null,
   "metadata": {},
   "outputs": [],
   "source": [
    "loss = model.evaluate(x_test,y_test)"
   ]
  },
  {
   "cell_type": "code",
   "execution_count": null,
   "metadata": {
    "scrolled": false
   },
   "outputs": [],
   "source": [
    "pred = model.predict(x_test)\n",
    "\n",
    "fig = plt.figure(facecolor='white', figsize=(20, 10))\n",
    "ax = fig.add_subplot(111)\n",
    "ax.plot(y_test, label='True')\n",
    "ax.plot(pred, label='Prediction')\n",
    "ax.legend()\n",
    "plt.show()"
   ]
  },
  {
   "cell_type": "code",
   "execution_count": null,
   "metadata": {},
   "outputs": [],
   "source": []
  },
  {
   "cell_type": "code",
   "execution_count": null,
   "metadata": {},
   "outputs": [],
   "source": []
  },
  {
   "cell_type": "code",
   "execution_count": null,
   "metadata": {},
   "outputs": [],
   "source": []
  },
  {
   "cell_type": "code",
   "execution_count": null,
   "metadata": {},
   "outputs": [],
   "source": []
  },
  {
   "cell_type": "code",
   "execution_count": null,
   "metadata": {},
   "outputs": [],
   "source": []
  }
 ],
 "metadata": {
  "kernelspec": {
   "display_name": "Python 3",
   "language": "python",
   "name": "python3"
  },
  "language_info": {
   "codemirror_mode": {
    "name": "ipython",
    "version": 3
   },
   "file_extension": ".py",
   "mimetype": "text/x-python",
   "name": "python",
   "nbconvert_exporter": "python",
   "pygments_lexer": "ipython3",
   "version": "3.7.6"
  }
 },
 "nbformat": 4,
 "nbformat_minor": 4
}
