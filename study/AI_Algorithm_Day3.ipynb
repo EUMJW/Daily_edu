{
 "cells": [
  {
   "cell_type": "code",
   "execution_count": 33,
   "metadata": {},
   "outputs": [
    {
     "data": {
      "text/plain": [
       "0.8112781244591328"
      ]
     },
     "execution_count": 33,
     "metadata": {},
     "output_type": "execute_result"
    }
   ],
   "source": [
    "import numpy as np\n",
    "\n",
    "def my_entropy(data):\n",
    "    entropy = 0    \n",
    "    dict = {}    \n",
    "    for da in data:\n",
    "        try:\n",
    "            dict[da] += 1\n",
    "        except:\n",
    "            dict[da] = 1\n",
    "            \n",
    "    for key in dict.keys():\n",
    "        entropy -= ((dict[key]/len(data)) * np.log2(dict[key]/len(data)))\n",
    "    \n",
    "    return entropy\n",
    "\n",
    "labels = ['B', 'B', 'B', 'A']\n",
    "my_entropy(labels)"
   ]
  },
  {
   "cell_type": "code",
   "execution_count": 24,
   "metadata": {},
   "outputs": [
    {
     "data": {
      "text/plain": [
       "2.302585092994046"
      ]
     },
     "execution_count": 24,
     "metadata": {},
     "output_type": "execute_result"
    }
   ],
   "source": [
    "np.log(10)"
   ]
  },
  {
   "cell_type": "code",
   "execution_count": null,
   "metadata": {},
   "outputs": [],
   "source": []
  }
 ],
 "metadata": {
  "kernelspec": {
   "display_name": "Python 3",
   "language": "python",
   "name": "python3"
  },
  "language_info": {
   "codemirror_mode": {
    "name": "ipython",
    "version": 3
   },
   "file_extension": ".py",
   "mimetype": "text/x-python",
   "name": "python",
   "nbconvert_exporter": "python",
   "pygments_lexer": "ipython3",
   "version": "3.7.6"
  }
 },
 "nbformat": 4,
 "nbformat_minor": 4
}
