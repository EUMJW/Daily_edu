{
 "cells": [
  {
   "cell_type": "code",
   "execution_count": 3,
   "metadata": {},
   "outputs": [],
   "source": [
    "f = open('myFile.txt','w')\n",
    "f.write('This is my first file.')\n",
    "f.close\n",
    "\n",
    "!type myFile.txt\n"
   ]
  },
  {
   "cell_type": "code",
   "execution_count": 4,
   "metadata": {},
   "outputs": [
    {
     "name": "stdout",
     "output_type": "stream",
     "text": [
      "This is my first file.\n"
     ]
    }
   ],
   "source": [
    "\n",
    "f = open('myFile.txt','r')\n",
    "file_txt = f.read()\n",
    "f.close\n",
    "\n",
    "print(file_txt)"
   ]
  },
  {
   "cell_type": "code",
   "execution_count": 28,
   "metadata": {},
   "outputs": [],
   "source": [
    "f=open('atwo_times_table.txt','w')\n",
    "for num in range(1,6):\n",
    "    format_string = \"2 x {0} = {1}\\n\".format(num,2*num)\n",
    "    f.write(format_string)\n",
    "f.close()"
   ]
  },
  {
   "cell_type": "code",
   "execution_count": 29,
   "metadata": {},
   "outputs": [
    {
     "name": "stdout",
     "output_type": "stream",
     "text": [
      "aaaaa\n"
     ]
    }
   ],
   "source": [
    "!type atwo_times_table.txt"
   ]
  },
  {
   "cell_type": "code",
   "execution_count": 10,
   "metadata": {},
   "outputs": [
    {
     "name": "stdout",
     "output_type": "stream",
     "text": [
      "2 x 1 = 2\n",
      "2 x 2 = 4\n"
     ]
    }
   ],
   "source": [
    "f = open(\"two_times_table.txt\")\n",
    "line1 = f.readline()\n",
    "line2 = f.readline()\n",
    "f.close\n",
    "print(line1, end='')\n",
    "print(line2, end='')"
   ]
  },
  {
   "cell_type": "code",
   "execution_count": 11,
   "metadata": {},
   "outputs": [
    {
     "name": "stdout",
     "output_type": "stream",
     "text": [
      "2 x 1 = 2\n",
      "2 x 2 = 4\n",
      "2 x 3 = 6\n",
      "2 x 4 = 8\n",
      "2 x 5 = 10"
     ]
    }
   ],
   "source": [
    "f = open(\"two_times_table.txt\")\n",
    "line = f.readline()\n",
    "while line:\n",
    "    print(line, end='')\n",
    "    line=f.readline()\n",
    "f.close()"
   ]
  },
  {
   "cell_type": "code",
   "execution_count": 19,
   "metadata": {},
   "outputs": [
    {
     "name": "stdout",
     "output_type": "stream",
     "text": [
      "5\n",
      "[func1] 지역변수 a= 1\n",
      "5\n",
      "[func2] 지역변수 a= 2\n",
      "5\n",
      "[func3] 전역변수 a= 5\n",
      "5\n",
      "[func4] 전역변수 a= 4\n",
      "4\n"
     ]
    },
    {
     "data": {
      "text/plain": [
       "9"
      ]
     },
     "execution_count": 19,
     "metadata": {},
     "output_type": "execute_result"
    }
   ],
   "source": [
    "# def는 메모리에 지속적으로 남아있고 lambda는 일회용\n",
    "a=5\n",
    "\n",
    "def func1():\n",
    "    a = 1\n",
    "    print(\"[func1] 지역변수 a=\",a)\n",
    "\n",
    "def func2():\n",
    "    a = 2\n",
    "    print(\"[func2] 지역변수 a=\",a)\n",
    "    \n",
    "def func3():\n",
    "    print(\"[func3] 전역변수 a=\",a)\n",
    "    \n",
    "    \n",
    "def func4():\n",
    "    global a\n",
    "    a =4\n",
    "    print(\"[func4] 전역변수 a=\",a)\n",
    "    \n",
    "    \n",
    "print(a)\n",
    "func1()\n",
    "print(a)\n",
    "func2()\n",
    "print(a)\n",
    "func3()\n",
    "print(a)\n",
    "func4()\n",
    "print(a)\n",
    "\n",
    "\n",
    "(lambda x: x**2)(3)\n"
   ]
  },
  {
   "cell_type": "code",
   "execution_count": 62,
   "metadata": {},
   "outputs": [
    {
     "name": "stdout",
     "output_type": "stream",
     "text": [
      "[[66, 77, 90, 24, 59], [81, 77, 81, 51, 29], [12, 64, 65, 83, 69], [54, 45, 88, 35, 5], [0, 100, 59, 50, 46]]\n"
     ]
    }
   ],
   "source": [
    "from random import *\n",
    "\n",
    "n = randint(6,31)\n",
    "board =[]\n",
    "\n",
    "n=6\n",
    "\n",
    "for i in range(1,n):\n",
    "    b=[]\n",
    "    for m in range(1,n):\n",
    "        a = randint(0,100)\n",
    "        b.append(a)\n",
    "    board.append(b)\n",
    "print(board)\n",
    "\n"
   ]
  },
  {
   "cell_type": "code",
   "execution_count": 47,
   "metadata": {},
   "outputs": [
    {
     "data": {
      "text/plain": [
       "65"
      ]
     },
     "execution_count": 47,
     "metadata": {},
     "output_type": "execute_result"
    }
   ],
   "source": [
    "ord('A')"
   ]
  },
  {
   "cell_type": "code",
   "execution_count": 50,
   "metadata": {},
   "outputs": [
    {
     "name": "stdout",
     "output_type": "stream",
     "text": [
      "[]\n",
      "['b']\n"
     ]
    }
   ],
   "source": [
    "a=[]\n",
    "print(a)\n",
    "a.append(\"b\")\n",
    "print(a)"
   ]
  },
  {
   "cell_type": "code",
   "execution_count": 159,
   "metadata": {},
   "outputs": [
    {
     "name": "stdout",
     "output_type": "stream",
     "text": [
      "{'well', 'not', 'himself', 'injustice,', 'invigorating', 'decree', 'rest', 'american', 'ghetto', '\"justice', 'capital', 'gaining', 'vaults', 'honoring', 'alabama,', 'work', '\"life,', 'children,', 'from', 'northern', 'yes,', 'mountains', 'exile', 'created', 'awakening', 'had', 'who', 'our', 'satisfied?\"', 'island', 'drug', 'an', 'devotees', 'like', 'together,', 'finds', 'walk', 'together', 'his', 'ring', 'negro', 'degenerate', 'winds', 'overlook', 'signs', 'no', 'no,', 'four', 'great', 'able', 'wrote', 'rights\"', 'those', 'brothers,', 'asking', 'travel,', 'stand', 'tied', 'but', 'promise', 'satisfy', 'promises', 'will', 'former', 'plane', 'red', 'believes', 'speed', 'fathers', 'stone', 'village', 'hallowed', 'cities,', 'again', 'stating:', 'we', 'these', 'jail', 'midst', 'militancy', 'summer', 'so,', 'i', '\"unalienable', 'even', 'ring,', 'today', 'people', 'so', 'spiritual:', 'many', 'free', 'real', 'hamlet,', 'live', 'unmindful', 'wrongful', 'almighty,', 'lodging', 'citizenship', 'self-evident,', 'nor', 'discords', 'momentous', 'racists,', 'high', 'if', 'there', 'lord', 'force', 'vast', 'steam', 'slums', 'seek', 'threshold', 'flesh', 'a', 'come', 'america', 'joyous', 'faith', 'justice:', 'here', 'upon', 'sweltering', '\"we', 'struggle', 'cannot', 'transform', 'catholics,', 'whites', 'autumn', 'sing', 'check,', 'highways', 'go', 'rolls', \"god's\", 'what', 'lookout', 'night', 'lives', 'crooked', 'beautiful', 'judged', 'physical', 'heights', 'back', 'granted', 'trials', 'when', 'storms', 'words', 'bank', 'jangling', 'louisiana,', 'seared', 'all', 'ocean', 'engage', 'glory', 'exalted,', 'check', 'hands', 'new', 'demonstration', 'state', 'skin', 'straight;', 'gain', 'demand', 'evidenced', 'racial', 'men', 'signed', 'again,', 'truths', 'revealed', \"we've\", 'shall', 'symbolic', 'citizens', 'forever', 'unearned', 'day,', 'shake', 'majestic', 'wallow', 'still', 'are', 'see', 'hundred', 'horrors', 'alleghenies', 'valley', 'hold', 'nothing', '\"and', 'lead', \"nation's\", 'rock', 'creed:', 'city,', 'marvelous', 'rockies', 'beacon', 'given', 'bound', 'it', 'somehow', 'fatigue', 'today,', 'palace', 'segregation', 'god', 'they', '*we', 'society', 'true', 'molehill', 'dramatize', 'been', 'rise', 'returns', 'hope,', 'vicious', 'nation', 'smaller', 'some', 'always', 'five', 'revolt', 'protestants', 'security', 'believe', 'suffering', 'signing', 'black', 'at', 'country', 'prodigious', 'dignity', 'mobility', 'independence,', 'which', 'daybreak', 'righteousness', 'chains', 'motels', 'rightful', 'shameful', 'legitimate', 'having', 'though', 'hew', 'american,', 'path', \"negro's\", 'inextricably', 'sense', 'transformed', 'sweet', 'unspeakable', 'out', 'dripping', 'thee', 'lonely', 'fatal', 'sunlit', 'presence', 'pride,', 'symphony', 'process', 'rooted', 'little', 'vote', 'its', 'declaration', 'make', 'that', 'am', 'left', 'end,', 'sixty-three', 'areas', '\"when', 'larger', 'guaranteed', 'every', 'died,', 'opportunity', 'later,', 'refuse', 'despair', \"pilgrim's\", 'rude', 'insofar', 'face', 'sit', 'march', 'white', 'hope', 'stripped', 'thank', 'places', 'us', 'plain,', 'soul', 'oppression,', 'hill', 'years', 'owners', 'carolina,', 'end', 'cup', 'where', 'note', 'riches', 'leads', 'life', 'heavy', 'business', 'neither', 'also', 'urgency', 'mississippi,', 'heat', 'place,', 'their', 'injustice', 'boys', 'liberty,', 'georgia,', 'crippled', 'never', 'have', 'dark', 'score', 'to', 'low,', 'cooling', 'slopes', 'faith,', 'down', 'were', 'allow', 'difficulties', 'today!', 'persecution', 'own', 'guilty', 'curvaceous', 'slave', 'realize', 'ring!', 'alabama', 'into', 'dream', 'liberty', 'veterans', 'sadly', 'narrow', 'police', 'give', 'solid', 'light', 'by', 'turn', 'or', 'off', 'fall', 'for', 'came', 'shadow', 'withering', 'you', 'be', 'promissory', 'satisfied,', 'bodies,', 'reality', 'civil', 'staggered', 'something', 'one', 'happens,', 'hills', 'emancipation', 'oasis', '\"nullification\"', 'lips', 'people,', 'meaning:', 'poverty', 'deeply', '\"interposition\"', 'bad', 'now', 'whirlwinds', 'quicksands', 'drinking', 'lift', 'your', 'with', 'only', 'of', 'knowing', 'land', 'sons', 'thee,', 'history', 'funds', 'color', 'bright', 'luxury', 'south', 'mountainside,', 'york', 'on', 'mountain', 'whose', 'pass', 'happy', 'marked', 'needed', 'sisters', 'material', 'warm', 'situation', 'pledge', 'become', 'destiny', 'languished', 'ago,', 'republic', 'obvious', 'last!', 'is', 'made', 'men,', 'jews', 'say', 'discontent', 'self-hood', 'long', 'hilltops', 'the', 'greatest', 'conduct', 'sacred', 'battered', 'corners', 'remind', 'despair,', 'must', 'tranquilizing', 'defaulted', 'walk,', 'continue', 'distrust', 'instead', 'fierce', 'can', 'fresh', '--', 'table', 'was', 'spot', 'millions', 'he', 'nation,', 'that:', 'nineteen', 'and', 'robbed', 'flames', 'insufficient', 'community', 'content', 'rough', 'satisfied', 'girls', 'join', 'snow-capped', 'right', 'her', 'obligation,', 'until', 'tomorrow,', 'blow', 'magnificent', 'heightening', 'governor', 'creative', 'meaning', 'desolate', 'let', 'architects', 'gentiles,', 'take', 'bitterness', 'engulfed', 'mighty', 'cash', 'in', 'victim', 'constitution', \"'tis\", 'up', 'ghettos', 'has', 'slaves', 'as', 'basic', 'time', 'waters,', 'thirst', 'day', 'justice', 'rights,', 'old', 'this', 'manacles', 'hotels', 'freedom', 'pursuit', 'note,', 'pray', 'foundations', 'protest', 'children', 'tranquility', 'mississippi', '\"for', 'would', 'my', 'meeting', 'quest', '\"insufficient'}\n",
      "539\n"
     ]
    }
   ],
   "source": [
    "f = open(\"ihaveadream.txt\",'r')\n",
    "line = f.readline()\n",
    "b=[]\n",
    "while line:\n",
    "    a=line.split()\n",
    "    for k in range(len(a)):\n",
    "        a[k]=a[k].lower()\n",
    "    b = b+a\n",
    "    line = f.readline()\n",
    "\n",
    "for i in range(len(b)):\n",
    "    if (\".\"or','or'!') in b[i]:\n",
    "        b[i]=b[i-1]\n",
    "\n",
    "\n",
    "f.close()\n",
    "\n",
    "\n",
    "b=set(b)\n",
    "print(b)\n",
    "\n",
    "print(len(b))"
   ]
  },
  {
   "cell_type": "code",
   "execution_count": 54,
   "metadata": {},
   "outputs": [
    {
     "name": "stdout",
     "output_type": "stream",
     "text": [
      "{'well', 'injustice,', 'invigorating', 'decree', 'rest', 'american', 'ghetto', '\"justice', 'capital', 'gaining', 'vaults', 'honoring', 'alabama,', 'work', '\"life,', 'children,', 'northern', 'yes,', 'mountains', 'exile', 'created', 'awakening', 'satisfied?\"', 'island', 'drug', 'devotees', 'together,', 'finds', 'walk', 'ring', 'negro', 'degenerate', 'winds', 'overlook', 'signs', 'no,', 'great', 'wrote', 'rights\"', 'brothers,', 'travel,', 'stand', 'tied', 'promise', 'satisfy', 'promises', 'will', 'plane', 'red', 'believes', 'speed', 'fathers', 'stone', 'village', 'hallowed', 'cities,', 'stating:', 'jail', 'midst', 'militancy', 'summer', 'so,', '\"unalienable', 'ring,', 'today', 'people', 'spiritual:', 'free', 'real', 'hamlet,', 'live', 'unmindful', 'wrongful', 'almighty,', 'lodging', 'citizenship', 'self-evident,', 'discords', 'momentous', 'racists,', 'high', 'lord', 'force', 'vast', 'steam', 'slums', 'seek', 'threshold', 'flesh', 'america', 'joyous', 'faith', 'justice:', 'sweltering', '\"we', 'struggle', 'transform', 'catholics,', 'whites', 'autumn', 'sing', 'check,', 'highways', 'rolls', \"god's\", 'lookout', 'night', 'lives', 'crooked', 'beautiful', 'judged', 'physical', 'heights', 'granted', 'trials', 'storms', 'bank', 'jangling', 'louisiana,', 'seared', 'ocean', 'engage', 'glory', 'exalted,', 'check', 'hands', 'demonstration', 'state', 'skin', 'straight;', 'gain', 'demand', 'evidenced', 'racial', 'men', 'signed', 'again,', 'truths', 'revealed', 'symbolic', 'citizens', 'forever', 'unearned', 'day,', 'shake', 'majestic', 'wallow', 'horrors', 'alleghenies', 'valley', 'hold', '\"and', 'lead', \"nation's\", 'rock', 'creed:', 'city,', 'marvelous', 'rockies', 'beacon', 'bound', 'fatigue', 'today,', 'palace', 'segregation', 'god', '*we', 'society', 'true', 'molehill', 'dramatize', 'rise', 'returns', 'hope,', 'vicious', 'nation', 'smaller', 'revolt', 'protestants', 'security', 'suffering', 'signing', 'black', 'country', 'prodigious', 'dignity', 'mobility', 'independence,', 'daybreak', 'righteousness', 'chains', 'motels', 'rightful', 'shameful', 'legitimate', 'hew', 'american,', 'path', \"negro's\", 'inextricably', 'sense', 'transformed', 'sweet', 'unspeakable', 'dripping', 'thee', 'lonely', 'fatal', 'sunlit', 'presence', 'pride,', 'symphony', 'process', 'rooted', 'vote', 'declaration', 'left', 'end,', 'sixty-three', 'areas', '\"when', 'larger', 'guaranteed', 'died,', 'opportunity', 'later,', 'refuse', 'despair', \"pilgrim's\", 'rude', 'insofar', 'face', 'sit', 'march', 'white', 'hope', 'stripped', 'places', 'plain,', 'soul', 'oppression,', 'hill', 'years', 'owners', 'carolina,', 'cup', 'riches', 'leads', 'life', 'heavy', 'business', 'urgency', 'mississippi,', 'heat', 'place,', 'injustice', 'boys', 'liberty,', 'georgia,', 'crippled', 'dark', 'score', 'low,', 'cooling', 'slopes', 'faith,', 'allow', 'difficulties', 'today!', 'persecution', 'guilty', 'curvaceous', 'slave', 'realize', 'ring!', 'alabama', 'dream', 'liberty', 'veterans', 'sadly', 'narrow', 'police', 'solid', 'light', 'turn', 'fall', 'shadow', 'withering', 'promissory', 'satisfied,', 'bodies,', 'reality', 'civil', 'staggered', 'happens,', 'hills', 'emancipation', 'oasis', '\"nullification\"', 'lips', 'people,', 'meaning:', 'poverty', 'deeply', '\"interposition\"', 'bad', 'whirlwinds', 'quicksands', 'drinking', 'lift', 'knowing', 'land', 'sons', 'thee,', 'history', 'funds', 'color', 'bright', 'luxury', 'south', 'mountainside,', 'york', 'mountain', 'pass', 'happy', 'marked', 'needed', 'sisters', 'material', 'warm', 'situation', 'pledge', 'destiny', 'languished', 'ago,', 'republic', 'obvious', 'last!', 'men,', 'jews', 'discontent', 'self-hood', 'long', 'hilltops', 'greatest', 'conduct', 'sacred', 'battered', 'corners', 'remind', 'despair,', 'tranquilizing', 'defaulted', 'walk,', 'continue', 'distrust', 'fierce', 'fresh', '--', 'table', 'spot', 'millions', 'nation,', 'that:', 'nineteen', 'robbed', 'flames', 'insufficient', 'community', 'content', 'rough', 'satisfied', 'girls', 'join', 'snow-capped', 'obligation,', 'tomorrow,', 'blow', 'magnificent', 'heightening', 'governor', 'creative', 'meaning', 'desolate', 'architects', 'gentiles,', 'bitterness', 'engulfed', 'mighty', 'cash', 'victim', 'constitution', \"'tis\", 'ghettos', 'slaves', 'basic', 'time', 'waters,', 'thirst', 'day', 'justice', 'rights,', 'manacles', 'hotels', 'freedom', 'pursuit', 'note,', 'pray', 'foundations', 'protest', 'children', 'tranquility', 'mississippi', '\"for', 'meeting', 'quest', '\"insufficient'}\n",
      "417\n"
     ]
    }
   ],
   "source": [
    "f = open(\"stopwords.txt\",'r')\n",
    "line = f.readline()\n",
    "\n",
    "while line:\n",
    "    word = str(line[:-1])\n",
    "    if word in b:\n",
    "        b.remove(word)\n",
    "    line = f.readline()\n",
    "    \n",
    "print(b)\n",
    "print(len(b))\n",
    "\n"
   ]
  },
  {
   "cell_type": "code",
   "execution_count": 71,
   "metadata": {},
   "outputs": [
    {
     "name": "stdout",
     "output_type": "stream",
     "text": [
      "{'a': 3, 'b': 5, 'c': 8} {'a': 3, 'b': 5, 'c': 8}\n",
      "{'a': 3, 'b': 5, 'c': 8} {'a': 3, 'b': 5, 'c': 8}\n",
      "{'a': 3, 'b': 5, 'c': 8} {'a': 3, 'b': 10, 'c': 8} {'a': 3, 'b': 10, 'c': 8}\n"
     ]
    }
   ],
   "source": [
    "dic = {'a':3,'b':5,'c':8}\n",
    "\n",
    "dic1 = {}\n",
    "\n",
    "for k in dic:\n",
    "    dic1[k] = dic[k]\n",
    "\n",
    "\n",
    "dic1['a']=3\n",
    "print(dic,dic1)\n",
    "\n",
    "dic2 = dic1\n",
    "\n",
    "print(dic1,dic2)\n",
    "\n",
    "dic1['b'] = 10\n",
    "\n",
    "print(dic,dic1,dic2)\n"
   ]
  },
  {
   "cell_type": "code",
   "execution_count": 70,
   "metadata": {},
   "outputs": [
    {
     "name": "stdout",
     "output_type": "stream",
     "text": [
      "{'a': 3, 'b': 10, 'c': 8} {'a': 3, 'b': 10, 'c': 8}\n",
      "{'a': 3, 'b': 10, 'c': 100} {'a': 3, 'b': 10, 'c': 8}\n"
     ]
    }
   ],
   "source": [
    "dic3 = dict(dic1)\n",
    "\n",
    "print(dic1,dic3)\n",
    "\n",
    "dic1['c'] = 100\n",
    "\n",
    "print(dic1,dic3)"
   ]
  },
  {
   "cell_type": "code",
   "execution_count": 68,
   "metadata": {},
   "outputs": [
    {
     "name": "stdout",
     "output_type": "stream",
     "text": [
      "None\n"
     ]
    }
   ],
   "source": [
    "print(dic1.get('d'))"
   ]
  },
  {
   "cell_type": "code",
   "execution_count": 63,
   "metadata": {},
   "outputs": [
    {
     "name": "stdout",
     "output_type": "stream",
     "text": [
      "a 3\n",
      "b 10\n",
      "c 8\n"
     ]
    }
   ],
   "source": [
    "for k,v in dic1.items():\n",
    "    print(k,v)"
   ]
  },
  {
   "cell_type": "code",
   "execution_count": 65,
   "metadata": {},
   "outputs": [
    {
     "data": {
      "text/plain": [
       "('a', 3)"
      ]
     },
     "execution_count": 65,
     "metadata": {},
     "output_type": "execute_result"
    }
   ],
   "source": [
    "list(dic1.items())[0]"
   ]
  },
  {
   "cell_type": "code",
   "execution_count": 84,
   "metadata": {},
   "outputs": [
    {
     "data": {
      "text/plain": [
       "{'l': 1,\n",
       " 'i': 3,\n",
       " 'f': 1,\n",
       " 'e': 2,\n",
       " 's': 5,\n",
       " 'h': 2,\n",
       " 'o': 3,\n",
       " 'r': 1,\n",
       " 't': 2,\n",
       " 'p': 1,\n",
       " 'y': 2,\n",
       " 'n': 1,\n",
       " 'a': 1}"
      ]
     },
     "execution_count": 84,
     "metadata": {},
     "output_type": "execute_result"
    }
   ],
   "source": [
    "st1 = 'life is short, so python is easy.'\n",
    "\n",
    "punct=',. '\n",
    "d={}\n",
    "\n",
    "\n",
    "\n",
    "def word_count(x,y):\n",
    "    d={}\n",
    "    x=list(x)\n",
    "    for a in x:\n",
    "        x=a.lower()\n",
    "        if x not in y:\n",
    "            try:\n",
    "                d[x] += 1\n",
    "            except KeyError:\n",
    "                d[x] = 1\n",
    "                \n",
    "    return d\n",
    "\n",
    "word_count(st1,punct)\n",
    "    \n",
    "\n",
    "# st1=list(st1)\n",
    "    \n",
    "# print(list(st1))\n",
    "\n",
    "\n",
    "\n",
    "# for i in range(len(punct)):\n",
    "#     st1.remove(punct[i])\n",
    "\n",
    "    \n",
    "# print(st1)\n",
    "        "
   ]
  },
  {
   "cell_type": "code",
   "execution_count": 91,
   "metadata": {},
   "outputs": [
    {
     "name": "stdout",
     "output_type": "stream",
     "text": [
      "파일에 성공적으로 기록하였습니다.\n"
     ]
    }
   ],
   "source": [
    "try:\n",
    "    f = open('testfile.txt','w')\n",
    "    f.write(\"테스트 데이터\")\n",
    "except IOError:\n",
    "    print(\"Error : 파일을 찾을 수 없거나 데이터를 쓸 수 없습니다\")\n",
    "    \n",
    "else:\n",
    "    print(\"파일에 성공적으로 기록하였습니다.\")\n",
    "    f.close()\n",
    "    \n"
   ]
  },
  {
   "cell_type": "code",
   "execution_count": 154,
   "metadata": {},
   "outputs": [],
   "source": [
    "# 숫자입력 : 6786\n",
    "# 출력 : 육천칠백팔십오\n",
    "\n",
    "def trans_hangul(num):\n",
    "    a={1:'일',2:'이',3:'삼',4:'사',5:'오',6:'육',7:'칠',8:'팔',9:'구',0:''}\n",
    "    b={0:'',1:'십',2:'백',3:'천',4:'만'}\n",
    "    c={0:'',1:'만',2:'억',3:'경'}\n",
    "    sol=''\n",
    "    \n",
    "    for i in range(1,len(str(num))+1):\n",
    "        m = str(num)[i-1]\n",
    "        sol += a[int(m)]\n",
    "        if int(m)!=0:\n",
    "            sol += b[int(len(str(num))-i)]\n",
    "        \n",
    "    return sol\n",
    "\n"
   ]
  },
  {
   "cell_type": "code",
   "execution_count": 153,
   "metadata": {},
   "outputs": [
    {
     "name": "stdout",
     "output_type": "stream",
     "text": [
      "이만삼천사백오\n"
     ]
    }
   ],
   "source": [
    "num=23405\n",
    "a={1:'일',2:'이',3:'삼',4:'사',5:'오',6:'육',7:'칠',8:'팔',9:'구',0:''}\n",
    "b={0:'',1:'십',2:'백',3:'천',4:'만'}\n",
    "sol=''\n",
    "\n",
    "for i in range(1,len(str(num))+1):\n",
    "    m=str(num)[i-1]\n",
    "    sol+=a[int(m)]\n",
    "    if int(m)!=0:\n",
    "        sol+=b[int(len(str(num))-i)]\n",
    "    \n",
    "print(sol)"
   ]
  },
  {
   "cell_type": "code",
   "execution_count": 158,
   "metadata": {},
   "outputs": [
    {
     "data": {
      "text/plain": [
       "'이만삼백오십'"
      ]
     },
     "execution_count": 158,
     "metadata": {},
     "output_type": "execute_result"
    }
   ],
   "source": [
    "trans_hangul(20350)"
   ]
  },
  {
   "cell_type": "code",
   "execution_count": 160,
   "metadata": {},
   "outputs": [
    {
     "ename": "NameError",
     "evalue": "name 'st' is not defined",
     "output_type": "error",
     "traceback": [
      "\u001b[1;31m---------------------------------------------------------------------------\u001b[0m",
      "\u001b[1;31mNameError\u001b[0m                                 Traceback (most recent call last)",
      "\u001b[1;32m<ipython-input-160-e7942157372f>\u001b[0m in \u001b[0;36m<module>\u001b[1;34m\u001b[0m\n\u001b[0;32m      3\u001b[0m \u001b[1;33m\u001b[0m\u001b[0m\n\u001b[0;32m      4\u001b[0m \u001b[1;33m\u001b[0m\u001b[0m\n\u001b[1;32m----> 5\u001b[1;33m \u001b[1;32mfor\u001b[0m \u001b[0mi\u001b[0m \u001b[1;32min\u001b[0m \u001b[0mrange\u001b[0m\u001b[1;33m(\u001b[0m\u001b[0mlen\u001b[0m\u001b[1;33m(\u001b[0m\u001b[0mst\u001b[0m\u001b[1;33m)\u001b[0m\u001b[1;33m)\u001b[0m\u001b[1;33m:\u001b[0m\u001b[1;33m\u001b[0m\u001b[1;33m\u001b[0m\u001b[0m\n\u001b[0m\u001b[0;32m      6\u001b[0m     \u001b[0mans\u001b[0m \u001b[1;33m+=\u001b[0m \u001b[0mnum_dict\u001b[0m\u001b[1;33m[\u001b[0m\u001b[0mint\u001b[0m\u001b[1;33m(\u001b[0m\u001b[0mst\u001b[0m\u001b[1;33m[\u001b[0m\u001b[0mi\u001b[0m\u001b[1;33m]\u001b[0m\u001b[1;33m)\u001b[0m\u001b[1;33m]\u001b[0m\u001b[1;33m\u001b[0m\u001b[1;33m\u001b[0m\u001b[0m\n\u001b[0;32m      7\u001b[0m     \u001b[1;32mtry\u001b[0m\u001b[1;33m:\u001b[0m\u001b[1;33m\u001b[0m\u001b[1;33m\u001b[0m\u001b[0m\n",
      "\u001b[1;31mNameError\u001b[0m: name 'st' is not defined"
     ]
    }
   ],
   "source": [
    "#def ~~~~~~~~~~~~~~~~~~~~\n",
    "\n",
    "\n",
    "\n",
    "for i in range(len(st)):\n",
    "    ans += num_dict[int(st[i])]\n",
    "    try:\n",
    "        ans += decimal_dict[int(len(st)-1)]\n",
    "    except:\n",
    "        pass\n",
    "return ans\n",
    "\n",
    "\n"
   ]
  },
  {
   "cell_type": "code",
   "execution_count": 266,
   "metadata": {},
   "outputs": [
    {
     "name": "stdout",
     "output_type": "stream",
     "text": [
      "{'well', 'not', 'himself', 'injustice,', 'invigorating', 'decree', 'rest', 'american', 'ghetto', '\"justice', 'capital', 'gaining', 'vaults', 'honoring', 'alabama,', 'work', '\"life,', 'children,', 'from', 'northern', 'yes,', 'mountains', 'exile', 'created', 'awakening', 'had', 'who', 'our', 'satisfied?\"', 'island', 'drug', 'an', 'devotees', 'like', 'together,', 'finds', 'walk', 'together', 'his', 'ring', 'negro', 'degenerate', 'winds', 'overlook', 'signs', 'no', 'no,', 'four', 'great', 'able', 'wrote', 'rights\"', 'those', 'brothers,', 'asking', 'travel,', 'stand', 'tied', 'but', 'promise', 'satisfy', 'promises', 'will', 'former', 'plane', 'red', 'believes', 'speed', 'fathers', 'stone', 'village', 'hallowed', 'cities,', 'again', 'stating:', 'we', 'these', 'jail', 'midst', 'militancy', 'summer', 'so,', 'i', '\"unalienable', 'even', 'ring,', 'today', 'people', 'so', 'spiritual:', 'many', 'free', 'real', 'hamlet,', 'live', 'unmindful', 'wrongful', 'almighty,', 'lodging', 'citizenship', 'self-evident,', 'nor', 'discords', 'momentous', 'racists,', 'high', 'if', 'there', 'lord', 'force', 'vast', 'steam', 'slums', 'seek', 'threshold', 'flesh', 'a', 'come', 'america', 'joyous', 'faith', 'justice:', 'here', 'upon', 'sweltering', '\"we', 'struggle', 'cannot', 'transform', 'catholics,', 'whites', 'autumn', 'sing', 'check,', 'highways', 'go', 'rolls', \"god's\", 'what', 'lookout', 'night', 'lives', 'crooked', 'beautiful', 'judged', 'physical', 'heights', 'back', 'granted', 'trials', 'when', 'storms', 'words', 'bank', 'jangling', 'louisiana,', 'seared', 'all', 'ocean', 'engage', 'glory', 'exalted,', 'check', 'hands', 'new', 'demonstration', 'state', 'skin', 'straight;', 'gain', 'demand', 'evidenced', 'racial', 'men', 'signed', 'again,', 'truths', 'revealed', \"we've\", 'shall', 'symbolic', 'citizens', 'forever', 'unearned', 'day,', 'shake', 'majestic', 'wallow', 'still', 'are', 'see', 'hundred', 'horrors', 'alleghenies', 'valley', 'hold', 'nothing', '\"and', 'lead', \"nation's\", 'rock', 'creed:', 'city,', 'marvelous', 'rockies', 'beacon', 'given', 'bound', 'it', 'somehow', 'fatigue', 'today,', 'palace', 'segregation', 'god', 'they', '*we', 'society', 'true', 'molehill', 'dramatize', 'been', 'rise', 'returns', 'hope,', 'vicious', 'nation', 'smaller', 'some', 'always', 'five', 'revolt', 'protestants', 'security', 'believe', 'suffering', 'signing', 'black', 'at', 'country', 'prodigious', 'dignity', 'mobility', 'independence,', 'which', 'daybreak', 'righteousness', 'chains', 'motels', 'rightful', 'shameful', 'legitimate', 'having', 'though', 'hew', 'american,', 'path', \"negro's\", 'inextricably', 'sense', 'transformed', 'sweet', 'unspeakable', 'out', 'dripping', 'thee', 'lonely', 'fatal', 'sunlit', 'presence', 'pride,', 'symphony', 'process', 'rooted', 'little', 'vote', 'its', 'declaration', 'make', 'that', 'am', 'left', 'end,', 'sixty-three', 'areas', '\"when', 'larger', 'guaranteed', 'every', 'died,', 'opportunity', 'later,', 'refuse', 'despair', \"pilgrim's\", 'rude', 'insofar', 'face', 'sit', 'march', 'white', 'hope', 'stripped', 'thank', 'places', 'us', 'plain,', 'soul', 'oppression,', 'hill', 'years', 'owners', 'carolina,', 'end', 'cup', 'where', 'note', 'riches', 'leads', 'life', 'heavy', 'business', 'neither', 'also', 'urgency', 'mississippi,', 'heat', 'place,', 'their', 'injustice', 'boys', 'liberty,', 'georgia,', 'crippled', 'never', 'have', 'dark', 'score', 'to', 'low,', 'cooling', 'slopes', 'faith,', 'down', 'were', 'allow', 'difficulties', 'today!', 'persecution', 'own', 'guilty', 'curvaceous', 'slave', 'realize', 'ring!', 'alabama', 'into', 'dream', 'liberty', 'veterans', 'sadly', 'narrow', 'police', 'give', 'solid', 'light', 'by', 'turn', 'or', 'off', 'fall', 'for', 'came', 'shadow', 'withering', 'you', 'be', 'promissory', 'satisfied,', 'bodies,', 'reality', 'civil', 'staggered', 'something', 'one', 'happens,', 'hills', 'emancipation', 'oasis', '\"nullification\"', 'lips', 'people,', 'meaning:', 'poverty', 'deeply', '\"interposition\"', 'bad', 'now', 'whirlwinds', 'quicksands', 'drinking', 'lift', 'your', 'with', 'only', 'of', 'knowing', 'land', 'sons', 'thee,', 'history', 'funds', 'color', 'bright', 'luxury', 'south', 'mountainside,', 'york', 'on', 'mountain', 'whose', 'pass', 'happy', 'marked', 'needed', 'sisters', 'material', 'warm', 'situation', 'pledge', 'become', 'destiny', 'languished', 'ago,', 'republic', 'obvious', 'last!', 'is', 'made', 'men,', 'jews', 'say', 'discontent', 'self-hood', 'long', 'hilltops', 'the', 'greatest', 'conduct', 'sacred', 'battered', 'corners', 'remind', 'despair,', 'must', 'tranquilizing', 'defaulted', 'walk,', 'continue', 'distrust', 'instead', 'fierce', 'can', 'fresh', '--', 'table', 'was', 'spot', 'millions', 'he', 'nation,', 'that:', 'nineteen', 'and', 'robbed', 'flames', 'insufficient', 'community', 'content', 'rough', 'satisfied', 'girls', 'join', 'snow-capped', 'right', 'her', 'obligation,', 'until', 'tomorrow,', 'blow', 'magnificent', 'heightening', 'governor', 'creative', 'meaning', 'desolate', 'let', 'architects', 'gentiles,', 'take', 'bitterness', 'engulfed', 'mighty', 'cash', 'in', 'victim', 'constitution', \"'tis\", 'up', 'ghettos', 'has', 'slaves', 'as', 'basic', 'time', 'waters,', 'thirst', 'day', 'justice', 'rights,', 'old', 'this', 'manacles', 'hotels', 'freedom', 'pursuit', 'note,', 'pray', 'foundations', 'protest', 'children', 'tranquility', 'mississippi', '\"for', 'would', 'my', 'meeting', 'quest', '\"insufficient'}\n",
      "539\n"
     ]
    }
   ],
   "source": [
    "f = open(\"ihaveadream.txt\",'r')\n",
    "line = f.readline()\n",
    "b=[]\n",
    "while line:\n",
    "    a=line.split()\n",
    "    for k in range(len(a)):\n",
    "        a[k]=a[k].lower()\n",
    "    b = b+a\n",
    "    line = f.readline()\n",
    "\n",
    "for i in range(len(b)):\n",
    "    if (\".\"or','or'!') in b[i]:\n",
    "        b[i]=b[i-1]\n",
    "\n",
    "\n",
    "f.close()\n",
    "\n",
    "\n",
    "b=set(b)\n",
    "print(b)\n",
    "\n",
    "print(len(b))"
   ]
  },
  {
   "cell_type": "code",
   "execution_count": 267,
   "metadata": {},
   "outputs": [
    {
     "name": "stdout",
     "output_type": "stream",
     "text": [
      "{'well', 'injustice,', 'invigorating', 'decree', 'rest', 'american', 'ghetto', '\"justice', 'capital', 'gaining', 'vaults', 'honoring', 'alabama,', 'work', '\"life,', 'children,', 'northern', 'yes,', 'mountains', 'exile', 'created', 'awakening', 'satisfied?\"', 'island', 'drug', 'devotees', 'together,', 'finds', 'walk', 'ring', 'negro', 'degenerate', 'winds', 'overlook', 'signs', 'no,', 'great', 'wrote', 'rights\"', 'brothers,', 'travel,', 'stand', 'tied', 'promise', 'satisfy', 'promises', 'will', 'plane', 'red', 'believes', 'speed', 'fathers', 'stone', 'village', 'hallowed', 'cities,', 'stating:', 'jail', 'midst', 'militancy', 'summer', 'so,', '\"unalienable', 'ring,', 'today', 'people', 'spiritual:', 'free', 'real', 'hamlet,', 'live', 'unmindful', 'wrongful', 'almighty,', 'lodging', 'citizenship', 'self-evident,', 'discords', 'momentous', 'racists,', 'high', 'lord', 'force', 'vast', 'steam', 'slums', 'seek', 'threshold', 'flesh', 'america', 'joyous', 'faith', 'justice:', 'sweltering', '\"we', 'struggle', 'transform', 'catholics,', 'whites', 'autumn', 'sing', 'check,', 'highways', 'rolls', \"god's\", 'lookout', 'night', 'lives', 'crooked', 'beautiful', 'judged', 'physical', 'heights', 'granted', 'trials', 'storms', 'bank', 'jangling', 'louisiana,', 'seared', 'ocean', 'engage', 'glory', 'exalted,', 'check', 'hands', 'demonstration', 'state', 'skin', 'straight;', 'gain', 'demand', 'evidenced', 'racial', 'men', 'signed', 'again,', 'truths', 'revealed', 'symbolic', 'citizens', 'forever', 'unearned', 'day,', 'shake', 'majestic', 'wallow', 'horrors', 'alleghenies', 'valley', 'hold', '\"and', 'lead', \"nation's\", 'rock', 'creed:', 'city,', 'marvelous', 'rockies', 'beacon', 'bound', 'fatigue', 'today,', 'palace', 'segregation', 'god', '*we', 'society', 'true', 'molehill', 'dramatize', 'rise', 'returns', 'hope,', 'vicious', 'nation', 'smaller', 'revolt', 'protestants', 'security', 'suffering', 'signing', 'black', 'country', 'prodigious', 'dignity', 'mobility', 'independence,', 'daybreak', 'righteousness', 'chains', 'motels', 'rightful', 'shameful', 'legitimate', 'hew', 'american,', 'path', \"negro's\", 'inextricably', 'sense', 'transformed', 'sweet', 'unspeakable', 'dripping', 'thee', 'lonely', 'fatal', 'sunlit', 'presence', 'pride,', 'symphony', 'process', 'rooted', 'vote', 'declaration', 'left', 'end,', 'sixty-three', 'areas', '\"when', 'larger', 'guaranteed', 'died,', 'opportunity', 'later,', 'refuse', 'despair', \"pilgrim's\", 'rude', 'insofar', 'face', 'sit', 'march', 'white', 'hope', 'stripped', 'places', 'plain,', 'soul', 'oppression,', 'hill', 'years', 'owners', 'carolina,', 'cup', 'note', 'riches', 'leads', 'life', 'heavy', 'business', 'urgency', 'mississippi,', 'heat', 'place,', 'injustice', 'boys', 'liberty,', 'georgia,', 'crippled', 'dark', 'score', 'low,', 'cooling', 'slopes', 'faith,', 'allow', 'difficulties', 'today!', 'persecution', 'guilty', 'curvaceous', 'slave', 'realize', 'ring!', 'alabama', 'dream', 'liberty', 'veterans', 'sadly', 'narrow', 'police', 'solid', 'light', 'turn', 'fall', 'shadow', 'withering', 'promissory', 'satisfied,', 'bodies,', 'reality', 'civil', 'staggered', 'happens,', 'hills', 'emancipation', 'oasis', '\"nullification\"', 'lips', 'people,', 'meaning:', 'poverty', 'deeply', '\"interposition\"', 'bad', 'whirlwinds', 'quicksands', 'drinking', 'lift', 'knowing', 'land', 'sons', 'thee,', 'history', 'funds', 'color', 'bright', 'luxury', 'south', 'mountainside,', 'york', 'mountain', 'pass', 'happy', 'marked', 'needed', 'sisters', 'material', 'warm', 'situation', 'pledge', 'destiny', 'languished', 'ago,', 'republic', 'obvious', 'last!', 'men,', 'jews', 'discontent', 'self-hood', 'long', 'hilltops', 'greatest', 'conduct', 'sacred', 'battered', 'corners', 'remind', 'despair,', 'tranquilizing', 'defaulted', 'walk,', 'continue', 'distrust', 'fierce', 'fresh', '--', 'table', 'spot', 'millions', 'nation,', 'that:', 'nineteen', 'robbed', 'flames', 'insufficient', 'community', 'content', 'rough', 'satisfied', 'girls', 'join', 'snow-capped', 'obligation,', 'tomorrow,', 'blow', 'magnificent', 'heightening', 'governor', 'creative', 'meaning', 'desolate', 'architects', 'gentiles,', 'bitterness', 'engulfed', 'mighty', 'cash', 'victim', 'constitution', \"'tis\", 'ghettos', 'slaves', 'basic', 'time', 'waters,', 'thirst', 'day', 'justice', 'rights,', 'manacles', 'hotels', 'freedom', 'pursuit', 'note,', 'pray', 'foundations', 'protest', 'children', 'tranquility', 'mississippi', '\"for', 'meeting', 'quest', '\"insufficient'}\n",
      "418\n"
     ]
    }
   ],
   "source": [
    "f = open(\"stopwords.txt\",'r')\n",
    "line = f.readline()\n",
    "\n",
    "\n",
    "while line:\n",
    "    word = line[:-1]\n",
    "    if word in b:\n",
    "        b.remove(word)\n",
    "    line = f.readline()\n",
    "    \n",
    "print(b)\n",
    "print(len(b))\n",
    "\n"
   ]
  },
  {
   "cell_type": "code",
   "execution_count": 268,
   "metadata": {},
   "outputs": [
    {
     "ename": "SyntaxError",
     "evalue": "unexpected EOF while parsing (<ipython-input-268-56ab44e1f95e>, line 27)",
     "output_type": "error",
     "traceback": [
      "\u001b[1;36m  File \u001b[1;32m\"<ipython-input-268-56ab44e1f95e>\"\u001b[1;36m, line \u001b[1;32m27\u001b[0m\n\u001b[1;33m    \u001b[0m\n\u001b[1;37m    ^\u001b[0m\n\u001b[1;31mSyntaxError\u001b[0m\u001b[1;31m:\u001b[0m unexpected EOF while parsing\n"
     ]
    }
   ],
   "source": [
    "# st1 = 'life is short, so python is easy.'\n",
    "\n",
    "# punct=',. '\n",
    "# d={}\n",
    "\n",
    "\n",
    "\n",
    "# def word_count(x,y):\n",
    "#     d={}\n",
    "#     x=list(x)\n",
    "#     for a in x:\n",
    "#         x=a.lower()\n",
    "#         if x not in y:\n",
    "#             try:\n",
    "#                 d[x] += 1\n",
    "#             except KeyError:\n",
    "#                 d[x] = 1\n",
    "                \n",
    "#     return d\n",
    "\n",
    "# word_count(st1,punct)\n",
    "\n",
    "\n",
    "def txt_word_count(x,y,z):\n",
    "    # x는 txt ,y 는 삭제할 단어 txt, z는 숫자 (몇번 이상 등장)\n",
    "    \n",
    "    "
   ]
  },
  {
   "cell_type": "code",
   "execution_count": 269,
   "metadata": {},
   "outputs": [
    {
     "ename": "NameError",
     "evalue": "name 'xlist' is not defined",
     "output_type": "error",
     "traceback": [
      "\u001b[1;31m---------------------------------------------------------------------------\u001b[0m",
      "\u001b[1;31mNameError\u001b[0m                                 Traceback (most recent call last)",
      "\u001b[1;32m<ipython-input-269-ca47c62baf6c>\u001b[0m in \u001b[0;36m<module>\u001b[1;34m\u001b[0m\n\u001b[0;32m      1\u001b[0m \u001b[0md\u001b[0m\u001b[1;33m=\u001b[0m\u001b[1;33m{\u001b[0m\u001b[1;33m}\u001b[0m\u001b[1;33m\u001b[0m\u001b[1;33m\u001b[0m\u001b[0m\n\u001b[0;32m      2\u001b[0m \u001b[1;33m\u001b[0m\u001b[0m\n\u001b[1;32m----> 3\u001b[1;33m \u001b[0mxlist\u001b[0m\u001b[1;33m\u001b[0m\u001b[1;33m\u001b[0m\u001b[0m\n\u001b[0m",
      "\u001b[1;31mNameError\u001b[0m: name 'xlist' is not defined"
     ]
    }
   ],
   "source": [
    "d={}\n",
    "\n",
    "xlist\n"
   ]
  },
  {
   "cell_type": "code",
   "execution_count": 270,
   "metadata": {},
   "outputs": [
    {
     "name": "stdout",
     "output_type": "stream",
     "text": [
      "['i', 'am', 'happy', 'to', 'join', 'with', 'you', 'today', 'in', 'what', 'will', 'go', 'down', 'in', 'history', 'as', 'the', 'greatest', 'demonstration', 'for', 'freedom', 'in', 'the', 'history', 'of', 'our', 'nation', 'five', 'score', 'years', 'ago', 'a', 'great', 'american', 'in', 'whose', 'symbolic', 'shadow', 'we', 'stand', 'today', 'signed', 'the', 'emancipation', 'proclamation', 'this', 'momentous', 'decree', 'came', 'as', 'a', 'great', 'beacon', 'light', 'of', 'hope', 'to', 'millions', 'of', 'negro', 'slaves', 'who', 'had', 'been', 'seared', 'in', 'the', 'flames', 'of', 'withering', 'injustice', 'it', 'came', 'as', 'a', 'joyous', 'daybreak', 'to', 'end', 'the', 'long', 'night', 'of', 'their', 'captivity', 'but', 'one', 'hundred', 'years', 'later', 'the', 'negro', 'still', 'is', 'not', 'free', 'one', 'hundred', 'years', 'later', 'the', 'life', 'of', 'the', 'negro', 'is', 'still', 'sadly', 'crippled', 'by', 'the', 'manacles', 'of', 'segregation', 'and', 'the', 'chains', 'of', 'discrimination', 'one', 'hundred', 'years', 'later', 'the', 'negro', 'lives', 'on', 'a', 'lonely', 'island', 'of', 'poverty', 'in', 'the', 'midst', 'of', 'a', 'vast', 'ocean', 'of', 'material', 'prosperity', 'one', 'hundred', 'years', 'later', 'the', 'negro', 'is', 'still', 'languished', 'in', 'the', 'corners', 'of', 'american', 'society', 'and', 'finds', 'himself', 'an', 'exile', 'in', 'his', 'own', 'land', 'and', 'so', \"we've\", 'come', 'here', 'today', 'to', 'dramatize', 'a', 'shameful', 'condition', 'in', 'a', 'sense', \"we've\", 'come', 'to', 'our', \"nation's\", 'capital', 'to', 'cash', 'a', 'check', 'when', 'the', 'architects', 'of', 'our', 'republic', 'wrote', 'the', 'magnificent', 'words', 'of', 'the', 'constitution', 'and', 'the', 'declaration', 'of', 'independence', 'they', 'were', 'signing', 'a', 'promissory', 'note', 'to', 'which', 'every', 'american', 'was', 'to', 'fall', 'heir', 'this', 'note', 'was', 'a', 'promise', 'that', 'all', 'men', 'yes', 'black', 'men', 'as', 'well', 'as', 'white', 'men', 'would', 'be', 'guaranteed', 'the', '\"unalienable', 'rights\"', 'of', '\"life', 'liberty', 'and', 'the', 'pursuit', 'of', 'happiness.', 'it', 'is', 'obvious', 'today', 'that', 'america', 'has', 'defaulted', 'on', 'this', 'promissory', 'note', 'insofar', 'as', 'her', 'citizens', 'of', 'color', 'are', 'concerned', 'instead', 'of', 'honoring', 'this', 'sacred', 'obligation', 'america', 'has', 'given', 'the', 'negro', 'people', 'a', 'bad', 'check', 'a', 'check', 'which', 'has', 'come', 'back', 'marked', '\"insufficient', 'funds.', 'but', 'we', 'refuse', 'to', 'believe', 'that', 'the', 'bank', 'of', 'justice', 'is', 'bankrupt', 'we', 'refuse', 'to', 'believe', 'that', 'there', 'are', 'insufficient', 'funds', 'in', 'the', 'great', 'vaults', 'of', 'opportunity', 'of', 'this', 'nation', 'and', 'so', \"we've\", 'come', 'to', 'cash', 'this', 'check', 'a', 'check', 'that', 'will', 'give', 'us', 'upon', 'demand', 'the', 'riches', 'of', 'freedom', 'and', 'the', 'security', 'of', 'justice', 'we', 'have', 'also', 'come', 'to', 'this', 'hallowed', 'spot', 'to', 'remind', 'america', 'of', 'the', 'fierce', 'urgency', 'of', 'now', 'this', 'is', 'no', 'time', 'to', 'engage', 'in', 'the', 'luxury', 'of', 'cooling', 'off', 'or', 'to', 'take', 'the', 'tranquilizing', 'drug', 'of', 'gradualism', 'now', 'is', 'the', 'time', 'to', 'make', 'real', 'the', 'promises', 'of', 'democracy', 'now', 'is', 'the', 'time', 'to', 'rise', 'from', 'the', 'dark', 'and', 'desolate', 'valley', 'of', 'segregation', 'to', 'the', 'sunlit', 'path', 'of', 'racial', 'justice', 'now', 'is', 'the', 'time', 'to', 'lift', 'our', 'nation', 'from', 'the', 'quicksands', 'of', 'racial', 'injustice', 'to', 'the', 'solid', 'rock', 'of', 'brotherhood', 'now', 'is', 'the', 'time', 'to', 'make', 'justice', 'a', 'reality', 'for', 'all', 'of', \"god's\", 'children', 'it', 'would', 'be', 'fatal', 'for', 'the', 'nation', 'to', 'overlook', 'the', 'urgency', 'of', 'the', 'moment', 'this', 'sweltering', 'summer', 'of', 'the', \"negro's\", 'legitimate', 'discontent', 'will', 'not', 'pass', 'until', 'there', 'is', 'an', 'invigorating', 'autumn', 'of', 'freedom', 'and', 'equality', 'nineteen', 'sixty-three', 'is', 'not', 'an', 'end', 'but', 'a', 'beginning', 'and', 'those', 'who', 'hope', 'that', 'the', 'negro', 'needed', 'to', 'blow', 'off', 'steam', 'and', 'will', 'now', 'be', 'content', 'will', 'have', 'a', 'rude', 'awakening', 'if', 'the', 'nation', 'returns', 'to', 'business', 'as', 'usual', 'and', 'there', 'will', 'be', 'neither', 'rest', 'nor', 'tranquility', 'in', 'america', 'until', 'the', 'negro', 'is', 'granted', 'his', 'citizenship', 'rights', 'the', 'whirlwinds', 'of', 'revolt', 'will', 'continue', 'to', 'shake', 'the', 'foundations', 'of', 'our', 'nation', 'until', 'the', 'bright', 'day', 'of', 'justice', 'emerges', 'but', 'there', 'is', 'something', 'that', 'i', 'must', 'say', 'to', 'my', 'people', 'who', 'stand', 'on', 'the', 'warm', 'threshold', 'which', 'leads', 'into', 'the', 'palace', 'of', 'justice:', 'in', 'the', 'process', 'of', 'gaining', 'our', 'rightful', 'place', 'we', 'must', 'not', 'be', 'guilty', 'of', 'wrongful', 'deeds', 'let', 'us', 'not', 'seek', 'to', 'satisfy', 'our', 'thirst', 'for', 'freedom', 'by', 'drinking', 'from', 'the', 'cup', 'of', 'bitterness', 'and', 'hatred', 'we', 'must', 'forever', 'conduct', 'our', 'struggle', 'on', 'the', 'high', 'plane', 'of', 'dignity', 'and', 'discipline', 'we', 'must', 'not', 'allow', 'our', 'creative', 'protest', 'to', 'degenerate', 'into', 'physical', 'violence', 'again', 'and', 'again', 'we', 'must', 'rise', 'to', 'the', 'majestic', 'heights', 'of', 'meeting', 'physical', 'force', 'with', 'soul', 'force', 'the', 'marvelous', 'new', 'militancy', 'which', 'has', 'engulfed', 'the', 'negro', 'community', 'must', 'not', 'lead', 'us', 'to', 'a', 'distrust', 'of', 'all', 'white', 'people', 'for', 'many', 'of', 'our', 'white', 'brothers', 'as', 'evidenced', 'by', 'their', 'presence', 'here', 'today', 'have', 'come', 'to', 'realize', 'that', 'their', 'destiny', 'is', 'tied', 'up', 'with', 'our', 'destiny', 'and', 'they', 'have', 'come', 'to', 'realize', 'that', 'their', 'freedom', 'is', 'inextricably', 'bound', 'to', 'our', 'freedom', 'we', 'cannot', 'walk', 'alone', 'and', 'as', 'we', 'walk', 'we', 'must', 'make', 'the', 'pledge', 'that', 'we', 'shall', 'always', 'march', 'ahead', 'we', 'cannot', 'turn', 'back', 'there', 'are', 'those', 'who', 'are', 'asking', 'the', 'devotees', 'of', 'civil', 'rights', '\"when', 'will', 'you', 'be', 'satisfied?\"', 'we', 'can', 'never', 'be', 'satisfied', 'as', 'long', 'as', 'the', 'negro', 'is', 'the', 'victim', 'of', 'the', 'unspeakable', 'horrors', 'of', 'police', 'brutality', 'we', 'can', 'never', 'be', 'satisfied', 'as', 'long', 'as', 'our', 'bodies', 'heavy', 'with', 'the', 'fatigue', 'of', 'travel', 'cannot', 'gain', 'lodging', 'in', 'the', 'motels', 'of', 'the', 'highways', 'and', 'the', 'hotels', 'of', 'the', 'cities', '*we', 'cannot', 'be', 'satisfied', 'as', 'long', 'as', 'the', \"negro's\", 'basic', 'mobility', 'is', 'from', 'a', 'smaller', 'ghetto', 'to', 'a', 'larger', 'one', 'we', 'can', 'never', 'be', 'satisfied', 'as', 'long', 'as', 'our', 'children', 'are', 'stripped', 'of', 'their', 'self-hood', 'and', 'robbed', 'of', 'their', 'dignity', 'by', 'signs', 'stating:', '\"for', 'whites', 'only.\"', 'we', 'cannot', 'be', 'satisfied', 'as', 'long', 'as', 'a', 'negro', 'in', 'mississippi', 'cannot', 'vote', 'and', 'a', 'negro', 'in', 'new', 'york', 'believes', 'he', 'has', 'nothing', 'for', 'which', 'to', 'vote', 'no', 'no', 'we', 'are', 'not', 'satisfied', 'and', 'we', 'will', 'not', 'be', 'satisfied', 'until', '\"justice', 'rolls', 'down', 'like', 'waters', 'and', 'righteousness', 'like', 'a', 'mighty', 'stream.\"', 'i', 'am', 'not', 'unmindful', 'that', 'some', 'of', 'you', 'have', 'come', 'here', 'out', 'of', 'great', 'trials', 'and', 'tribulations', 'some', 'of', 'you', 'have', 'come', 'fresh', 'from', 'narrow', 'jail', 'cells', 'and', 'some', 'of', 'you', 'have', 'come', 'from', 'areas', 'where', 'your', 'quest', '--', 'quest', 'for', 'freedom', 'left', 'you', 'battered', 'by', 'the', 'storms', 'of', 'persecution', 'and', 'staggered', 'by', 'the', 'winds', 'of', 'police', 'brutality', 'you', 'have', 'been', 'the', 'veterans', 'of', 'creative', 'suffering', 'continue', 'to', 'work', 'with', 'the', 'faith', 'that', 'unearned', 'suffering', 'is', 'redemptive', 'go', 'back', 'to', 'mississippi', 'go', 'back', 'to', 'alabama', 'go', 'back', 'to', 'south', 'carolina', 'go', 'back', 'to', 'georgia', 'go', 'back', 'to', 'louisiana', 'go', 'back', 'to', 'the', 'slums', 'and', 'ghettos', 'of', 'our', 'northern', 'cities', 'knowing', 'that', 'somehow', 'this', 'situation', 'can', 'and', 'will', 'be', 'changed', 'let', 'us', 'not', 'wallow', 'in', 'the', 'valley', 'of', 'despair', 'i', 'say', 'to', 'you', 'today', 'my', 'friends', 'and', 'so', 'even', 'though', 'we', 'face', 'the', 'difficulties', 'of', 'today', 'and', 'tomorrow', 'i', 'still', 'have', 'a', 'dream', 'it', 'is', 'a', 'dream', 'deeply', 'rooted', 'in', 'the', 'american', 'dream', 'i', 'have', 'a', 'dream', 'that', 'one', 'day', 'this', 'nation', 'will', 'rise', 'up', 'and', 'live', 'out', 'the', 'true', 'meaning', 'of', 'its', 'creed:', '\"we', 'hold', 'these', 'truths', 'to', 'be', 'self-evident', 'that', 'all', 'men', 'are', 'created', 'equal.', 'i', 'have', 'a', 'dream', 'that', 'one', 'day', 'on', 'the', 'red', 'hills', 'of', 'georgia', 'the', 'sons', 'of', 'former', 'slaves', 'and', 'the', 'sons', 'of', 'former', 'slave', 'owners', 'will', 'be', 'able', 'to', 'sit', 'down', 'together', 'at', 'the', 'table', 'of', 'brotherhood', 'i', 'have', 'a', 'dream', 'that', 'one', 'day', 'even', 'the', 'state', 'of', 'mississippi', 'a', 'state', 'sweltering', 'with', 'the', 'heat', 'of', 'injustice', 'sweltering', 'with', 'the', 'heat', 'of', 'oppression', 'will', 'be', 'transformed', 'into', 'an', 'oasis', 'of', 'freedom', 'and', 'justice', 'i', 'have', 'a', 'dream', 'that', 'my', 'four', 'little', 'children', 'will', 'one', 'day', 'live', 'in', 'a', 'nation', 'where', 'they', 'will', 'not', 'be', 'judged', 'by', 'the', 'color', 'of', 'their', 'skin', 'but', 'by', 'the', 'content', 'of', 'their', 'character', 'i', 'have', 'a', 'dream', 'today', 'i', 'have', 'a', 'dream', 'that', 'one', 'day', 'down', 'in', 'alabama', 'with', 'its', 'vicious', 'racists', 'with', 'its', 'governor', 'having', 'his', 'lips', 'dripping', 'with', 'the', 'words', 'of', '\"interposition\"', 'and', '\"nullification\"', '--', 'one', 'day', 'right', 'there', 'in', 'alabama', 'little', 'black', 'boys', 'and', 'black', 'girls', 'will', 'be', 'able', 'to', 'join', 'hands', 'with', 'little', 'white', 'boys', 'and', 'white', 'girls', 'as', 'sisters', 'and', 'brothers', 'i', 'have', 'a', 'dream', 'today', 'i', 'have', 'a', 'dream', 'that', 'one', 'day', 'every', 'valley', 'shall', 'be', 'exalted', 'and', 'every', 'hill', 'and', 'mountain', 'shall', 'be', 'made', 'low', 'the', 'rough', 'places', 'will', 'be', 'made', 'plain', 'and', 'the', 'crooked', 'places', 'will', 'be', 'made', 'straight;', '\"and', 'the', 'glory', 'of', 'the', 'lord', 'shall', 'be', 'revealed', 'and', 'all', 'flesh', 'shall', 'see', 'it', 'together.\"', 'this', 'is', 'our', 'hope', 'and', 'this', 'is', 'the', 'faith', 'that', 'i', 'go', 'back', 'to', 'the', 'south', 'with', 'with', 'this', 'faith', 'we', 'will', 'be', 'able', 'to', 'hew', 'out', 'of', 'the', 'mountain', 'of', 'despair', 'a', 'stone', 'of', 'hope', 'with', 'this', 'faith', 'we', 'will', 'be', 'able', 'to', 'transform', 'the', 'jangling', 'discords', 'of', 'our', 'nation', 'into', 'a', 'beautiful', 'symphony', 'of', 'brotherhood', 'with', 'this', 'faith', 'we', 'will', 'be', 'able', 'to', 'work', 'together', 'to', 'pray', 'together', 'to', 'struggle', 'together', 'to', 'go', 'to', 'jail', 'together', 'to', 'stand', 'up', 'for', 'freedom', 'together', 'knowing', 'that', 'we', 'will', 'be', 'free', 'one', 'day', 'and', 'this', 'will', 'be', 'the', 'day', '--', 'this', 'will', 'be', 'the', 'day', 'when', 'all', 'of', \"god's\", 'children', 'will', 'be', 'able', 'to', 'sing', 'with', 'new', 'meaning:', 'my', 'country', \"'tis\", 'of', 'thee', 'sweet', 'land', 'of', 'liberty', 'of', 'thee', 'i', 'sing', 'land', 'where', 'my', 'fathers', 'died', 'land', 'of', 'the', \"pilgrim's\", 'pride', 'from', 'every', 'mountainside', 'let', 'freedom', 'ring', 'and', 'if', 'america', 'is', 'to', 'be', 'a', 'great', 'nation', 'this', 'must', 'become', 'true', 'and', 'so', 'let', 'freedom', 'ring', 'from', 'the', 'prodigious', 'hilltops', 'of', 'new', 'hampshire', 'let', 'freedom', 'ring', 'from', 'the', 'mighty', 'mountains', 'of', 'new', 'york', 'let', 'freedom', 'ring', 'from', 'the', 'heightening', 'alleghenies', 'of', 'pennsylvania', 'let', 'freedom', 'ring', 'from', 'the', 'snow-capped', 'rockies', 'of', 'colorado', 'let', 'freedom', 'ring', 'from', 'the', 'curvaceous', 'slopes', 'of', 'california', 'but', 'not', 'only', 'that:', 'let', 'freedom', 'ring', 'from', 'stone', 'mountain', 'of', 'georgia', 'let', 'freedom', 'ring', 'from', 'lookout', 'mountain', 'of', 'tennessee', 'let', 'freedom', 'ring', 'from', 'every', 'hill', 'and', 'molehill', 'of', 'mississippi', 'from', 'every', 'mountainside', 'let', 'freedom', 'ring', 'and', 'when', 'this', 'happens', 'and', 'when', 'we', 'allow', 'freedom', 'ring', 'when', 'we', 'let', 'it', 'ring', 'from', 'every', 'village', 'and', 'every', 'hamlet', 'from', 'every', 'state', 'and', 'every', 'city', 'we', 'will', 'be', 'able', 'to', 'speed', 'up', 'that', 'day', 'when', 'all', 'of', \"god's\", 'children', 'black', 'men', 'and', 'white', 'men', 'jews', 'and', 'gentiles', 'protestants', 'and', 'catholics', 'will', 'be', 'able', 'to', 'join', 'hands', 'and', 'sing', 'in', 'the', 'words', 'of', 'the', 'old', 'negro', 'spiritual:', 'free', 'at', 'last', 'free', 'at', 'last', 'thank', 'god', 'almighty', 'we', 'are', 'free', 'at', 'last']\n"
     ]
    }
   ],
   "source": [
    "f = open(\"ihaveadream.txt\",'r')\n",
    "line = f.readline()\n",
    "in_words=[]\n",
    "\n",
    "\n",
    "while line:\n",
    "    a=line.split()\n",
    "    for k in range(len(a)):\n",
    "        a[k]=a[k].lower()\n",
    "    in_words = in_words+a\n",
    "    line = f.readline()\n",
    "    \n",
    "\n",
    "\n",
    "for i in range(len(in_words)):\n",
    "    if '.' in in_words[i] or',' in in_words[i] or'!' in in_words[i]:\n",
    "        in_words[i] = in_words[i][:-1]\n",
    "    \n",
    "\n",
    "\n",
    "f.close()\n",
    "\n",
    "print(in_words)\n",
    "\n"
   ]
  },
  {
   "cell_type": "code",
   "execution_count": 271,
   "metadata": {},
   "outputs": [
    {
     "name": "stdout",
     "output_type": "stream",
     "text": [
      "['a', 'able', 'about', 'above', 'abst', 'accordance', 'according', 'accordingly', 'across', 'act', 'actually', 'added', 'adj', 'affected', 'affecting', 'affects', 'after', 'afterwards', 'again', 'against', 'ah', 'all', 'almost', 'alone', 'along', 'already', 'also', 'although', 'always', 'am', 'among', 'amongst', 'an', 'and', 'announce', 'another', 'any', 'anybody', 'anyhow', 'anymore', 'anyone', 'anything', 'anyway', 'anyways', 'anywhere', 'apparently', 'approximately', 'are', 'aren', 'arent', 'arise', 'around', 'as', 'aside', 'ask', 'asking', 'at', 'auth', 'available', 'away', 'awfully', 'b', 'back', 'be', 'became', 'because', 'become', 'becomes', 'becoming', 'been', 'before', 'beforehand', 'begin', 'beginning', 'beginnings', 'begins', 'behind', 'being', 'believe', 'below', 'beside', 'besides', 'between', 'beyond', 'biol', 'both', 'brief', 'briefly', 'but', 'by', 'c', 'ca', 'came', 'can', 'cannot', \"can't\", 'cause', 'causes', 'certain', 'certainly', 'co', 'com', 'come', 'comes', 'contain', 'containing', 'contains', 'could', 'couldnt', 'd', 'date', 'did', \"didn't\", 'different', 'do', 'does', \"doesn't\", 'doing', 'done', \"don't\", 'down', 'downwards', 'due', 'during', 'e', 'each', 'ed', 'edu', 'effect', 'eg', 'eight', 'eighty', 'either', 'else', 'elsewhere', 'end', 'ending', 'enough', 'especially', 'et', 'et-al', 'etc', 'even', 'ever', 'every', 'everybody', 'everyone', 'everything', 'everywhere', 'ex', 'except', 'f', 'far', 'few', 'ff', 'fifth', 'first', 'five', 'fix', 'followed', 'following', 'follows', 'for', 'former', 'formerly', 'forth', 'found', 'four', 'from', 'further', 'furthermore', 'g', 'gave', 'get', 'gets', 'getting', 'give', 'given', 'gives', 'giving', 'go', 'goes', 'gone', 'got', 'gotten', 'h', 'had', 'happens', 'hardly', 'has', \"hasn't\", 'have', \"haven't\", 'having', 'he', 'hed', 'hence', 'her', 'here', 'hereafter', 'hereby', 'herein', 'heres', 'hereupon', 'hers', 'herself', 'hes', 'hi', 'hid', 'him', 'himself', 'his', 'hither', 'home', 'how', 'howbeit', 'however', 'hundred', 'i', 'id', 'ie', 'if', \"i'll\", 'im', 'immediate', 'immediately', 'importance', 'important', 'in', 'inc', 'indeed', 'index', 'information', 'instead', 'into', 'invention', 'inward', 'is', \"isn't\", 'it', 'itd', \"it'll\", 'its', 'itself', \"i've\", 'j', 'just', 'k', 'keep\\tkeeps', 'kept', 'kg', 'km', 'know', 'known', 'knows', 'l', 'largely', 'last', 'lately', 'later', 'latter', 'latterly', 'least', 'less', 'lest', 'let', 'lets', 'like', 'liked', 'likely', 'line', 'little', \"'ll\", 'look', 'looking', 'looks', 'ltd', 'm', 'made', 'mainly', 'make', 'makes', 'many', 'may', 'maybe', 'me', 'mean', 'means', 'meantime', 'meanwhile', 'merely', 'mg', 'might', 'million', 'miss', 'ml', 'more', 'moreover', 'most', 'mostly', 'mr', 'mrs', 'much', 'mug', 'must', 'my', 'myself', 'n', 'na', 'name', 'namely', 'nay', 'nd', 'near', 'nearly', 'necessarily', 'necessary', 'need', 'needs', 'neither', 'never', 'nevertheless', 'new', 'next', 'nine', 'ninety', 'no', 'nobody', 'non', 'none', 'nonetheless', 'noone', 'nor', 'normally', 'nos', 'not', 'noted', 'nothing', 'now', 'nowhere', 'o', 'obtain', 'obtained', 'obviously', 'of', 'off', 'often', 'oh', 'ok', 'okay', 'old', 'omitted', 'on', 'once', 'one', 'ones', 'only', 'onto', 'or', 'ord', 'other', 'others', 'otherwise', 'ought', 'our', 'ours', 'ourselves', 'out', 'outside', 'over', 'overall', 'owing', 'own', 'p', 'page', 'pages', 'part', 'particular', 'particularly', 'past', 'per', 'perhaps', 'placed', 'please', 'plus', 'poorly', 'possible', 'possibly', 'potentially', 'pp', 'predominantly', 'present', 'previously', 'primarily', 'probably', 'promptly', 'proud', 'provides', 'put', 'q', 'que', 'quickly', 'quite', 'qv', 'r', 'ran', 'rather', 'rd', 're', 'readily', 'really', 'recent', 'recently', 'ref', 'refs', 'regarding', 'regardless', 'regards', 'related', 'relatively', 'research', 'respectively', 'resulted', 'resulting', 'results', 'right', 'run', 's', 'said', 'same', 'saw', 'say', 'saying', 'says', 'sec', 'section', 'see', 'seeing', 'seem', 'seemed', 'seeming', 'seems', 'seen', 'self', 'selves', 'sent', 'seven', 'several', 'shall', 'she', 'shed', \"she'll\", 'shes', 'should', \"shouldn't\", 'show', 'showed', 'shown', 'showns', 'shows', 'significant', 'significantly', 'similar', 'similarly', 'since', 'six', 'slightly', 'so', 'some', 'somebody', 'somehow', 'someone', 'somethan', 'something', 'sometime', 'sometimes', 'somewhat', 'somewhere', 'soon', 'sorry', 'specifically', 'specified', 'specify', 'specifying', 'still', 'stop', 'strongly', 'sub', 'substantially', 'successfully', 'such', 'sufficiently', 'suggest', 'sup', 'sure\\tt', 'take', 'taken', 'taking', 'tell', 'tends', 'th', 'than', 'thank', 'thanks', 'thanx', 'that', \"that'll\", 'thats', \"that've\", 'the', 'their', 'theirs', 'them', 'themselves', 'then', 'thence', 'there', 'thereafter', 'thereby', 'thered', 'therefore', 'therein', \"there'll\", 'thereof', 'therere', 'theres', 'thereto', 'thereupon', \"there've\", 'these', 'they', 'theyd', \"they'll\", 'theyre', \"they've\", 'think', 'this', 'those', 'thou', 'though', 'thoughh', 'thousand', 'throug', 'through', 'throughout', 'thru', 'thus', 'til', 'tip', 'to', 'together', 'too', 'took', 'toward', 'towards', 'tried', 'tries', 'truly', 'try', 'trying', 'ts', 'twice', 'two', 'u', 'un', 'under', 'unfortunately', 'unless', 'unlike', 'unlikely', 'until', 'unto', 'up', 'upon', 'ups', 'us', 'use', 'used', 'useful', 'usefully', 'usefulness', 'uses', 'using', 'usually', 'v', 'value', 'various', \"'ve\", 'very', 'via', 'viz', 'vol', 'vols', 'vs', 'w', 'want', 'wants', 'was', 'wasnt', 'way', 'we', 'wed', 'welcome', \"we'll\", 'went', 'were', 'werent', \"we've\", 'what', 'whatever', \"what'll\", 'whats', 'when', 'whence', 'whenever', 'where', 'whereafter', 'whereas', 'whereby', 'wherein', 'wheres', 'whereupon', 'wherever', 'whether', 'which', 'while', 'whim', 'whither', 'who', 'whod', 'whoever', 'whole', \"who'll\", 'whom', 'whomever', 'whos', 'whose', 'why', 'widely', 'willing', 'wish', 'with', 'within', 'without', 'wont', 'words', 'world', 'would', 'wouldnt', 'www', 'x', 'y', 'yes', 'yet', 'you', 'youd', \"you'll\", 'your', 'youre', 'yours', 'yourself', 'yourselves', \"you've\", 'z', 'zer']\n"
     ]
    }
   ],
   "source": [
    "\n",
    "f = open(\"stopwords.txt\",'r')\n",
    "line = f.readline()\n",
    "stop_words =[]\n",
    "\n",
    "while line:\n",
    "    word = line[:-1]\n",
    "    stop_words.append(word)\n",
    "    line = f.readline()\n",
    "    \n",
    "print(stop_words)\n",
    "\n",
    "f.close()"
   ]
  },
  {
   "cell_type": "code",
   "execution_count": 272,
   "metadata": {},
   "outputs": [
    {
     "name": "stdout",
     "output_type": "stream",
     "text": [
      "['happy', 'join', 'today', 'will', 'history', 'greatest', 'demonstration', 'freedom', 'history', 'nation', 'score', 'years', 'ago', 'great', 'american', 'symbolic', 'shadow', 'stand', 'today', 'signed', 'emancipation', 'proclamation', 'momentous', 'decree', 'great', 'beacon', 'light', 'hope', 'millions', 'negro', 'slaves', 'seared', 'flames', 'withering', 'injustice', 'joyous', 'daybreak', 'long', 'night', 'captivity', 'years', 'negro', 'free', 'years', 'life', 'negro', 'sadly', 'crippled', 'manacles', 'segregation', 'chains', 'discrimination', 'years', 'negro', 'lives', 'lonely', 'island', 'poverty', 'midst', 'vast', 'ocean', 'material', 'prosperity', 'years', 'negro', 'languished', 'corners', 'american', 'society', 'finds', 'exile', 'land', 'today', 'dramatize', 'shameful', 'condition', 'sense', \"nation's\", 'capital', 'cash', 'check', 'architects', 'republic', 'wrote', 'magnificent', 'constitution', 'declaration', 'independence', 'signing', 'promissory', 'note', 'american', 'fall', 'heir', 'note', 'promise', 'men', 'black', 'men', 'well', 'white', 'men', 'guaranteed', '\"unalienable', 'rights\"', '\"life', 'liberty', 'pursuit', 'happiness.', 'obvious', 'today', 'america', 'defaulted', 'promissory', 'note', 'insofar', 'citizens', 'color', 'concerned', 'honoring', 'sacred', 'obligation', 'america', 'negro', 'people', 'bad', 'check', 'check', 'marked', '\"insufficient', 'funds.', 'refuse', 'bank', 'justice', 'bankrupt', 'refuse', 'insufficient', 'funds', 'great', 'vaults', 'opportunity', 'nation', 'cash', 'check', 'check', 'will', 'demand', 'riches', 'freedom', 'security', 'justice', 'hallowed', 'spot', 'remind', 'america', 'fierce', 'urgency', 'time', 'engage', 'luxury', 'cooling', 'tranquilizing', 'drug', 'gradualism', 'time', 'real', 'promises', 'democracy', 'time', 'rise', 'dark', 'desolate', 'valley', 'segregation', 'sunlit', 'path', 'racial', 'justice', 'time', 'lift', 'nation', 'quicksands', 'racial', 'injustice', 'solid', 'rock', 'brotherhood', 'time', 'justice', 'reality', \"god's\", 'children', 'fatal', 'nation', 'overlook', 'urgency', 'moment', 'sweltering', 'summer', \"negro's\", 'legitimate', 'discontent', 'will', 'pass', 'invigorating', 'autumn', 'freedom', 'equality', 'nineteen', 'sixty-three', 'hope', 'negro', 'needed', 'blow', 'steam', 'will', 'content', 'will', 'rude', 'awakening', 'nation', 'returns', 'business', 'usual', 'will', 'rest', 'tranquility', 'america', 'negro', 'granted', 'citizenship', 'rights', 'whirlwinds', 'revolt', 'will', 'continue', 'shake', 'foundations', 'nation', 'bright', 'day', 'justice', 'emerges', 'people', 'stand', 'warm', 'threshold', 'leads', 'palace', 'justice:', 'process', 'gaining', 'rightful', 'place', 'guilty', 'wrongful', 'deeds', 'seek', 'satisfy', 'thirst', 'freedom', 'drinking', 'cup', 'bitterness', 'hatred', 'forever', 'conduct', 'struggle', 'high', 'plane', 'dignity', 'discipline', 'allow', 'creative', 'protest', 'degenerate', 'physical', 'violence', 'rise', 'majestic', 'heights', 'meeting', 'physical', 'force', 'soul', 'force', 'marvelous', 'militancy', 'engulfed', 'negro', 'community', 'lead', 'distrust', 'white', 'people', 'white', 'brothers', 'evidenced', 'presence', 'today', 'realize', 'destiny', 'tied', 'destiny', 'realize', 'freedom', 'inextricably', 'bound', 'freedom', 'walk', 'walk', 'pledge', 'march', 'ahead', 'turn', 'devotees', 'civil', 'rights', '\"when', 'will', 'satisfied?\"', 'satisfied', 'long', 'negro', 'victim', 'unspeakable', 'horrors', 'police', 'brutality', 'satisfied', 'long', 'bodies', 'heavy', 'fatigue', 'travel', 'gain', 'lodging', 'motels', 'highways', 'hotels', 'cities', '*we', 'satisfied', 'long', \"negro's\", 'basic', 'mobility', 'smaller', 'ghetto', 'larger', 'satisfied', 'long', 'children', 'stripped', 'self-hood', 'robbed', 'dignity', 'signs', 'stating:', '\"for', 'whites', 'only.\"', 'satisfied', 'long', 'negro', 'mississippi', 'vote', 'negro', 'york', 'believes', 'vote', 'satisfied', 'will', 'satisfied', '\"justice', 'rolls', 'waters', 'righteousness', 'mighty', 'stream.\"', 'unmindful', 'great', 'trials', 'tribulations', 'fresh', 'narrow', 'jail', 'cells', 'areas', 'quest', '--', 'quest', 'freedom', 'left', 'battered', 'storms', 'persecution', 'staggered', 'winds', 'police', 'brutality', 'veterans', 'creative', 'suffering', 'continue', 'work', 'faith', 'unearned', 'suffering', 'redemptive', 'mississippi', 'alabama', 'south', 'carolina', 'georgia', 'louisiana', 'slums', 'ghettos', 'northern', 'cities', 'knowing', 'situation', 'will', 'changed', 'wallow', 'valley', 'despair', 'today', 'friends', 'face', 'difficulties', 'today', 'tomorrow', 'dream', 'dream', 'deeply', 'rooted', 'american', 'dream', 'dream', 'day', 'nation', 'will', 'rise', 'live', 'true', 'meaning', 'creed:', '\"we', 'hold', 'truths', 'self-evident', 'men', 'created', 'equal.', 'dream', 'day', 'red', 'hills', 'georgia', 'sons', 'slaves', 'sons', 'slave', 'owners', 'will', 'sit', 'table', 'brotherhood', 'dream', 'day', 'state', 'mississippi', 'state', 'sweltering', 'heat', 'injustice', 'sweltering', 'heat', 'oppression', 'will', 'transformed', 'oasis', 'freedom', 'justice', 'dream', 'children', 'will', 'day', 'live', 'nation', 'will', 'judged', 'color', 'skin', 'content', 'character', 'dream', 'today', 'dream', 'day', 'alabama', 'vicious', 'racists', 'governor', 'lips', 'dripping', '\"interposition\"', '\"nullification\"', '--', 'day', 'alabama', 'black', 'boys', 'black', 'girls', 'will', 'join', 'hands', 'white', 'boys', 'white', 'girls', 'sisters', 'brothers', 'dream', 'today', 'dream', 'day', 'valley', 'exalted', 'hill', 'mountain', 'low', 'rough', 'places', 'will', 'plain', 'crooked', 'places', 'will', 'straight;', '\"and', 'glory', 'lord', 'revealed', 'flesh', 'together.\"', 'hope', 'faith', 'south', 'faith', 'will', 'hew', 'mountain', 'despair', 'stone', 'hope', 'faith', 'will', 'transform', 'jangling', 'discords', 'nation', 'beautiful', 'symphony', 'brotherhood', 'faith', 'will', 'work', 'pray', 'struggle', 'jail', 'stand', 'freedom', 'knowing', 'will', 'free', 'day', 'will', 'day', '--', 'will', 'day', \"god's\", 'children', 'will', 'sing', 'meaning:', 'country', \"'tis\", 'thee', 'sweet', 'land', 'liberty', 'thee', 'sing', 'land', 'fathers', 'died', 'land', \"pilgrim's\", 'pride', 'mountainside', 'freedom', 'ring', 'america', 'great', 'nation', 'true', 'freedom', 'ring', 'prodigious', 'hilltops', 'hampshire', 'freedom', 'ring', 'mighty', 'mountains', 'york', 'freedom', 'ring', 'heightening', 'alleghenies', 'pennsylvania', 'freedom', 'ring', 'snow-capped', 'rockies', 'colorado', 'freedom', 'ring', 'curvaceous', 'slopes', 'california', 'that:', 'freedom', 'ring', 'stone', 'mountain', 'georgia', 'freedom', 'ring', 'lookout', 'mountain', 'tennessee', 'freedom', 'ring', 'hill', 'molehill', 'mississippi', 'mountainside', 'freedom', 'ring', 'allow', 'freedom', 'ring', 'ring', 'village', 'hamlet', 'state', 'city', 'will', 'speed', 'day', \"god's\", 'children', 'black', 'men', 'white', 'men', 'jews', 'gentiles', 'protestants', 'catholics', 'will', 'join', 'hands', 'sing', 'negro', 'spiritual:', 'free', 'free', 'god', 'almighty', 'free']\n"
     ]
    }
   ],
   "source": [
    "# b=['a','b','c','d','a','b']\n",
    "# d=['a','b']\n",
    "c=[]\n",
    "\n",
    "\n",
    "\n",
    "for i in range(len(in_words)):\n",
    "    if in_words[i] not in stop_words:\n",
    "        c.append(in_words[i])\n",
    "        \n",
    "print(c)\n",
    "\n",
    "\n",
    "\n",
    "\n",
    "\n",
    "# f = open(\"stopwords.txt\",'r')\n",
    "# line = f.readline()\n",
    "# words =[]\n",
    "\n",
    "# while line:\n",
    "#     word = line[:-1]\n",
    "#     words.append(word)\n",
    "#     line = f.readline()\n",
    "    \n",
    "# print(words)"
   ]
  },
  {
   "cell_type": "code",
   "execution_count": 281,
   "metadata": {},
   "outputs": [
    {
     "name": "stdout",
     "output_type": "stream",
     "text": [
      "1\n",
      "[('join', 3), ('today', 9), ('will', 27), ('history', 2), ('freedom', 20), ('nation', 10), ('years', 5), ('great', 5), ('american', 4), ('stand', 3), ('hope', 4), ('negro', 13), ('slaves', 2), ('injustice', 3), ('long', 6), ('free', 5), ('segregation', 2), ('land', 4), ('cash', 2), ('check', 5), ('promissory', 2), ('note', 3), ('men', 6), ('black', 4), ('white', 6), ('liberty', 2), ('america', 5), ('color', 2), ('people', 3), ('refuse', 2), ('justice', 6), ('urgency', 2), ('time', 5), ('rise', 3), ('valley', 3), ('racial', 2), ('brotherhood', 3), (\"god's\", 3), ('children', 5), ('sweltering', 3), (\"negro's\", 2), ('content', 2), ('rights', 2), ('continue', 2), ('day', 12), ('struggle', 2), ('dignity', 2), ('allow', 2), ('creative', 2), ('physical', 2), ('force', 2), ('brothers', 2), ('realize', 2), ('destiny', 2), ('walk', 2), ('satisfied', 7), ('police', 2), ('brutality', 2), ('cities', 2), ('mississippi', 4), ('vote', 2), ('york', 2), ('mighty', 2), ('jail', 2), ('quest', 2), ('--', 3), ('suffering', 2), ('work', 2), ('faith', 5), ('alabama', 3), ('south', 2), ('georgia', 3), ('knowing', 2), ('despair', 2), ('dream', 11), ('live', 2), ('true', 2), ('sons', 2), ('state', 3), ('heat', 2), ('boys', 2), ('girls', 2), ('hands', 2), ('hill', 2), ('mountain', 4), ('places', 2), ('stone', 2), ('sing', 3), ('thee', 2), ('mountainside', 2), ('ring', 12)]\n"
     ]
    }
   ],
   "source": [
    "d={}\n",
    "x=list(c)\n",
    "for a in x:\n",
    "    x=a.lower()\n",
    "    if x not in ' ':\n",
    "        try:\n",
    "            d[x] += 1\n",
    "        except KeyError:\n",
    "            d[x] = 1\n",
    "\n",
    "\n",
    "print(d[\"happy\"])\n",
    "\n",
    "\n",
    "ans = []\n",
    "\n",
    "for i in d:\n",
    "    if d[i] > min_num:\n",
    "        ans.append((i,d[i]))\n",
    "        \n",
    "print(ans)"
   ]
  },
  {
   "cell_type": "code",
   "execution_count": null,
   "metadata": {},
   "outputs": [],
   "source": []
  },
  {
   "cell_type": "code",
   "execution_count": 301,
   "metadata": {},
   "outputs": [],
   "source": [
    "def txt_word_count(x,y,z):\n",
    "    # x는 txt ,y 는 삭제할 단어 txt, z는 숫자 (몇번 이상 등장)\n",
    "    \n",
    "    f = open('{}.txt'.format(x),'r')\n",
    "    line = f.readline()\n",
    "    in_words=[]\n",
    "\n",
    "\n",
    "    while line:\n",
    "        a=line.split()\n",
    "        for k in range(len(a)):\n",
    "            a[k]=a[k].lower()\n",
    "        in_words = in_words+a\n",
    "        line = f.readline()\n",
    "# x불러오기\n",
    "\n",
    "\n",
    "    for i in range(len(in_words)):\n",
    "        if '.' in in_words[i] or',' in in_words[i] or'!' in in_words[i]:\n",
    "            in_words[i] = in_words[i][:-1]\n",
    "# x전처리\n",
    "\n",
    "\n",
    "    f.close()\n",
    "\n",
    "# y불러오기 및 전처리\n",
    "\n",
    "    f = open(\"{}.txt\".format(y),'r')\n",
    "    line = f.readline()\n",
    "    stop_words =[]\n",
    "\n",
    "\n",
    "    while line:\n",
    "        word = line[:-1]\n",
    "        stop_words.append(word)\n",
    "        line = f.readline()\n",
    "\n",
    "\n",
    "    f.close()\n",
    "    \n",
    "    c=[]\n",
    "\n",
    "\n",
    "# x중 y에 속한단어 뺀것을 d로\n",
    "    for i in range(len(in_words)):\n",
    "        if in_words[i] not in stop_words:\n",
    "            c.append(in_words[i])\n",
    "    \n",
    "    d={}\n",
    "    x=list(c)\n",
    "    for a in x:\n",
    "        x=a.lower()\n",
    "        if x not in ' ':\n",
    "            try:\n",
    "                d[x] += 1\n",
    "            except KeyError:\n",
    "                d[x] = 1\n",
    "\n",
    "    ans = []\n",
    "\n",
    "# d에서 z이상 숫자만 리턴\n",
    "    for i in d:\n",
    "        if d[i] > z:\n",
    "            ans.append((i,d[i]))\n",
    "\n",
    "    return ans"
   ]
  },
  {
   "cell_type": "code",
   "execution_count": 302,
   "metadata": {},
   "outputs": [
    {
     "data": {
      "text/plain": [
       "[('will', 27),\n",
       " ('freedom', 20),\n",
       " ('negro', 13),\n",
       " ('day', 12),\n",
       " ('dream', 11),\n",
       " ('ring', 12)]"
      ]
     },
     "execution_count": 302,
     "metadata": {},
     "output_type": "execute_result"
    }
   ],
   "source": [
    "txt_word_count(\"ihaveadream\",\"stopwords\",10)"
   ]
  },
  {
   "cell_type": "code",
   "execution_count": null,
   "metadata": {},
   "outputs": [],
   "source": []
  },
  {
   "cell_type": "code",
   "execution_count": null,
   "metadata": {},
   "outputs": [],
   "source": []
  },
  {
   "cell_type": "code",
   "execution_count": null,
   "metadata": {},
   "outputs": [],
   "source": []
  },
  {
   "cell_type": "code",
   "execution_count": 321,
   "metadata": {},
   "outputs": [
    {
     "name": "stdout",
     "output_type": "stream",
     "text": [
      "[[45, 21, 11, 70, 26, 5], [91, 61, 34, 78, 38, 84], [19, 55, 7, 49, 58, 98], [78, 74, 5, 95, 19, 34], [38, 20, 29, 77, 8, 17], [27, 45, 93, 80, 55, 13]]\n"
     ]
    }
   ],
   "source": [
    "from random import *\n",
    "\n",
    "n = randint(6,31)\n",
    "board =[]\n",
    "\n",
    "n=7\n",
    "\n",
    "\n",
    "for i in range(1,n):\n",
    "    b=[]\n",
    "    for m in range(1,n):\n",
    "        a = randint(0,100)\n",
    "        b.append(a)\n",
    "    board.append(b)\n",
    "print(board)\n",
    "\n",
    "basket=[]"
   ]
  },
  {
   "cell_type": "code",
   "execution_count": 394,
   "metadata": {},
   "outputs": [],
   "source": [
    "def pick(x):\n",
    "    if len(board[x]) ==0:\n",
    "        print(\"no more\")\n",
    "    elif basket == []:\n",
    "        basket.append(board[x][0])        \n",
    "        board[x].remove(board[x][0])\n",
    "    elif board[x][0] == basket[-1]:\n",
    "        basket.pop()\n",
    "        board[x].remove(board[x][0])\n",
    "\n",
    "    else:\n",
    "        basket.append(board[x][0])        \n",
    "        board[x].remove(board[x][0])\n",
    "        \n",
    "    return basket\n",
    "    "
   ]
  },
  {
   "cell_type": "code",
   "execution_count": 399,
   "metadata": {},
   "outputs": [
    {
     "data": {
      "text/plain": [
       "[1, 2, 3, 1, 2]"
      ]
     },
     "execution_count": 399,
     "metadata": {},
     "output_type": "execute_result"
    }
   ],
   "source": [
    "pick(0)"
   ]
  },
  {
   "cell_type": "code",
   "execution_count": 366,
   "metadata": {},
   "outputs": [
    {
     "name": "stdout",
     "output_type": "stream",
     "text": [
      "[]\n",
      "h\n"
     ]
    }
   ],
   "source": [
    "a=[]\n",
    "print(a)\n",
    "\n",
    "if a ==[]:\n",
    "    print('h')"
   ]
  },
  {
   "cell_type": "code",
   "execution_count": null,
   "metadata": {},
   "outputs": [],
   "source": []
  },
  {
   "cell_type": "code",
   "execution_count": null,
   "metadata": {},
   "outputs": [],
   "source": []
  },
  {
   "cell_type": "code",
   "execution_count": null,
   "metadata": {},
   "outputs": [],
   "source": []
  },
  {
   "cell_type": "code",
   "execution_count": null,
   "metadata": {},
   "outputs": [],
   "source": []
  },
  {
   "cell_type": "code",
   "execution_count": null,
   "metadata": {},
   "outputs": [],
   "source": []
  },
  {
   "cell_type": "code",
   "execution_count": null,
   "metadata": {},
   "outputs": [],
   "source": []
  }
 ],
 "metadata": {
  "kernelspec": {
   "display_name": "Python 3",
   "language": "python",
   "name": "python3"
  },
  "language_info": {
   "codemirror_mode": {
    "name": "ipython",
    "version": 3
   },
   "file_extension": ".py",
   "mimetype": "text/x-python",
   "name": "python",
   "nbconvert_exporter": "python",
   "pygments_lexer": "ipython3",
   "version": "3.7.6"
  }
 },
 "nbformat": 4,
 "nbformat_minor": 4
}
