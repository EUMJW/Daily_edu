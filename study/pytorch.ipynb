{
 "cells": [
  {
   "cell_type": "code",
   "execution_count": 28,
   "metadata": {},
   "outputs": [],
   "source": [
    "import torch\n",
    "import random"
   ]
  },
  {
   "cell_type": "code",
   "execution_count": 2,
   "metadata": {},
   "outputs": [
    {
     "name": "stdout",
     "output_type": "stream",
     "text": [
      "tensor(32.)\n",
      "l을 w로 미분한 값은 : 32.0\n"
     ]
    }
   ],
   "source": [
    "w = torch.tensor(1.0, requires_grad=True)\n",
    "\n",
    "a = w*4\n",
    "\n",
    "l = a**2\n",
    "\n",
    "l.backward()\n",
    "\n",
    "print(w.grad)\n",
    "\n",
    "print(f'l을 w로 미분한 값은 : {w.grad}')"
   ]
  },
  {
   "cell_type": "code",
   "execution_count": 3,
   "metadata": {},
   "outputs": [
    {
     "name": "stdout",
     "output_type": "stream",
     "text": [
      "tensor([[1, 2, 3],\n",
      "        [4, 5, 6],\n",
      "        [7, 8, 9]])\n"
     ]
    }
   ],
   "source": [
    "x = torch.tensor([[1,2,3],[4,5,6],[7,8,9]])\n",
    "\n",
    "print(x)"
   ]
  },
  {
   "cell_type": "code",
   "execution_count": 4,
   "metadata": {},
   "outputs": [
    {
     "name": "stdout",
     "output_type": "stream",
     "text": [
      "torch.Size([3, 3])\n",
      "torch.Size([3, 3])\n",
      "2\n"
     ]
    }
   ],
   "source": [
    "print(x.size())\n",
    "print(x.shape)\n",
    "print(x.ndimension())"
   ]
  },
  {
   "cell_type": "code",
   "execution_count": 22,
   "metadata": {},
   "outputs": [
    {
     "name": "stdout",
     "output_type": "stream",
     "text": [
      "torch.Size([1, 1, 1, 1, 3, 3])\n"
     ]
    }
   ],
   "source": [
    "x = torch.unsqueeze(x,0)\n",
    "print(x.shape)"
   ]
  },
  {
   "cell_type": "code",
   "execution_count": 23,
   "metadata": {},
   "outputs": [
    {
     "name": "stdout",
     "output_type": "stream",
     "text": [
      "torch.Size([1, 1, 1, 3, 3])\n"
     ]
    }
   ],
   "source": [
    "x = torch.squeeze(x,3)\n",
    "\n",
    "print(x.shape)"
   ]
  },
  {
   "cell_type": "code",
   "execution_count": 24,
   "metadata": {},
   "outputs": [
    {
     "name": "stdout",
     "output_type": "stream",
     "text": [
      "tensor([1, 2, 3, 4, 5, 6, 7, 8, 9])\n",
      "torch.Size([9])\n"
     ]
    }
   ],
   "source": [
    "x = x.view(9)\n",
    "print(x)\n",
    "print(x.shape)"
   ]
  },
  {
   "cell_type": "code",
   "execution_count": 25,
   "metadata": {},
   "outputs": [
    {
     "name": "stdout",
     "output_type": "stream",
     "text": [
      "tensor([[-0.8531,  0.6917,  2.1841],\n",
      "        [ 0.5856,  0.7122, -2.1384],\n",
      "        [-0.2038,  0.3334,  1.2990],\n",
      "        [ 1.9278,  0.6405,  0.7952],\n",
      "        [-0.4033,  0.5582, -0.1526]]) tensor([[1., 2.],\n",
      "        [3., 4.],\n",
      "        [5., 6.]])\n",
      "torch.Size([5, 3]) torch.Size([3, 2])\n"
     ]
    }
   ],
   "source": [
    "w = torch.randn(5,3, dtype=torch.float)\n",
    "\n",
    "x = torch.tensor([[1.0,2.0], [3.0,4.0],[5.0,6.0]])\n",
    "\n",
    "print(w,x)\n",
    "\n",
    "print(w.shape,x.shape)"
   ]
  },
  {
   "cell_type": "code",
   "execution_count": 32,
   "metadata": {},
   "outputs": [
    {
     "name": "stdout",
     "output_type": "stream",
     "text": [
      "tensor([[ 0.6161,  1.6090],\n",
      "        [ 0.5998, -0.5630],\n",
      "        [-0.4153, -0.6153],\n",
      "        [ 0.5930,  0.6684],\n",
      "        [-0.7013, -1.3172]]) \n",
      " torch.Size([5, 2]) \n",
      " torch.Size([5, 2])\n"
     ]
    }
   ],
   "source": [
    "b = torch.randn(5,2, dtype=torch.float)\n",
    "\n",
    "print(b,'\\n', b.shape, '\\n', b.size())"
   ]
  },
  {
   "cell_type": "code",
   "execution_count": 35,
   "metadata": {},
   "outputs": [
    {
     "name": "stdout",
     "output_type": "stream",
     "text": [
      "tensor([[12.7587, 15.7742],\n",
      "        [-7.3702, -9.3736],\n",
      "        [ 6.8763,  8.1049],\n",
      "        [ 8.4182, 11.8570],\n",
      "        [-0.1931, -0.8066]])\n"
     ]
    }
   ],
   "source": [
    "result = torch.mm(w,x) + b\n",
    "\n",
    "print(result)"
   ]
  },
  {
   "cell_type": "code",
   "execution_count": null,
   "metadata": {},
   "outputs": [],
   "source": []
  }
 ],
 "metadata": {
  "kernelspec": {
   "display_name": "Python 3",
   "language": "python",
   "name": "python3"
  },
  "language_info": {
   "codemirror_mode": {
    "name": "ipython",
    "version": 3
   },
   "file_extension": ".py",
   "mimetype": "text/x-python",
   "name": "python",
   "nbconvert_exporter": "python",
   "pygments_lexer": "ipython3",
   "version": "3.7.6"
  }
 },
 "nbformat": 4,
 "nbformat_minor": 4
}
